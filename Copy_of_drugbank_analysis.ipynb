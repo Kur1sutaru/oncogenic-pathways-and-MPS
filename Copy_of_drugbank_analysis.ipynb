{
  "nbformat": 4,
  "nbformat_minor": 0,
  "metadata": {
    "colab": {
      "name": "Copy of drugbank_analysis.ipynb",
      "provenance": []
    },
    "kernelspec": {
      "name": "python3",
      "display_name": "Python 3"
    },
    "language_info": {
      "name": "python"
    }
  },
  "cells": [
    {
      "cell_type": "code",
      "metadata": {
        "id": "-Fhrn4sse7-Q"
      },
      "source": [
        "import pandas as pd\n"
      ],
      "execution_count": null,
      "outputs": []
    },
    {
      "cell_type": "code",
      "metadata": {
        "colab": {
          "resources": {
            "http://localhost:8080/nbextensions/google.colab/files.js": {
              "data": "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",
              "ok": true,
              "headers": [
                [
                  "content-type",
                  "application/javascript"
                ]
              ],
              "status": 200,
              "status_text": ""
            }
          },
          "base_uri": "https://localhost:8080/",
          "height": 73
        },
        "id": "lwTW1GjqfeIT",
        "outputId": "eaefa7dd-5e32-4013-b662-6348af4bd843"
      },
      "source": [
        "from google.colab import files\n",
        "uploaded = files.upload()"
      ],
      "execution_count": null,
      "outputs": [
        {
          "output_type": "display_data",
          "data": {
            "text/html": [
              "\n",
              "     <input type=\"file\" id=\"files-8bdac1f2-8a31-4cf8-824f-dbd53bc31caf\" name=\"files[]\" multiple disabled\n",
              "        style=\"border:none\" />\n",
              "     <output id=\"result-8bdac1f2-8a31-4cf8-824f-dbd53bc31caf\">\n",
              "      Upload widget is only available when the cell has been executed in the\n",
              "      current browser session. Please rerun this cell to enable.\n",
              "      </output>\n",
              "      <script src=\"/nbextensions/google.colab/files.js\"></script> "
            ],
            "text/plain": [
              "<IPython.core.display.HTML object>"
            ]
          },
          "metadata": {
            "tags": []
          }
        },
        {
          "output_type": "stream",
          "text": [
            "Saving drugbank-human.csv to drugbank-human (1).csv\n"
          ],
          "name": "stdout"
        }
      ]
    },
    {
      "cell_type": "code",
      "metadata": {
        "id": "Y_7vWFUVfqVv"
      },
      "source": [
        "dados_drugbank = pd.read_csv('drugbank-human (1).csv')"
      ],
      "execution_count": null,
      "outputs": []
    },
    {
      "cell_type": "code",
      "metadata": {
        "colab": {
          "base_uri": "https://localhost:8080/",
          "height": 203
        },
        "id": "NMvSlegpfyL3",
        "outputId": "46b12b9a-75d0-4f2a-dfff-ae97ddbf5aa6"
      },
      "source": [
        "dados_drugbank.head()"
      ],
      "execution_count": null,
      "outputs": [
        {
          "output_type": "execute_result",
          "data": {
            "text/html": [
              "<div>\n",
              "<style scoped>\n",
              "    .dataframe tbody tr th:only-of-type {\n",
              "        vertical-align: middle;\n",
              "    }\n",
              "\n",
              "    .dataframe tbody tr th {\n",
              "        vertical-align: top;\n",
              "    }\n",
              "\n",
              "    .dataframe thead th {\n",
              "        text-align: right;\n",
              "    }\n",
              "</style>\n",
              "<table border=\"1\" class=\"dataframe\">\n",
              "  <thead>\n",
              "    <tr style=\"text-align: right;\">\n",
              "      <th></th>\n",
              "      <th>GSECODE</th>\n",
              "      <th>MPS_TYPE</th>\n",
              "      <th>Symbol</th>\n",
              "      <th>DRUGBANK</th>\n",
              "      <th>EXPRESSION</th>\n",
              "      <th>MOA</th>\n",
              "      <th>REF</th>\n",
              "    </tr>\n",
              "  </thead>\n",
              "  <tbody>\n",
              "    <tr>\n",
              "      <th>0</th>\n",
              "      <td>GSE111906</td>\n",
              "      <td>MPSI</td>\n",
              "      <td>EEF1A1P11</td>\n",
              "      <td>NaN</td>\n",
              "      <td>NaN</td>\n",
              "      <td>NaN</td>\n",
              "      <td>NaN</td>\n",
              "    </tr>\n",
              "    <tr>\n",
              "      <th>1</th>\n",
              "      <td>GSE111906</td>\n",
              "      <td>MPSI</td>\n",
              "      <td>RPL10P9</td>\n",
              "      <td>NaN</td>\n",
              "      <td>NaN</td>\n",
              "      <td>NaN</td>\n",
              "      <td>NaN</td>\n",
              "    </tr>\n",
              "    <tr>\n",
              "      <th>2</th>\n",
              "      <td>GSE111906</td>\n",
              "      <td>MPSI</td>\n",
              "      <td>ZBTB12</td>\n",
              "      <td>NaN</td>\n",
              "      <td>NaN</td>\n",
              "      <td>NaN</td>\n",
              "      <td>NaN</td>\n",
              "    </tr>\n",
              "    <tr>\n",
              "      <th>3</th>\n",
              "      <td>GSE111906</td>\n",
              "      <td>MPSI</td>\n",
              "      <td>MRPL45</td>\n",
              "      <td>Copper</td>\n",
              "      <td>DOWN</td>\n",
              "      <td>[Disulfiram binds to Copper] which results in ...</td>\n",
              "      <td>https://pubmed.ncbi.nlm.nih.gov/24690739/</td>\n",
              "    </tr>\n",
              "    <tr>\n",
              "      <th>4</th>\n",
              "      <td>GSE111906</td>\n",
              "      <td>MPSI</td>\n",
              "      <td>MRPL45</td>\n",
              "      <td>Disulfiram</td>\n",
              "      <td>DOWN</td>\n",
              "      <td>[Disulfiram binds to Copper] which results in ...</td>\n",
              "      <td>https://pubmed.ncbi.nlm.nih.gov/24690739/</td>\n",
              "    </tr>\n",
              "  </tbody>\n",
              "</table>\n",
              "</div>"
            ],
            "text/plain": [
              "     GSECODE  ...                                        REF\n",
              "0  GSE111906  ...                                        NaN\n",
              "1  GSE111906  ...                                        NaN\n",
              "2  GSE111906  ...                                        NaN\n",
              "3  GSE111906  ...  https://pubmed.ncbi.nlm.nih.gov/24690739/\n",
              "4  GSE111906  ...  https://pubmed.ncbi.nlm.nih.gov/24690739/\n",
              "\n",
              "[5 rows x 7 columns]"
            ]
          },
          "metadata": {
            "tags": []
          },
          "execution_count": 20
        }
      ]
    },
    {
      "cell_type": "code",
      "metadata": {
        "colab": {
          "base_uri": "https://localhost:8080/"
        },
        "id": "9s0ZRd7HgiNb",
        "outputId": "d00a7d25-bdf0-4095-a4b5-7287918e1993"
      },
      "source": [
        "dados_drugbank.shape"
      ],
      "execution_count": null,
      "outputs": [
        {
          "output_type": "execute_result",
          "data": {
            "text/plain": [
              "(926, 7)"
            ]
          },
          "metadata": {
            "tags": []
          },
          "execution_count": 21
        }
      ]
    },
    {
      "cell_type": "code",
      "metadata": {
        "colab": {
          "base_uri": "https://localhost:8080/",
          "height": 203
        },
        "id": "duxMzEUjTyoc",
        "outputId": "471418cb-f2f5-4062-c7e2-4cbfe242cc5b"
      },
      "source": [
        "dados_drugbank.head()"
      ],
      "execution_count": null,
      "outputs": [
        {
          "output_type": "execute_result",
          "data": {
            "text/html": [
              "<div>\n",
              "<style scoped>\n",
              "    .dataframe tbody tr th:only-of-type {\n",
              "        vertical-align: middle;\n",
              "    }\n",
              "\n",
              "    .dataframe tbody tr th {\n",
              "        vertical-align: top;\n",
              "    }\n",
              "\n",
              "    .dataframe thead th {\n",
              "        text-align: right;\n",
              "    }\n",
              "</style>\n",
              "<table border=\"1\" class=\"dataframe\">\n",
              "  <thead>\n",
              "    <tr style=\"text-align: right;\">\n",
              "      <th></th>\n",
              "      <th>GSECODE</th>\n",
              "      <th>MPS TYPE</th>\n",
              "      <th>Symbol</th>\n",
              "      <th>DRUGBANK</th>\n",
              "      <th>EXPRESSION</th>\n",
              "      <th>MOA</th>\n",
              "      <th>REF</th>\n",
              "    </tr>\n",
              "  </thead>\n",
              "  <tbody>\n",
              "    <tr>\n",
              "      <th>0</th>\n",
              "      <td>GSE111906</td>\n",
              "      <td>MPSI</td>\n",
              "      <td>EEF1A1P11</td>\n",
              "      <td>NaN</td>\n",
              "      <td>NaN</td>\n",
              "      <td>NaN</td>\n",
              "      <td>NaN</td>\n",
              "    </tr>\n",
              "    <tr>\n",
              "      <th>1</th>\n",
              "      <td>GSE111906</td>\n",
              "      <td>MPSI</td>\n",
              "      <td>RPL10P9</td>\n",
              "      <td>NaN</td>\n",
              "      <td>NaN</td>\n",
              "      <td>NaN</td>\n",
              "      <td>NaN</td>\n",
              "    </tr>\n",
              "    <tr>\n",
              "      <th>2</th>\n",
              "      <td>GSE111906</td>\n",
              "      <td>MPSI</td>\n",
              "      <td>ZBTB12</td>\n",
              "      <td>NaN</td>\n",
              "      <td>NaN</td>\n",
              "      <td>NaN</td>\n",
              "      <td>NaN</td>\n",
              "    </tr>\n",
              "    <tr>\n",
              "      <th>3</th>\n",
              "      <td>GSE111906</td>\n",
              "      <td>MPSI</td>\n",
              "      <td>MRPL45</td>\n",
              "      <td>Copper</td>\n",
              "      <td>DOWN</td>\n",
              "      <td>[Disulfiram binds to Copper] which results in ...</td>\n",
              "      <td>https://pubmed.ncbi.nlm.nih.gov/24690739/</td>\n",
              "    </tr>\n",
              "    <tr>\n",
              "      <th>4</th>\n",
              "      <td>GSE111906</td>\n",
              "      <td>MPSI</td>\n",
              "      <td>MRPL45</td>\n",
              "      <td>Disulfiram</td>\n",
              "      <td>DOWN</td>\n",
              "      <td>[Disulfiram binds to Copper] which results in ...</td>\n",
              "      <td>https://pubmed.ncbi.nlm.nih.gov/24690739/</td>\n",
              "    </tr>\n",
              "  </tbody>\n",
              "</table>\n",
              "</div>"
            ],
            "text/plain": [
              "     GSECODE  ...                                        REF\n",
              "0  GSE111906  ...                                        NaN\n",
              "1  GSE111906  ...                                        NaN\n",
              "2  GSE111906  ...                                        NaN\n",
              "3  GSE111906  ...  https://pubmed.ncbi.nlm.nih.gov/24690739/\n",
              "4  GSE111906  ...  https://pubmed.ncbi.nlm.nih.gov/24690739/\n",
              "\n",
              "[5 rows x 7 columns]"
            ]
          },
          "metadata": {
            "tags": []
          },
          "execution_count": 8
        }
      ]
    },
    {
      "cell_type": "code",
      "metadata": {
        "colab": {
          "base_uri": "https://localhost:8080/"
        },
        "id": "5JA_ePNSUbP6",
        "outputId": "fd61b1e7-a170-403a-ccb3-472e358a7251"
      },
      "source": [
        "dados_drugbank.shape"
      ],
      "execution_count": null,
      "outputs": [
        {
          "output_type": "execute_result",
          "data": {
            "text/plain": [
              "(926, 7)"
            ]
          },
          "metadata": {
            "tags": []
          },
          "execution_count": 9
        }
      ]
    },
    {
      "cell_type": "code",
      "metadata": {
        "id": "Y1w7r0luaNDc"
      },
      "source": [
        "cod_drugbankgenes= dados_drugbank['Symbol'].value_counts().index[0:10]"
      ],
      "execution_count": null,
      "outputs": []
    },
    {
      "cell_type": "code",
      "metadata": {
        "colab": {
          "base_uri": "https://localhost:8080/"
        },
        "id": "5E0STd2faVAt",
        "outputId": "8c580306-c5ec-4a2b-8e38-4de51d19fd80"
      },
      "source": [
        "cod_drugbankgenes"
      ],
      "execution_count": null,
      "outputs": [
        {
          "output_type": "execute_result",
          "data": {
            "text/plain": [
              "Index(['DDIT3', 'ASNS', 'IGFBP3', 'ID3', 'PTGS1', 'S100P', 'BHLHE40',\n",
              "       'TPD52L1', 'ITPR1', 'PDK1'],\n",
              "      dtype='object')"
            ]
          },
          "metadata": {
            "tags": []
          },
          "execution_count": 16
        }
      ]
    },
    {
      "cell_type": "code",
      "metadata": {
        "colab": {
          "base_uri": "https://localhost:8080/",
          "height": 417
        },
        "id": "LPnDpy-naas-",
        "outputId": "eadeb8e7-cd14-4760-ac69-d57d4ca1fad2"
      },
      "source": [
        "dados_drugbank.query('Symbol in @cod_drugbankgenes')"
      ],
      "execution_count": null,
      "outputs": [
        {
          "output_type": "execute_result",
          "data": {
            "text/html": [
              "<div>\n",
              "<style scoped>\n",
              "    .dataframe tbody tr th:only-of-type {\n",
              "        vertical-align: middle;\n",
              "    }\n",
              "\n",
              "    .dataframe tbody tr th {\n",
              "        vertical-align: top;\n",
              "    }\n",
              "\n",
              "    .dataframe thead th {\n",
              "        text-align: right;\n",
              "    }\n",
              "</style>\n",
              "<table border=\"1\" class=\"dataframe\">\n",
              "  <thead>\n",
              "    <tr style=\"text-align: right;\">\n",
              "      <th></th>\n",
              "      <th>GSECODE</th>\n",
              "      <th>MPS TYPE</th>\n",
              "      <th>Symbol</th>\n",
              "      <th>DRUGBANK</th>\n",
              "      <th>EXPRESSION</th>\n",
              "      <th>MOA</th>\n",
              "      <th>REF</th>\n",
              "    </tr>\n",
              "  </thead>\n",
              "  <tbody>\n",
              "    <tr>\n",
              "      <th>58</th>\n",
              "      <td>GSE111906</td>\n",
              "      <td>MPSI</td>\n",
              "      <td>ID3</td>\n",
              "      <td>Stanolone</td>\n",
              "      <td>UP</td>\n",
              "      <td>Dihydrotestosterone results in increased expre...</td>\n",
              "      <td>https://pubmed.ncbi.nlm.nih.gov/16541417/</td>\n",
              "    </tr>\n",
              "    <tr>\n",
              "      <th>59</th>\n",
              "      <td>GSE111906</td>\n",
              "      <td>MPSI</td>\n",
              "      <td>ID3</td>\n",
              "      <td>Arachidonic Acid</td>\n",
              "      <td>DOWN</td>\n",
              "      <td>Arachidonic Acid results in decreased expressi...</td>\n",
              "      <td>https://pubmed.ncbi.nlm.nih.gov/16704987/</td>\n",
              "    </tr>\n",
              "    <tr>\n",
              "      <th>60</th>\n",
              "      <td>GSE111906</td>\n",
              "      <td>MPSI</td>\n",
              "      <td>ID3</td>\n",
              "      <td>Azacitidine</td>\n",
              "      <td>UP</td>\n",
              "      <td>Azacitidine results in increased expression of...</td>\n",
              "      <td>https://pubmed.ncbi.nlm.nih.gov/19194470/</td>\n",
              "    </tr>\n",
              "    <tr>\n",
              "      <th>61</th>\n",
              "      <td>GSE111906</td>\n",
              "      <td>MPSI</td>\n",
              "      <td>ID3</td>\n",
              "      <td>Azathioprine</td>\n",
              "      <td>UP</td>\n",
              "      <td>Azathioprine results in increased expression o...</td>\n",
              "      <td>https://pubmed.ncbi.nlm.nih.gov/19192274/</td>\n",
              "    </tr>\n",
              "    <tr>\n",
              "      <th>62</th>\n",
              "      <td>GSE111906</td>\n",
              "      <td>MPSI</td>\n",
              "      <td>ID3</td>\n",
              "      <td>Estradiol</td>\n",
              "      <td>DOWN</td>\n",
              "      <td>Estradiol results in decreased expression of I...</td>\n",
              "      <td>https://pubmed.ncbi.nlm.nih.gov/21185374/ http...</td>\n",
              "    </tr>\n",
              "    <tr>\n",
              "      <th>...</th>\n",
              "      <td>...</td>\n",
              "      <td>...</td>\n",
              "      <td>...</td>\n",
              "      <td>...</td>\n",
              "      <td>...</td>\n",
              "      <td>...</td>\n",
              "      <td>...</td>\n",
              "    </tr>\n",
              "    <tr>\n",
              "      <th>921</th>\n",
              "      <td>GSE32154</td>\n",
              "      <td>MPSIIIB</td>\n",
              "      <td>S100P</td>\n",
              "      <td>Silicon dioxide</td>\n",
              "      <td>NaN</td>\n",
              "      <td>Silicon Dioxide analog results in decreased ex...</td>\n",
              "      <td>A24195</td>\n",
              "    </tr>\n",
              "    <tr>\n",
              "      <th>922</th>\n",
              "      <td>GSE32154</td>\n",
              "      <td>MPSIIIB</td>\n",
              "      <td>S100P</td>\n",
              "      <td>Testosterone</td>\n",
              "      <td>NaN</td>\n",
              "      <td>Testosterone results in increased expression o...</td>\n",
              "      <td>A22301</td>\n",
              "    </tr>\n",
              "    <tr>\n",
              "      <th>923</th>\n",
              "      <td>GSE32154</td>\n",
              "      <td>MPSIIIB</td>\n",
              "      <td>S100P</td>\n",
              "      <td>Tretinoin</td>\n",
              "      <td>NaN</td>\n",
              "      <td>Tretinoin results in increased expression of S...</td>\n",
              "      <td>A24455</td>\n",
              "    </tr>\n",
              "    <tr>\n",
              "      <th>924</th>\n",
              "      <td>GSE32154</td>\n",
              "      <td>MPSIIIB</td>\n",
              "      <td>S100P</td>\n",
              "      <td>Valproic acid</td>\n",
              "      <td>NaN</td>\n",
              "      <td>Valproic Acid results in increased expression ...</td>\n",
              "      <td>A21035</td>\n",
              "    </tr>\n",
              "    <tr>\n",
              "      <th>925</th>\n",
              "      <td>GSE32154</td>\n",
              "      <td>MPSIIIB</td>\n",
              "      <td>S100P</td>\n",
              "      <td>Zinc sulfate</td>\n",
              "      <td>NaN</td>\n",
              "      <td>Zinc Sulfate results in increased expression o...</td>\n",
              "      <td>A24818</td>\n",
              "    </tr>\n",
              "  </tbody>\n",
              "</table>\n",
              "<p>409 rows × 7 columns</p>\n",
              "</div>"
            ],
            "text/plain": [
              "       GSECODE  ...                                                REF\n",
              "58   GSE111906  ...          https://pubmed.ncbi.nlm.nih.gov/16541417/\n",
              "59   GSE111906  ...          https://pubmed.ncbi.nlm.nih.gov/16704987/\n",
              "60   GSE111906  ...          https://pubmed.ncbi.nlm.nih.gov/19194470/\n",
              "61   GSE111906  ...          https://pubmed.ncbi.nlm.nih.gov/19192274/\n",
              "62   GSE111906  ...  https://pubmed.ncbi.nlm.nih.gov/21185374/ http...\n",
              "..         ...  ...                                                ...\n",
              "921   GSE32154  ...                                             A24195\n",
              "922   GSE32154  ...                                             A22301\n",
              "923   GSE32154  ...                                             A24455\n",
              "924   GSE32154  ...                                             A21035\n",
              "925   GSE32154  ...                                             A24818\n",
              "\n",
              "[409 rows x 7 columns]"
            ]
          },
          "metadata": {
            "tags": []
          },
          "execution_count": 17
        }
      ]
    },
    {
      "cell_type": "code",
      "metadata": {
        "colab": {
          "base_uri": "https://localhost:8080/",
          "height": 530
        },
        "id": "zvAnBdGl_r9u",
        "outputId": "a74ed558-3724-4b9d-b8d3-7e363335ec09"
      },
      "source": [
        "import seaborn as sns\n",
        "import matplotlib.pyplot as plt\n",
        "sns.set()\n",
        "plt.figure(figsize=(35, 12))\n",
        "ax = sns.countplot(x = 'Symbol', data=dados_drugbank.query('Symbol in @cod_drugbankgenes'), order= dados_drugbank['Symbol'].value_counts().index[0:10], palette='husl')\n",
        "ax.set_title('Top genes')\n",
        "plt.title(\"Top genes\", fontsize = 20)\n",
        "plt.xlabel(\"genes\", fontsize = 18)\n",
        "plt.ylabel(\"drugs\", fontsize = 18)\n",
        "plt.show()"
      ],
      "execution_count": null,
      "outputs": [
        {
          "output_type": "display_data",
          "data": {
            "image/png": "[encoded data removed]",
            "text/plain": [
              "<Figure size 2520x864 with 1 Axes>"
            ]
          },
          "metadata": {
            "tags": []
          }
        }
      ]
    },
    {
      "cell_type": "code",
      "metadata": {
        "id": "vjX9TLG6CHle"
      },
      "source": [
        "cod_drugs = dados_drugbank['DRUGBANK'].value_counts().index[0:10]"
      ],
      "execution_count": null,
      "outputs": []
    },
    {
      "cell_type": "code",
      "metadata": {
        "colab": {
          "base_uri": "https://localhost:8080/"
        },
        "id": "l73ENFUBCPuq",
        "outputId": "9b9cc2b9-afeb-48d1-c383-853eea8f40d8"
      },
      "source": [
        "cod_drugs"
      ],
      "execution_count": null,
      "outputs": [
        {
          "output_type": "execute_result",
          "data": {
            "text/plain": [
              "Index(['Valproic acid', 'Cyclosporine', 'Silicon dioxide', 'Tretinoin',\n",
              "       'Estradiol', 'Quercetin', 'Formaldehyde', 'Acetaminophen', 'Entinostat',\n",
              "       'Calcitriol'],\n",
              "      dtype='object')"
            ]
          },
          "metadata": {
            "tags": []
          },
          "execution_count": 20
        }
      ]
    },
    {
      "cell_type": "code",
      "metadata": {
        "colab": {
          "base_uri": "https://localhost:8080/",
          "height": 417
        },
        "id": "0jEAP46uCWPc",
        "outputId": "144db233-2d88-40bd-facb-8b19b1122732"
      },
      "source": [
        "dados_drugbank.query('DRUGBANK in @cod_drugs')"
      ],
      "execution_count": null,
      "outputs": [
        {
          "output_type": "execute_result",
          "data": {
            "text/html": [
              "<div>\n",
              "<style scoped>\n",
              "    .dataframe tbody tr th:only-of-type {\n",
              "        vertical-align: middle;\n",
              "    }\n",
              "\n",
              "    .dataframe tbody tr th {\n",
              "        vertical-align: top;\n",
              "    }\n",
              "\n",
              "    .dataframe thead th {\n",
              "        text-align: right;\n",
              "    }\n",
              "</style>\n",
              "<table border=\"1\" class=\"dataframe\">\n",
              "  <thead>\n",
              "    <tr style=\"text-align: right;\">\n",
              "      <th></th>\n",
              "      <th>GSECODE</th>\n",
              "      <th>MPS TYPE</th>\n",
              "      <th>Symbol</th>\n",
              "      <th>DRUGBANK</th>\n",
              "      <th>EXPRESSION</th>\n",
              "      <th>MOA</th>\n",
              "      <th>REF</th>\n",
              "    </tr>\n",
              "  </thead>\n",
              "  <tbody>\n",
              "    <tr>\n",
              "      <th>6</th>\n",
              "      <td>GSE111906</td>\n",
              "      <td>MPSI</td>\n",
              "      <td>MRPL45</td>\n",
              "      <td>Valproic acid</td>\n",
              "      <td>DOWN</td>\n",
              "      <td>Valproic Acid results in decreased expression ...</td>\n",
              "      <td>https://pubmed.ncbi.nlm.nih.gov/23179753/</td>\n",
              "    </tr>\n",
              "    <tr>\n",
              "      <th>10</th>\n",
              "      <td>GSE111906</td>\n",
              "      <td>MPSI</td>\n",
              "      <td>OTX1</td>\n",
              "      <td>Silicon dioxide</td>\n",
              "      <td>DOWN</td>\n",
              "      <td>Silicon Dioxide analog results in decreased ex...</td>\n",
              "      <td>https://pubmed.ncbi.nlm.nih.gov/25895662/</td>\n",
              "    </tr>\n",
              "    <tr>\n",
              "      <th>11</th>\n",
              "      <td>GSE111906</td>\n",
              "      <td>MPSI</td>\n",
              "      <td>OTX1</td>\n",
              "      <td>Valproic acid</td>\n",
              "      <td>DOWN</td>\n",
              "      <td>Valproic Acid results in decreased expression ...</td>\n",
              "      <td>NaN</td>\n",
              "    </tr>\n",
              "    <tr>\n",
              "      <th>15</th>\n",
              "      <td>GSE111906</td>\n",
              "      <td>MPSI</td>\n",
              "      <td>ZNRD1</td>\n",
              "      <td>Quercetin</td>\n",
              "      <td>DOWN</td>\n",
              "      <td>Quercetin results in decreased expression of Z...</td>\n",
              "      <td>https://clincancerres.aacrjournals.org/content...</td>\n",
              "    </tr>\n",
              "    <tr>\n",
              "      <th>16</th>\n",
              "      <td>GSE111906</td>\n",
              "      <td>MPSI</td>\n",
              "      <td>ZNRD1</td>\n",
              "      <td>Valproic acid</td>\n",
              "      <td>DOWN</td>\n",
              "      <td>Valproic Acid results in decreased expression ...</td>\n",
              "      <td>https://pubmed.ncbi.nlm.nih.gov/27188386/</td>\n",
              "    </tr>\n",
              "    <tr>\n",
              "      <th>...</th>\n",
              "      <td>...</td>\n",
              "      <td>...</td>\n",
              "      <td>...</td>\n",
              "      <td>...</td>\n",
              "      <td>...</td>\n",
              "      <td>...</td>\n",
              "      <td>...</td>\n",
              "    </tr>\n",
              "    <tr>\n",
              "      <th>910</th>\n",
              "      <td>GSE32154</td>\n",
              "      <td>MPSIIIB</td>\n",
              "      <td>S100P</td>\n",
              "      <td>Entinostat</td>\n",
              "      <td>NaN</td>\n",
              "      <td>entinostat results in increased expression of ...</td>\n",
              "      <td>A21035</td>\n",
              "    </tr>\n",
              "    <tr>\n",
              "      <th>919</th>\n",
              "      <td>GSE32154</td>\n",
              "      <td>MPSIIIB</td>\n",
              "      <td>S100P</td>\n",
              "      <td>Quercetin</td>\n",
              "      <td>NaN</td>\n",
              "      <td>Quercetin results in decreased expression of S...</td>\n",
              "      <td>A23737</td>\n",
              "    </tr>\n",
              "    <tr>\n",
              "      <th>921</th>\n",
              "      <td>GSE32154</td>\n",
              "      <td>MPSIIIB</td>\n",
              "      <td>S100P</td>\n",
              "      <td>Silicon dioxide</td>\n",
              "      <td>NaN</td>\n",
              "      <td>Silicon Dioxide analog results in decreased ex...</td>\n",
              "      <td>A24195</td>\n",
              "    </tr>\n",
              "    <tr>\n",
              "      <th>923</th>\n",
              "      <td>GSE32154</td>\n",
              "      <td>MPSIIIB</td>\n",
              "      <td>S100P</td>\n",
              "      <td>Tretinoin</td>\n",
              "      <td>NaN</td>\n",
              "      <td>Tretinoin results in increased expression of S...</td>\n",
              "      <td>A24455</td>\n",
              "    </tr>\n",
              "    <tr>\n",
              "      <th>924</th>\n",
              "      <td>GSE32154</td>\n",
              "      <td>MPSIIIB</td>\n",
              "      <td>S100P</td>\n",
              "      <td>Valproic acid</td>\n",
              "      <td>NaN</td>\n",
              "      <td>Valproic Acid results in increased expression ...</td>\n",
              "      <td>A21035</td>\n",
              "    </tr>\n",
              "  </tbody>\n",
              "</table>\n",
              "<p>331 rows × 7 columns</p>\n",
              "</div>"
            ],
            "text/plain": [
              "       GSECODE  ...                                                REF\n",
              "6    GSE111906  ...          https://pubmed.ncbi.nlm.nih.gov/23179753/\n",
              "10   GSE111906  ...          https://pubmed.ncbi.nlm.nih.gov/25895662/\n",
              "11   GSE111906  ...                                                NaN\n",
              "15   GSE111906  ...  https://clincancerres.aacrjournals.org/content...\n",
              "16   GSE111906  ...          https://pubmed.ncbi.nlm.nih.gov/27188386/\n",
              "..         ...  ...                                                ...\n",
              "910   GSE32154  ...                                             A21035\n",
              "919   GSE32154  ...                                             A23737\n",
              "921   GSE32154  ...                                             A24195\n",
              "923   GSE32154  ...                                             A24455\n",
              "924   GSE32154  ...                                             A21035\n",
              "\n",
              "[331 rows x 7 columns]"
            ]
          },
          "metadata": {
            "tags": []
          },
          "execution_count": 21
        }
      ]
    },
    {
      "cell_type": "code",
      "metadata": {
        "colab": {
          "base_uri": "https://localhost:8080/",
          "height": 766
        },
        "id": "Mw8ByfvDCdXS",
        "outputId": "f079a717-c655-499f-d7eb-fc6116e29cee"
      },
      "source": [
        "import seaborn as sns\n",
        "import matplotlib.pyplot as plt\n",
        "sns.set()\n",
        "plt.figure(figsize=(35, 12))\n",
        "ax = sns.countplot(x = 'DRUGBANK', data=dados_drugbank.query('DRUGBANK in @cod_drugs'), order= dados_drugbank['DRUGBANK'].value_counts().index[0:10], palette='husl')\n",
        "ax.set_title('Top drugs')\n",
        "plt.title(\"Top drugs\", fontsize = 20)\n",
        "plt.xlabel(\"Top drugs\", fontsize = 18)\n",
        "plt.ylabel(\"genes\", fontsize = 18)\n",
        "plt.show()"
      ],
      "execution_count": null,
      "outputs": [
        {
          "output_type": "display_data",
          "data": {
            "image/png": "[encoded data removed]",
            "text/plain": [
              "<Figure size 2520x864 with 1 Axes>"
            ]
          },
          "metadata": {
            "tags": []
          }
        }
      ]
    },
    {
      "cell_type": "code",
      "metadata": {
        "id": "1BvVktWnPoHE"
      },
      "source": [
        "cod_gse= dados_drugbank['GSECODE'].value_counts().index[0:10]"
      ],
      "execution_count": null,
      "outputs": []
    },
    {
      "cell_type": "code",
      "metadata": {
        "colab": {
          "base_uri": "https://localhost:8080/"
        },
        "id": "77MQ1MdQPpEr",
        "outputId": "dadc8f1a-3ed3-4872-cbf2-385f4a6653ab"
      },
      "source": [
        "cod_gse"
      ],
      "execution_count": null,
      "outputs": [
        {
          "output_type": "execute_result",
          "data": {
            "text/plain": [
              "Index(['GSE23075', 'GSE32154', 'GSE111906'], dtype='object')"
            ]
          },
          "metadata": {
            "tags": []
          },
          "execution_count": 8
        }
      ]
    },
    {
      "cell_type": "code",
      "metadata": {
        "colab": {
          "base_uri": "https://localhost:8080/",
          "height": 417
        },
        "id": "Cgqj-f1hPpPK",
        "outputId": "e50f387f-0b5d-480a-b49e-7d476d104e07"
      },
      "source": [
        "dados_drugbank.query('GSECODE in @cod_gse')"
      ],
      "execution_count": null,
      "outputs": [
        {
          "output_type": "execute_result",
          "data": {
            "text/html": [
              "<div>\n",
              "<style scoped>\n",
              "    .dataframe tbody tr th:only-of-type {\n",
              "        vertical-align: middle;\n",
              "    }\n",
              "\n",
              "    .dataframe tbody tr th {\n",
              "        vertical-align: top;\n",
              "    }\n",
              "\n",
              "    .dataframe thead th {\n",
              "        text-align: right;\n",
              "    }\n",
              "</style>\n",
              "<table border=\"1\" class=\"dataframe\">\n",
              "  <thead>\n",
              "    <tr style=\"text-align: right;\">\n",
              "      <th></th>\n",
              "      <th>GSECODE</th>\n",
              "      <th>MPS TYPE</th>\n",
              "      <th>Symbol</th>\n",
              "      <th>DRUGBANK</th>\n",
              "      <th>EXPRESSION</th>\n",
              "      <th>MOA</th>\n",
              "      <th>REF</th>\n",
              "    </tr>\n",
              "  </thead>\n",
              "  <tbody>\n",
              "    <tr>\n",
              "      <th>0</th>\n",
              "      <td>GSE111906</td>\n",
              "      <td>MPSI</td>\n",
              "      <td>EEF1A1P11</td>\n",
              "      <td>NaN</td>\n",
              "      <td>NaN</td>\n",
              "      <td>NaN</td>\n",
              "      <td>NaN</td>\n",
              "    </tr>\n",
              "    <tr>\n",
              "      <th>1</th>\n",
              "      <td>GSE111906</td>\n",
              "      <td>MPSI</td>\n",
              "      <td>RPL10P9</td>\n",
              "      <td>NaN</td>\n",
              "      <td>NaN</td>\n",
              "      <td>NaN</td>\n",
              "      <td>NaN</td>\n",
              "    </tr>\n",
              "    <tr>\n",
              "      <th>2</th>\n",
              "      <td>GSE111906</td>\n",
              "      <td>MPSI</td>\n",
              "      <td>ZBTB12</td>\n",
              "      <td>NaN</td>\n",
              "      <td>NaN</td>\n",
              "      <td>NaN</td>\n",
              "      <td>NaN</td>\n",
              "    </tr>\n",
              "    <tr>\n",
              "      <th>3</th>\n",
              "      <td>GSE111906</td>\n",
              "      <td>MPSI</td>\n",
              "      <td>MRPL45</td>\n",
              "      <td>Copper</td>\n",
              "      <td>DOWN</td>\n",
              "      <td>[Disulfiram binds to Copper] which results in ...</td>\n",
              "      <td>https://pubmed.ncbi.nlm.nih.gov/24690739/</td>\n",
              "    </tr>\n",
              "    <tr>\n",
              "      <th>4</th>\n",
              "      <td>GSE111906</td>\n",
              "      <td>MPSI</td>\n",
              "      <td>MRPL45</td>\n",
              "      <td>Disulfiram</td>\n",
              "      <td>DOWN</td>\n",
              "      <td>[Disulfiram binds to Copper] which results in ...</td>\n",
              "      <td>https://pubmed.ncbi.nlm.nih.gov/24690739/</td>\n",
              "    </tr>\n",
              "    <tr>\n",
              "      <th>...</th>\n",
              "      <td>...</td>\n",
              "      <td>...</td>\n",
              "      <td>...</td>\n",
              "      <td>...</td>\n",
              "      <td>...</td>\n",
              "      <td>...</td>\n",
              "      <td>...</td>\n",
              "    </tr>\n",
              "    <tr>\n",
              "      <th>921</th>\n",
              "      <td>GSE32154</td>\n",
              "      <td>MPSIIIB</td>\n",
              "      <td>S100P</td>\n",
              "      <td>Silicon dioxide</td>\n",
              "      <td>NaN</td>\n",
              "      <td>Silicon Dioxide analog results in decreased ex...</td>\n",
              "      <td>A24195</td>\n",
              "    </tr>\n",
              "    <tr>\n",
              "      <th>922</th>\n",
              "      <td>GSE32154</td>\n",
              "      <td>MPSIIIB</td>\n",
              "      <td>S100P</td>\n",
              "      <td>Testosterone</td>\n",
              "      <td>NaN</td>\n",
              "      <td>Testosterone results in increased expression o...</td>\n",
              "      <td>A22301</td>\n",
              "    </tr>\n",
              "    <tr>\n",
              "      <th>923</th>\n",
              "      <td>GSE32154</td>\n",
              "      <td>MPSIIIB</td>\n",
              "      <td>S100P</td>\n",
              "      <td>Tretinoin</td>\n",
              "      <td>NaN</td>\n",
              "      <td>Tretinoin results in increased expression of S...</td>\n",
              "      <td>A24455</td>\n",
              "    </tr>\n",
              "    <tr>\n",
              "      <th>924</th>\n",
              "      <td>GSE32154</td>\n",
              "      <td>MPSIIIB</td>\n",
              "      <td>S100P</td>\n",
              "      <td>Valproic acid</td>\n",
              "      <td>NaN</td>\n",
              "      <td>Valproic Acid results in increased expression ...</td>\n",
              "      <td>A21035</td>\n",
              "    </tr>\n",
              "    <tr>\n",
              "      <th>925</th>\n",
              "      <td>GSE32154</td>\n",
              "      <td>MPSIIIB</td>\n",
              "      <td>S100P</td>\n",
              "      <td>Zinc sulfate</td>\n",
              "      <td>NaN</td>\n",
              "      <td>Zinc Sulfate results in increased expression o...</td>\n",
              "      <td>A24818</td>\n",
              "    </tr>\n",
              "  </tbody>\n",
              "</table>\n",
              "<p>926 rows × 7 columns</p>\n",
              "</div>"
            ],
            "text/plain": [
              "       GSECODE  ...                                        REF\n",
              "0    GSE111906  ...                                        NaN\n",
              "1    GSE111906  ...                                        NaN\n",
              "2    GSE111906  ...                                        NaN\n",
              "3    GSE111906  ...  https://pubmed.ncbi.nlm.nih.gov/24690739/\n",
              "4    GSE111906  ...  https://pubmed.ncbi.nlm.nih.gov/24690739/\n",
              "..         ...  ...                                        ...\n",
              "921   GSE32154  ...                                     A24195\n",
              "922   GSE32154  ...                                     A22301\n",
              "923   GSE32154  ...                                     A24455\n",
              "924   GSE32154  ...                                     A21035\n",
              "925   GSE32154  ...                                     A24818\n",
              "\n",
              "[926 rows x 7 columns]"
            ]
          },
          "metadata": {
            "tags": []
          },
          "execution_count": 10
        }
      ]
    },
    {
      "cell_type": "code",
      "metadata": {
        "colab": {
          "base_uri": "https://localhost:8080/",
          "height": 766
        },
        "id": "ZPRk8xEUPugj",
        "outputId": "475d048f-ee8d-4c99-bd0b-4731621061c8"
      },
      "source": [
        "import seaborn as sns\n",
        "import matplotlib.pyplot as plt\n",
        "sns.set()\n",
        "plt.figure(figsize=(35, 12))\n",
        "ax = sns.countplot(x = 'GSECODE', data=dados_drugbank.query('GSECODE in @cod_gse'), order= dados_drugbank['GSECODE'].value_counts().index[0:10], palette='husl')\n",
        "ax.set_title('Top GSECODE')\n",
        "plt.title(\"Top GSECODE\", fontsize = 20)\n",
        "plt.xlabel(\"Top GSECODE\", fontsize = 18)\n",
        "plt.ylabel(\"count\", fontsize = 18)\n",
        "plt.show()"
      ],
      "execution_count": null,
      "outputs": [
        {
          "output_type": "display_data",
          "data": {
            "image/png": "[encoded data removed]",
            "text/plain": [
              "<Figure size 2520x864 with 1 Axes>"
            ]
          },
          "metadata": {
            "tags": []
          }
        }
      ]
    },
    {
      "cell_type": "code",
      "metadata": {
        "id": "NCfDzlhRQnvr"
      },
      "source": [
        "cod_mps = dados_drugbank['MPS_TYPE'].value_counts().index[0:10]"
      ],
      "execution_count": null,
      "outputs": []
    },
    {
      "cell_type": "code",
      "metadata": {
        "colab": {
          "base_uri": "https://localhost:8080/"
        },
        "id": "oeSL5zp9QvbD",
        "outputId": "4a828e3b-a2b0-40f6-f670-b984360f1c45"
      },
      "source": [
        "cod_mps"
      ],
      "execution_count": null,
      "outputs": [
        {
          "output_type": "execute_result",
          "data": {
            "text/plain": [
              "Index(['MPSIIIB', 'MPSI'], dtype='object')"
            ]
          },
          "metadata": {
            "tags": []
          },
          "execution_count": 23
        }
      ]
    },
    {
      "cell_type": "code",
      "metadata": {
        "colab": {
          "base_uri": "https://localhost:8080/",
          "height": 417
        },
        "id": "4m4EyAcfQvmh",
        "outputId": "9f2d89d1-334d-408a-ac8b-99af12e073c2"
      },
      "source": [
        "dados_drugbank.query('MPS_TYPE in @cod_mps')"
      ],
      "execution_count": null,
      "outputs": [
        {
          "output_type": "execute_result",
          "data": {
            "text/html": [
              "<div>\n",
              "<style scoped>\n",
              "    .dataframe tbody tr th:only-of-type {\n",
              "        vertical-align: middle;\n",
              "    }\n",
              "\n",
              "    .dataframe tbody tr th {\n",
              "        vertical-align: top;\n",
              "    }\n",
              "\n",
              "    .dataframe thead th {\n",
              "        text-align: right;\n",
              "    }\n",
              "</style>\n",
              "<table border=\"1\" class=\"dataframe\">\n",
              "  <thead>\n",
              "    <tr style=\"text-align: right;\">\n",
              "      <th></th>\n",
              "      <th>GSECODE</th>\n",
              "      <th>MPS_TYPE</th>\n",
              "      <th>Symbol</th>\n",
              "      <th>DRUGBANK</th>\n",
              "      <th>EXPRESSION</th>\n",
              "      <th>MOA</th>\n",
              "      <th>REF</th>\n",
              "    </tr>\n",
              "  </thead>\n",
              "  <tbody>\n",
              "    <tr>\n",
              "      <th>0</th>\n",
              "      <td>GSE111906</td>\n",
              "      <td>MPSI</td>\n",
              "      <td>EEF1A1P11</td>\n",
              "      <td>NaN</td>\n",
              "      <td>NaN</td>\n",
              "      <td>NaN</td>\n",
              "      <td>NaN</td>\n",
              "    </tr>\n",
              "    <tr>\n",
              "      <th>1</th>\n",
              "      <td>GSE111906</td>\n",
              "      <td>MPSI</td>\n",
              "      <td>RPL10P9</td>\n",
              "      <td>NaN</td>\n",
              "      <td>NaN</td>\n",
              "      <td>NaN</td>\n",
              "      <td>NaN</td>\n",
              "    </tr>\n",
              "    <tr>\n",
              "      <th>2</th>\n",
              "      <td>GSE111906</td>\n",
              "      <td>MPSI</td>\n",
              "      <td>ZBTB12</td>\n",
              "      <td>NaN</td>\n",
              "      <td>NaN</td>\n",
              "      <td>NaN</td>\n",
              "      <td>NaN</td>\n",
              "    </tr>\n",
              "    <tr>\n",
              "      <th>3</th>\n",
              "      <td>GSE111906</td>\n",
              "      <td>MPSI</td>\n",
              "      <td>MRPL45</td>\n",
              "      <td>Copper</td>\n",
              "      <td>DOWN</td>\n",
              "      <td>[Disulfiram binds to Copper] which results in ...</td>\n",
              "      <td>https://pubmed.ncbi.nlm.nih.gov/24690739/</td>\n",
              "    </tr>\n",
              "    <tr>\n",
              "      <th>4</th>\n",
              "      <td>GSE111906</td>\n",
              "      <td>MPSI</td>\n",
              "      <td>MRPL45</td>\n",
              "      <td>Disulfiram</td>\n",
              "      <td>DOWN</td>\n",
              "      <td>[Disulfiram binds to Copper] which results in ...</td>\n",
              "      <td>https://pubmed.ncbi.nlm.nih.gov/24690739/</td>\n",
              "    </tr>\n",
              "    <tr>\n",
              "      <th>...</th>\n",
              "      <td>...</td>\n",
              "      <td>...</td>\n",
              "      <td>...</td>\n",
              "      <td>...</td>\n",
              "      <td>...</td>\n",
              "      <td>...</td>\n",
              "      <td>...</td>\n",
              "    </tr>\n",
              "    <tr>\n",
              "      <th>921</th>\n",
              "      <td>GSE32154</td>\n",
              "      <td>MPSIIIB</td>\n",
              "      <td>S100P</td>\n",
              "      <td>Silicon dioxide</td>\n",
              "      <td>NaN</td>\n",
              "      <td>Silicon Dioxide analog results in decreased ex...</td>\n",
              "      <td>A24195</td>\n",
              "    </tr>\n",
              "    <tr>\n",
              "      <th>922</th>\n",
              "      <td>GSE32154</td>\n",
              "      <td>MPSIIIB</td>\n",
              "      <td>S100P</td>\n",
              "      <td>Testosterone</td>\n",
              "      <td>NaN</td>\n",
              "      <td>Testosterone results in increased expression o...</td>\n",
              "      <td>A22301</td>\n",
              "    </tr>\n",
              "    <tr>\n",
              "      <th>923</th>\n",
              "      <td>GSE32154</td>\n",
              "      <td>MPSIIIB</td>\n",
              "      <td>S100P</td>\n",
              "      <td>Tretinoin</td>\n",
              "      <td>NaN</td>\n",
              "      <td>Tretinoin results in increased expression of S...</td>\n",
              "      <td>A24455</td>\n",
              "    </tr>\n",
              "    <tr>\n",
              "      <th>924</th>\n",
              "      <td>GSE32154</td>\n",
              "      <td>MPSIIIB</td>\n",
              "      <td>S100P</td>\n",
              "      <td>Valproic acid</td>\n",
              "      <td>NaN</td>\n",
              "      <td>Valproic Acid results in increased expression ...</td>\n",
              "      <td>A21035</td>\n",
              "    </tr>\n",
              "    <tr>\n",
              "      <th>925</th>\n",
              "      <td>GSE32154</td>\n",
              "      <td>MPSIIIB</td>\n",
              "      <td>S100P</td>\n",
              "      <td>Zinc sulfate</td>\n",
              "      <td>NaN</td>\n",
              "      <td>Zinc Sulfate results in increased expression o...</td>\n",
              "      <td>A24818</td>\n",
              "    </tr>\n",
              "  </tbody>\n",
              "</table>\n",
              "<p>926 rows × 7 columns</p>\n",
              "</div>"
            ],
            "text/plain": [
              "       GSECODE  ...                                        REF\n",
              "0    GSE111906  ...                                        NaN\n",
              "1    GSE111906  ...                                        NaN\n",
              "2    GSE111906  ...                                        NaN\n",
              "3    GSE111906  ...  https://pubmed.ncbi.nlm.nih.gov/24690739/\n",
              "4    GSE111906  ...  https://pubmed.ncbi.nlm.nih.gov/24690739/\n",
              "..         ...  ...                                        ...\n",
              "921   GSE32154  ...                                     A24195\n",
              "922   GSE32154  ...                                     A22301\n",
              "923   GSE32154  ...                                     A24455\n",
              "924   GSE32154  ...                                     A21035\n",
              "925   GSE32154  ...                                     A24818\n",
              "\n",
              "[926 rows x 7 columns]"
            ]
          },
          "metadata": {
            "tags": []
          },
          "execution_count": 24
        }
      ]
    },
    {
      "cell_type": "code",
      "metadata": {
        "colab": {
          "base_uri": "https://localhost:8080/",
          "height": 765
        },
        "id": "nmt5YLAlQv0G",
        "outputId": "37def96c-b84f-4d75-d66c-5ef9ff7e848a"
      },
      "source": [
        "import seaborn as sns\n",
        "import matplotlib.pyplot as plt\n",
        "sns.set()\n",
        "plt.figure(figsize=(35, 12))\n",
        "ax = sns.countplot(x = 'MPS_TYPE', data=dados_drugbank.query('MPS_TYPE in @cod_mps'), order= dados_drugbank['MPS_TYPE'].value_counts().index[0:10], palette='husl')\n",
        "ax.set_title('Top MPS_TYPE')\n",
        "plt.title(\"Top MPS_TYPE\", fontsize = 20)\n",
        "plt.xlabel(\"Top MPS_TYPE\", fontsize = 18)\n",
        "plt.ylabel(\"count\", fontsize = 18)\n",
        "plt.show()"
      ],
      "execution_count": null,
      "outputs": [
        {
          "output_type": "display_data",
          "data": {
            "image/png": "[encoded data removed]",
            "text/plain": [
              "<Figure size 2520x864 with 1 Axes>"
            ]
          },
          "metadata": {
            "tags": []
          }
        }
      ]
    },
    {
      "cell_type": "code",
      "metadata": {
        "id": "L0Hjqo1mRxsr"
      },
      "source": [
        "cod_moa = dados_drugbank['MOA'].value_counts().index[0:10]"
      ],
      "execution_count": null,
      "outputs": []
    },
    {
      "cell_type": "code",
      "metadata": {
        "colab": {
          "base_uri": "https://localhost:8080/"
        },
        "id": "CYk4LBH_Rx37",
        "outputId": "ca6f5c4e-67d6-4bd7-e80e-d8ef4417544b"
      },
      "source": [
        "cod_moa"
      ],
      "execution_count": null,
      "outputs": [
        {
          "output_type": "execute_result",
          "data": {
            "text/plain": [
              "Index(['Valproic Acid results in increased expression of DNAJC8 mRNA',\n",
              "       '[Disulfiram binds to Copper] which results in decreased expression of DDIT3 mRNA',\n",
              "       '[Disulfiram binds to Copper] which results in increased expression of ASNS mRNA',\n",
              "       'Valproic Acid results in decreased expression of SOCS7 mRNA',\n",
              "       '[Disulfiram binds to Copper] which results in decreased expression of S100P mRNA',\n",
              "       '[Disulfiram binds to Copper] which results in decreased expression of MRPL45 mRNA',\n",
              "       'Cyclosporine results in increased expression of SOCS7 mRNA',\n",
              "       'Simvastatin results in increased expression of SOCS7 mRNA',\n",
              "       'Formaldehyde results in decreased expression of SOCS7 mRNA',\n",
              "       'Quercetin results in decreased expression of ZNRD1 mRNA'],\n",
              "      dtype='object')"
            ]
          },
          "metadata": {
            "tags": []
          },
          "execution_count": 27
        }
      ]
    },
    {
      "cell_type": "code",
      "metadata": {
        "colab": {
          "base_uri": "https://localhost:8080/",
          "height": 634
        },
        "id": "JArhEdSWRyAm",
        "outputId": "78c2c545-59e7-4ca9-e297-baf66d9d564b"
      },
      "source": [
        "dados_drugbank.query('MOA in @cod_moa')"
      ],
      "execution_count": null,
      "outputs": [
        {
          "output_type": "execute_result",
          "data": {
            "text/html": [
              "<div>\n",
              "<style scoped>\n",
              "    .dataframe tbody tr th:only-of-type {\n",
              "        vertical-align: middle;\n",
              "    }\n",
              "\n",
              "    .dataframe tbody tr th {\n",
              "        vertical-align: top;\n",
              "    }\n",
              "\n",
              "    .dataframe thead th {\n",
              "        text-align: right;\n",
              "    }\n",
              "</style>\n",
              "<table border=\"1\" class=\"dataframe\">\n",
              "  <thead>\n",
              "    <tr style=\"text-align: right;\">\n",
              "      <th></th>\n",
              "      <th>GSECODE</th>\n",
              "      <th>MPS_TYPE</th>\n",
              "      <th>Symbol</th>\n",
              "      <th>DRUGBANK</th>\n",
              "      <th>EXPRESSION</th>\n",
              "      <th>MOA</th>\n",
              "      <th>REF</th>\n",
              "    </tr>\n",
              "  </thead>\n",
              "  <tbody>\n",
              "    <tr>\n",
              "      <th>3</th>\n",
              "      <td>GSE111906</td>\n",
              "      <td>MPSI</td>\n",
              "      <td>MRPL45</td>\n",
              "      <td>Copper</td>\n",
              "      <td>DOWN</td>\n",
              "      <td>[Disulfiram binds to Copper] which results in ...</td>\n",
              "      <td>https://pubmed.ncbi.nlm.nih.gov/24690739/</td>\n",
              "    </tr>\n",
              "    <tr>\n",
              "      <th>4</th>\n",
              "      <td>GSE111906</td>\n",
              "      <td>MPSI</td>\n",
              "      <td>MRPL45</td>\n",
              "      <td>Disulfiram</td>\n",
              "      <td>DOWN</td>\n",
              "      <td>[Disulfiram binds to Copper] which results in ...</td>\n",
              "      <td>https://pubmed.ncbi.nlm.nih.gov/24690739/</td>\n",
              "    </tr>\n",
              "    <tr>\n",
              "      <th>15</th>\n",
              "      <td>GSE111906</td>\n",
              "      <td>MPSI</td>\n",
              "      <td>ZNRD1</td>\n",
              "      <td>Quercetin</td>\n",
              "      <td>DOWN</td>\n",
              "      <td>Quercetin results in decreased expression of Z...</td>\n",
              "      <td>https://clincancerres.aacrjournals.org/content...</td>\n",
              "    </tr>\n",
              "    <tr>\n",
              "      <th>42</th>\n",
              "      <td>GSE111906</td>\n",
              "      <td>MPSI</td>\n",
              "      <td>SOCS7</td>\n",
              "      <td>Cyclosporine</td>\n",
              "      <td>UP</td>\n",
              "      <td>Cyclosporine results in increased expression o...</td>\n",
              "      <td>https://pubmed.ncbi.nlm.nih.gov/25562108/</td>\n",
              "    </tr>\n",
              "    <tr>\n",
              "      <th>43</th>\n",
              "      <td>GSE111906</td>\n",
              "      <td>MPSI</td>\n",
              "      <td>SOCS7</td>\n",
              "      <td>Formaldehyde</td>\n",
              "      <td>DOWN</td>\n",
              "      <td>Formaldehyde results in decreased expression o...</td>\n",
              "      <td>https://pubmed.ncbi.nlm.nih.gov/20655997/</td>\n",
              "    </tr>\n",
              "    <tr>\n",
              "      <th>44</th>\n",
              "      <td>GSE111906</td>\n",
              "      <td>MPSI</td>\n",
              "      <td>SOCS7</td>\n",
              "      <td>Simvastatin</td>\n",
              "      <td>UP</td>\n",
              "      <td>Simvastatin results in increased expression of...</td>\n",
              "      <td>https://pubmed.ncbi.nlm.nih.gov/18453621/</td>\n",
              "    </tr>\n",
              "    <tr>\n",
              "      <th>45</th>\n",
              "      <td>GSE111906</td>\n",
              "      <td>MPSI</td>\n",
              "      <td>SOCS7</td>\n",
              "      <td>Valproic acid</td>\n",
              "      <td>DOWN</td>\n",
              "      <td>Valproic Acid results in decreased expression ...</td>\n",
              "      <td>https://pubmed.ncbi.nlm.nih.gov/23179753/</td>\n",
              "    </tr>\n",
              "    <tr>\n",
              "      <th>98</th>\n",
              "      <td>GSE111906</td>\n",
              "      <td>MPSI</td>\n",
              "      <td>SOCS7</td>\n",
              "      <td>Cyclosporine</td>\n",
              "      <td>UP</td>\n",
              "      <td>Cyclosporine results in increased expression o...</td>\n",
              "      <td>https://pubmed.ncbi.nlm.nih.gov/25562108/</td>\n",
              "    </tr>\n",
              "    <tr>\n",
              "      <th>99</th>\n",
              "      <td>GSE111906</td>\n",
              "      <td>MPSI</td>\n",
              "      <td>SOCS7</td>\n",
              "      <td>Formaldehyde</td>\n",
              "      <td>DOWN</td>\n",
              "      <td>Formaldehyde results in decreased expression o...</td>\n",
              "      <td>https://pubmed.ncbi.nlm.nih.gov/20655997/</td>\n",
              "    </tr>\n",
              "    <tr>\n",
              "      <th>100</th>\n",
              "      <td>GSE111906</td>\n",
              "      <td>MPSI</td>\n",
              "      <td>SOCS7</td>\n",
              "      <td>Simvastatin</td>\n",
              "      <td>UP</td>\n",
              "      <td>Simvastatin results in increased expression of...</td>\n",
              "      <td>https://pubmed.ncbi.nlm.nih.gov/18453621/</td>\n",
              "    </tr>\n",
              "    <tr>\n",
              "      <th>101</th>\n",
              "      <td>GSE111906</td>\n",
              "      <td>MPSI</td>\n",
              "      <td>SOCS7</td>\n",
              "      <td>Valproic acid</td>\n",
              "      <td>DOWN</td>\n",
              "      <td>Valproic Acid results in decreased expression ...</td>\n",
              "      <td>https://pubmed.ncbi.nlm.nih.gov/27188386/</td>\n",
              "    </tr>\n",
              "    <tr>\n",
              "      <th>249</th>\n",
              "      <td>GSE23075</td>\n",
              "      <td>MPSIIIB</td>\n",
              "      <td>DDIT3</td>\n",
              "      <td>Copper</td>\n",
              "      <td>DOWN</td>\n",
              "      <td>[Disulfiram binds to Copper] which results in ...</td>\n",
              "      <td>A21750</td>\n",
              "    </tr>\n",
              "    <tr>\n",
              "      <th>264</th>\n",
              "      <td>GSE23075</td>\n",
              "      <td>MPSIIIB</td>\n",
              "      <td>DDIT3</td>\n",
              "      <td>Disulfiram</td>\n",
              "      <td>DOWN</td>\n",
              "      <td>[Disulfiram binds to Copper] which results in ...</td>\n",
              "      <td>A21750</td>\n",
              "    </tr>\n",
              "    <tr>\n",
              "      <th>609</th>\n",
              "      <td>GSE23075</td>\n",
              "      <td>MPSIIIB</td>\n",
              "      <td>ASNS</td>\n",
              "      <td>Copper</td>\n",
              "      <td>NaN</td>\n",
              "      <td>[Disulfiram binds to Copper] which results in ...</td>\n",
              "      <td>A21750</td>\n",
              "    </tr>\n",
              "    <tr>\n",
              "      <th>617</th>\n",
              "      <td>GSE23075</td>\n",
              "      <td>MPSIIIB</td>\n",
              "      <td>ASNS</td>\n",
              "      <td>Disulfiram</td>\n",
              "      <td>NaN</td>\n",
              "      <td>[Disulfiram binds to Copper] which results in ...</td>\n",
              "      <td>A21750</td>\n",
              "    </tr>\n",
              "    <tr>\n",
              "      <th>717</th>\n",
              "      <td>GSE32154</td>\n",
              "      <td>MPSIIIB</td>\n",
              "      <td>DNAJC8</td>\n",
              "      <td>Valproic acid</td>\n",
              "      <td>NaN</td>\n",
              "      <td>Valproic Acid results in increased expression ...</td>\n",
              "      <td>A24690</td>\n",
              "    </tr>\n",
              "    <tr>\n",
              "      <th>718</th>\n",
              "      <td>GSE32154</td>\n",
              "      <td>MPSIIIB</td>\n",
              "      <td>DUSP16</td>\n",
              "      <td>Valproic acid</td>\n",
              "      <td>NaN</td>\n",
              "      <td>Valproic Acid results in increased expression ...</td>\n",
              "      <td>A24690</td>\n",
              "    </tr>\n",
              "    <tr>\n",
              "      <th>900</th>\n",
              "      <td>GSE32154</td>\n",
              "      <td>MPSIIIB</td>\n",
              "      <td>S100P</td>\n",
              "      <td>Copper</td>\n",
              "      <td>NaN</td>\n",
              "      <td>[Disulfiram binds to Copper] which results in ...</td>\n",
              "      <td>A21750</td>\n",
              "    </tr>\n",
              "    <tr>\n",
              "      <th>909</th>\n",
              "      <td>GSE32154</td>\n",
              "      <td>MPSIIIB</td>\n",
              "      <td>S100P</td>\n",
              "      <td>Disulfiram</td>\n",
              "      <td>NaN</td>\n",
              "      <td>[Disulfiram binds to Copper] which results in ...</td>\n",
              "      <td>A21750</td>\n",
              "    </tr>\n",
              "  </tbody>\n",
              "</table>\n",
              "</div>"
            ],
            "text/plain": [
              "       GSECODE  ...                                                REF\n",
              "3    GSE111906  ...          https://pubmed.ncbi.nlm.nih.gov/24690739/\n",
              "4    GSE111906  ...          https://pubmed.ncbi.nlm.nih.gov/24690739/\n",
              "15   GSE111906  ...  https://clincancerres.aacrjournals.org/content...\n",
              "42   GSE111906  ...          https://pubmed.ncbi.nlm.nih.gov/25562108/\n",
              "43   GSE111906  ...          https://pubmed.ncbi.nlm.nih.gov/20655997/\n",
              "44   GSE111906  ...          https://pubmed.ncbi.nlm.nih.gov/18453621/\n",
              "45   GSE111906  ...          https://pubmed.ncbi.nlm.nih.gov/23179753/\n",
              "98   GSE111906  ...          https://pubmed.ncbi.nlm.nih.gov/25562108/\n",
              "99   GSE111906  ...          https://pubmed.ncbi.nlm.nih.gov/20655997/\n",
              "100  GSE111906  ...          https://pubmed.ncbi.nlm.nih.gov/18453621/\n",
              "101  GSE111906  ...          https://pubmed.ncbi.nlm.nih.gov/27188386/\n",
              "249   GSE23075  ...                                             A21750\n",
              "264   GSE23075  ...                                             A21750\n",
              "609   GSE23075  ...                                             A21750\n",
              "617   GSE23075  ...                                             A21750\n",
              "717   GSE32154  ...                                             A24690\n",
              "718   GSE32154  ...                                             A24690\n",
              "900   GSE32154  ...                                             A21750\n",
              "909   GSE32154  ...                                             A21750\n",
              "\n",
              "[19 rows x 7 columns]"
            ]
          },
          "metadata": {
            "tags": []
          },
          "execution_count": 28
        }
      ]
    },
    {
      "cell_type": "code",
      "metadata": {
        "colab": {
          "base_uri": "https://localhost:8080/",
          "height": 404
        },
        "id": "mD8Zy6bRRyJd",
        "outputId": "309bafca-ce90-40bc-d40b-b847129efed0"
      },
      "source": [
        "import seaborn as sns\n",
        "import matplotlib.pyplot as plt\n",
        "sns.set()\n",
        "plt.figure(figsize=(75, 20))\n",
        "ax = sns.countplot(x = 'MOA', data=dados_drugbank.query('MOA in @cod_moa'), order= dados_drugbank['MOA'].value_counts().index[0:10], palette='husl')\n",
        "ax.set_title('Top MOA')\n",
        "plt.title(\"Top MOA\", fontsize = 20)\n",
        "plt.xlabel(\"Top MOA\", fontsize = 18)\n",
        "plt.ylabel(\"count\", fontsize = 18)\n",
        "plt.show()"
      ],
      "execution_count": null,
      "outputs": [
        {
          "output_type": "display_data",
          "data": {
            "image/png": "[encoded data removed]",
            "text/plain": [
              "<Figure size 5400x1440 with 1 Axes>"
            ]
          },
          "metadata": {
            "tags": []
          }
        }
      ]
    },
    {
      "cell_type": "code",
      "metadata": {
        "colab": {
          "base_uri": "https://localhost:8080/",
          "height": 172
        },
        "id": "GsQFRA-KAV4x",
        "outputId": "900dd30d-e7ff-4411-d83f-af238b1fccce"
      },
      "source": [
        "dados_drugbank.describe()"
      ],
      "execution_count": null,
      "outputs": [
        {
          "output_type": "execute_result",
          "data": {
            "text/html": [
              "<div>\n",
              "<style scoped>\n",
              "    .dataframe tbody tr th:only-of-type {\n",
              "        vertical-align: middle;\n",
              "    }\n",
              "\n",
              "    .dataframe tbody tr th {\n",
              "        vertical-align: top;\n",
              "    }\n",
              "\n",
              "    .dataframe thead th {\n",
              "        text-align: right;\n",
              "    }\n",
              "</style>\n",
              "<table border=\"1\" class=\"dataframe\">\n",
              "  <thead>\n",
              "    <tr style=\"text-align: right;\">\n",
              "      <th></th>\n",
              "      <th>GSECODE</th>\n",
              "      <th>MPS TYPE</th>\n",
              "      <th>Symbol</th>\n",
              "      <th>DRUGBANK</th>\n",
              "      <th>EXPRESSION</th>\n",
              "      <th>MOA</th>\n",
              "      <th>REF</th>\n",
              "    </tr>\n",
              "  </thead>\n",
              "  <tbody>\n",
              "    <tr>\n",
              "      <th>count</th>\n",
              "      <td>926</td>\n",
              "      <td>926</td>\n",
              "      <td>926</td>\n",
              "      <td>900</td>\n",
              "      <td>568</td>\n",
              "      <td>900</td>\n",
              "      <td>887</td>\n",
              "    </tr>\n",
              "    <tr>\n",
              "      <th>unique</th>\n",
              "      <td>3</td>\n",
              "      <td>2</td>\n",
              "      <td>120</td>\n",
              "      <td>194</td>\n",
              "      <td>2</td>\n",
              "      <td>891</td>\n",
              "      <td>383</td>\n",
              "    </tr>\n",
              "    <tr>\n",
              "      <th>top</th>\n",
              "      <td>GSE23075</td>\n",
              "      <td>MPSIIIB</td>\n",
              "      <td>DDIT3</td>\n",
              "      <td>Valproic acid</td>\n",
              "      <td>UP</td>\n",
              "      <td>Simvastatin results in increased expression of...</td>\n",
              "      <td>A21035</td>\n",
              "    </tr>\n",
              "    <tr>\n",
              "      <th>freq</th>\n",
              "      <td>517</td>\n",
              "      <td>776</td>\n",
              "      <td>89</td>\n",
              "      <td>60</td>\n",
              "      <td>328</td>\n",
              "      <td>2</td>\n",
              "      <td>34</td>\n",
              "    </tr>\n",
              "  </tbody>\n",
              "</table>\n",
              "</div>"
            ],
            "text/plain": [
              "         GSECODE  ...     REF\n",
              "count        926  ...     887\n",
              "unique         3  ...     383\n",
              "top     GSE23075  ...  A21035\n",
              "freq         517  ...      34\n",
              "\n",
              "[4 rows x 7 columns]"
            ]
          },
          "metadata": {
            "tags": []
          },
          "execution_count": 24
        }
      ]
    }
  ]
}
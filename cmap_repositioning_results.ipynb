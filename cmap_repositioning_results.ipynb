{
  "nbformat": 4,
  "nbformat_minor": 0,
  "metadata": {
    "colab": {
      "name": "cmap-repositioning-results.ipynb",
      "provenance": [],
      "collapsed_sections": [
        "UIsjjtsF74vf",
        "KbXSuyvbqdTE"
      ],
      "include_colab_link": true
    },
    "kernelspec": {
      "name": "python3",
      "display_name": "Python 3"
    },
    "language_info": {
      "name": "python"
    }
  },
  "cells": [
    {
      "cell_type": "markdown",
      "metadata": {
        "id": "view-in-github",
        "colab_type": "text"
      },
      "source": [
        "<a href=\"https://colab.research.google.com/github/Kur1sutaru/oncogenic-pathways-and-MPS/blob/main/cmap_repositioning_results.ipynb\" target=\"_parent\"><img src=\"https://colab.research.google.com/assets/colab-badge.svg\" alt=\"Open In Colab\"/></a>"
      ]
    },
    {
      "cell_type": "code",
      "metadata": {
        "colab": {
          "base_uri": "https://localhost:8080/",
          "height": 518
        },
        "id": "IePUr98kdgED",
        "outputId": "2579556f-0c81-48d6-c5f0-96e4e31ea48d"
      },
      "source": [
        "import seaborn as sns\n",
        "import matplotlib.pyplot as plt\n",
        "sns.set()\n",
        "plt.figure(figsize=(10, 8))\n",
        "ax = sns.countplot(x = 'composto', data=dados.query('composto in @cod_compostos'), palette='husl')\n",
        "ax.set_title('Top 5 compostos')\n",
        "plt.title(\"Top 5 compostos\", fontsize = 12)\n",
        "plt.xlabel(\"Composto\", fontsize = 12)\n",
        "plt.ylabel(\"Contagem compostos\", fontsize = 12)\n",
        "plt.show()\n",
        "\n",
        "# cores e paletas em https://seaborn.pydata.org/generated/seaborn.color_palette.html#seaborn.color_palette"
      ],
      "execution_count": null,
      "outputs": [
        {
          "output_type": "display_data",
          "data": {
            "image/png": "[encoded data removed]",
            "text/plain": [
              "<Figure size 720x576 with 1 Axes>"
            ]
          },
          "metadata": {
            "tags": []
          }
        }
      ]
    },
    {
      "cell_type": "markdown",
      "metadata": {
        "id": "bA_RUClHM6I8"
      },
      "source": [
        "Até o momento analisamos os dados de tempo, dose, compostos e afins. Entretanto, não analisamos os dados de expressões gênicas (G's) e viabilidade celular (C's). Será que podemos criar um gráfico de barras para esses dados?\n",
        "Vamos pensar que a nossa base de dados apresenta mais de 3.000 compostos. Mas quantos desses compostos aparecem na coluna ```g-0```? \n",
        "Para responder essa questão, vamos usar a função ```unique()``` do Pandas que conta os valores únicos presentes na coluna em questão. Como resposta padrão, o retorno será uma lista com arrays (os nomes dos compostos) mas, nosso objetivo é saber o tamanho dessa lista e, por isso, usamos o ```len```, pois assim, ele contará o tamanho desta lista de arrays."
      ]
    },
    {
      "cell_type": "code",
      "metadata": {
        "colab": {
          "base_uri": "https://localhost:8080/"
        },
        "id": "DkQ2wH9Gj-w7",
        "outputId": "2e71d3e9-d8e7-4caa-f9fd-21ca6df04631"
      },
      "source": [
        "len(dados['g-0'].unique())"
      ],
      "execution_count": null,
      "outputs": [
        {
          "output_type": "execute_result",
          "data": {
            "text/plain": [
              "14367"
            ]
          },
          "metadata": {
            "tags": []
          },
          "execution_count": 45
        }
      ]
    },
    {
      "cell_type": "markdown",
      "metadata": {
        "id": "wM4yn28tRflX"
      },
      "source": [
        "Como temos diversos compostos únicos dentro da coluna ```g-0```, não é viável que façamos o mesmo gráfico utilizado anteriormente. \n",
        "Por isso, precisamos traçar uma nova estratégia para visualizar os nossos dadose aqui, usaremos um histograma.\n",
        "O primeiro passo, é identificar qual o valor mínimo (```min()```) e o valor máximo (```max()```) para entender qual o intervalo númerico com o qual estamos trabalhando."
      ]
    },
    {
      "cell_type": "code",
      "metadata": {
        "colab": {
          "base_uri": "https://localhost:8080/"
        },
        "id": "mCC5DpK1kmiX",
        "outputId": "9696ff1b-9507-4dd5-9521-fdade661dabc"
      },
      "source": [
        "dados['g-0'].min()"
      ],
      "execution_count": null,
      "outputs": [
        {
          "output_type": "execute_result",
          "data": {
            "text/plain": [
              "-5.513"
            ]
          },
          "metadata": {
            "tags": []
          },
          "execution_count": 46
        }
      ]
    },
    {
      "cell_type": "code",
      "metadata": {
        "colab": {
          "base_uri": "https://localhost:8080/"
        },
        "id": "qzH4Jl0OksuL",
        "outputId": "59a739e2-3b52-45d7-c86e-2444c725f081"
      },
      "source": [
        "dados['g-0'].max()"
      ],
      "execution_count": null,
      "outputs": [
        {
          "output_type": "execute_result",
          "data": {
            "text/plain": [
              "10.0"
            ]
          },
          "metadata": {
            "tags": []
          },
          "execution_count": 47
        }
      ]
    },
    {
      "cell_type": "markdown",
      "metadata": {
        "id": "-Tp7M_wWUCU8"
      },
      "source": [
        "Depois que reconhecemos que o nosso intervalo vai de ~5,5 a 10,0, podemos partir para o histograma e a função que usaremos para plotar é do Pandas (```dataframe['variável'].hist()```).\n",
        "Assim que rodamos essa função, percebemos que a visualização destes dados ainda não está boa pois, a divisão padrão das barras do histograma, representam intervalos muito grandes que atrapalham o entendimento dos dados.\n",
        "Por isso, acresentamos um parâmetro dentro da função ```(bins = número de quebras)``` para melhor dividir e, consequentemente visualizar os dados.\n",
        "Quando definimos os bins em 100, podemos perceber que a forma se aproxima bastante de uma curva bastante conhecida: a curva normal."
      ]
    },
    {
      "cell_type": "code",
      "metadata": {
        "colab": {
          "base_uri": "https://localhost:8080/",
          "height": 285
        },
        "id": "RnjRPpubk1z0",
        "outputId": "c22584e9-94d1-4bc1-82d7-90d75f3f93bc"
      },
      "source": [
        "dados['g-0'].hist(bins = 100)"
      ],
      "execution_count": null,
      "outputs": [
        {
          "output_type": "execute_result",
          "data": {
            "text/plain": [
              "<matplotlib.axes._subplots.AxesSubplot at 0x7f453ad7a190>"
            ]
          },
          "metadata": {
            "tags": []
          },
          "execution_count": 48
        },
        {
          "output_type": "display_data",
          "data": {
            "image/png": "[encoded data removed]",
            "text/plain": [
              "<Figure size 432x288 with 1 Axes>"
            ]
          },
          "metadata": {
            "tags": []
          }
        }
      ]
    },
    {
      "cell_type": "markdown",
      "metadata": {
        "id": "ILTZmvd2fczV"
      },
      "source": [
        "Aqui, estamos testando o mesmo histograma para outro gene, o ```g-19```. E queremos fazer uma comparação entre os gráficos e podemos fazer algumas considerações sobre ambos os gráficos.\n",
        "Percebemos, por exemplo, que a imagem seguem a mesma tendência de curva mas há um deslocamento para a direita."
      ]
    },
    {
      "cell_type": "code",
      "metadata": {
        "colab": {
          "base_uri": "https://localhost:8080/",
          "height": 285
        },
        "id": "1_aedkvToYlB",
        "outputId": "b4fedc39-4e20-4bec-d593-9c371e3f67a6"
      },
      "source": [
        "dados['g-19'].hist(bins = 100)"
      ],
      "execution_count": null,
      "outputs": [
        {
          "output_type": "execute_result",
          "data": {
            "text/plain": [
              "<matplotlib.axes._subplots.AxesSubplot at 0x7f4c380ae5d0>"
            ]
          },
          "metadata": {
            "tags": []
          },
          "execution_count": 48
        },
        {
          "output_type": "display_data",
          "data": {
            "image/png": "[encoded data removed]",
            "text/plain": [
              "<Figure size 432x288 with 1 Axes>"
            ]
          },
          "metadata": {
            "tags": []
          }
        }
      ]
    },
    {
      "cell_type": "markdown",
      "metadata": {
        "id": "i8HZHcicEJ0F"
      },
      "source": [
        "Como concluimos que plotar os gráficos de todos os genes é inviável, vamos analisar resumidamente algumas estatísticas sobre eles. \n",
        "Para isso, vamos usar a função ```describe``` do Pandas que já calcula e descreve algumas estatísticas importantes para o entendimento dos dados (contagem, média, desvio padrão, mínimo, alguns quartis e máximo).\n"
      ]
    },
    {
      "cell_type": "code",
      "metadata": {
        "colab": {
          "base_uri": "https://localhost:8080/",
          "height": 346
        },
        "id": "Kv-2zPLBprgD",
        "outputId": "2efac1d6-8274-43e7-86b0-3a9bd0bfab63"
      },
      "source": [
        "dados.describe()"
      ],
      "execution_count": null,
      "outputs": [
        {
          "output_type": "execute_result",
          "data": {
            "text/html": [
              "<div>\n",
              "<style scoped>\n",
              "    .dataframe tbody tr th:only-of-type {\n",
              "        vertical-align: middle;\n",
              "    }\n",
              "\n",
              "    .dataframe tbody tr th {\n",
              "        vertical-align: top;\n",
              "    }\n",
              "\n",
              "    .dataframe thead th {\n",
              "        text-align: right;\n",
              "    }\n",
              "</style>\n",
              "<table border=\"1\" class=\"dataframe\">\n",
              "  <thead>\n",
              "    <tr style=\"text-align: right;\">\n",
              "      <th></th>\n",
              "      <th>tempo</th>\n",
              "      <th>g-0</th>\n",
              "      <th>g-1</th>\n",
              "      <th>g-2</th>\n",
              "      <th>g-3</th>\n",
              "      <th>g-4</th>\n",
              "      <th>g-5</th>\n",
              "      <th>g-6</th>\n",
              "      <th>g-7</th>\n",
              "      <th>g-8</th>\n",
              "      <th>g-9</th>\n",
              "      <th>g-10</th>\n",
              "      <th>g-11</th>\n",
              "      <th>g-12</th>\n",
              "      <th>g-13</th>\n",
              "      <th>g-14</th>\n",
              "      <th>g-15</th>\n",
              "      <th>g-16</th>\n",
              "      <th>g-17</th>\n",
              "      <th>g-18</th>\n",
              "      <th>g-19</th>\n",
              "      <th>g-20</th>\n",
              "      <th>g-21</th>\n",
              "      <th>g-22</th>\n",
              "      <th>g-23</th>\n",
              "      <th>g-24</th>\n",
              "      <th>g-25</th>\n",
              "      <th>g-26</th>\n",
              "      <th>g-27</th>\n",
              "      <th>g-28</th>\n",
              "      <th>g-29</th>\n",
              "      <th>g-30</th>\n",
              "      <th>g-31</th>\n",
              "      <th>g-32</th>\n",
              "      <th>g-33</th>\n",
              "      <th>g-34</th>\n",
              "      <th>g-35</th>\n",
              "      <th>g-36</th>\n",
              "      <th>g-37</th>\n",
              "      <th>g-38</th>\n",
              "      <th>...</th>\n",
              "      <th>c-60</th>\n",
              "      <th>c-61</th>\n",
              "      <th>c-62</th>\n",
              "      <th>c-63</th>\n",
              "      <th>c-64</th>\n",
              "      <th>c-65</th>\n",
              "      <th>c-66</th>\n",
              "      <th>c-67</th>\n",
              "      <th>c-68</th>\n",
              "      <th>c-69</th>\n",
              "      <th>c-70</th>\n",
              "      <th>c-71</th>\n",
              "      <th>c-72</th>\n",
              "      <th>c-73</th>\n",
              "      <th>c-74</th>\n",
              "      <th>c-75</th>\n",
              "      <th>c-76</th>\n",
              "      <th>c-77</th>\n",
              "      <th>c-78</th>\n",
              "      <th>c-79</th>\n",
              "      <th>c-80</th>\n",
              "      <th>c-81</th>\n",
              "      <th>c-82</th>\n",
              "      <th>c-83</th>\n",
              "      <th>c-84</th>\n",
              "      <th>c-85</th>\n",
              "      <th>c-86</th>\n",
              "      <th>c-87</th>\n",
              "      <th>c-88</th>\n",
              "      <th>c-89</th>\n",
              "      <th>c-90</th>\n",
              "      <th>c-91</th>\n",
              "      <th>c-92</th>\n",
              "      <th>c-93</th>\n",
              "      <th>c-94</th>\n",
              "      <th>c-95</th>\n",
              "      <th>c-96</th>\n",
              "      <th>c-97</th>\n",
              "      <th>c-98</th>\n",
              "      <th>c-99</th>\n",
              "    </tr>\n",
              "  </thead>\n",
              "  <tbody>\n",
              "    <tr>\n",
              "      <th>count</th>\n",
              "      <td>23814.000000</td>\n",
              "      <td>23814.000000</td>\n",
              "      <td>23814.000000</td>\n",
              "      <td>23814.000000</td>\n",
              "      <td>23814.000000</td>\n",
              "      <td>23814.000000</td>\n",
              "      <td>23814.000000</td>\n",
              "      <td>23814.000000</td>\n",
              "      <td>23814.000000</td>\n",
              "      <td>23814.000000</td>\n",
              "      <td>23814.000000</td>\n",
              "      <td>23814.000000</td>\n",
              "      <td>23814.000000</td>\n",
              "      <td>23814.000000</td>\n",
              "      <td>23814.000000</td>\n",
              "      <td>23814.000000</td>\n",
              "      <td>23814.000000</td>\n",
              "      <td>23814.000000</td>\n",
              "      <td>23814.000000</td>\n",
              "      <td>23814.000000</td>\n",
              "      <td>23814.000000</td>\n",
              "      <td>23814.000000</td>\n",
              "      <td>23814.000000</td>\n",
              "      <td>23814.000000</td>\n",
              "      <td>23814.000000</td>\n",
              "      <td>23814.000000</td>\n",
              "      <td>23814.000000</td>\n",
              "      <td>23814.000000</td>\n",
              "      <td>23814.000000</td>\n",
              "      <td>23814.000000</td>\n",
              "      <td>23814.000000</td>\n",
              "      <td>23814.000000</td>\n",
              "      <td>23814.000000</td>\n",
              "      <td>23814.000000</td>\n",
              "      <td>23814.000000</td>\n",
              "      <td>23814.000000</td>\n",
              "      <td>23814.000000</td>\n",
              "      <td>23814.000000</td>\n",
              "      <td>23814.000000</td>\n",
              "      <td>23814.000000</td>\n",
              "      <td>...</td>\n",
              "      <td>23814.000000</td>\n",
              "      <td>23814.000000</td>\n",
              "      <td>23814.000000</td>\n",
              "      <td>23814.000000</td>\n",
              "      <td>23814.000000</td>\n",
              "      <td>23814.000000</td>\n",
              "      <td>23814.000000</td>\n",
              "      <td>23814.000000</td>\n",
              "      <td>23814.000000</td>\n",
              "      <td>23814.000000</td>\n",
              "      <td>23814.000000</td>\n",
              "      <td>23814.000000</td>\n",
              "      <td>23814.000000</td>\n",
              "      <td>23814.000000</td>\n",
              "      <td>23814.000000</td>\n",
              "      <td>23814.000000</td>\n",
              "      <td>23814.000000</td>\n",
              "      <td>23814.000000</td>\n",
              "      <td>23814.000000</td>\n",
              "      <td>23814.000000</td>\n",
              "      <td>23814.000000</td>\n",
              "      <td>23814.000000</td>\n",
              "      <td>23814.000000</td>\n",
              "      <td>23814.000000</td>\n",
              "      <td>23814.000000</td>\n",
              "      <td>23814.000000</td>\n",
              "      <td>23814.000000</td>\n",
              "      <td>23814.000000</td>\n",
              "      <td>23814.000000</td>\n",
              "      <td>23814.000000</td>\n",
              "      <td>23814.000000</td>\n",
              "      <td>23814.000000</td>\n",
              "      <td>23814.000000</td>\n",
              "      <td>23814.000000</td>\n",
              "      <td>23814.000000</td>\n",
              "      <td>23814.000000</td>\n",
              "      <td>23814.000000</td>\n",
              "      <td>23814.000000</td>\n",
              "      <td>23814.000000</td>\n",
              "      <td>23814.000000</td>\n",
              "    </tr>\n",
              "    <tr>\n",
              "      <th>mean</th>\n",
              "      <td>48.020156</td>\n",
              "      <td>0.248366</td>\n",
              "      <td>-0.095684</td>\n",
              "      <td>0.152253</td>\n",
              "      <td>0.081971</td>\n",
              "      <td>0.057347</td>\n",
              "      <td>-0.138836</td>\n",
              "      <td>0.035961</td>\n",
              "      <td>-0.202651</td>\n",
              "      <td>-0.190083</td>\n",
              "      <td>0.119905</td>\n",
              "      <td>-0.123321</td>\n",
              "      <td>0.182307</td>\n",
              "      <td>0.143203</td>\n",
              "      <td>0.209402</td>\n",
              "      <td>-0.173884</td>\n",
              "      <td>-0.024432</td>\n",
              "      <td>0.126823</td>\n",
              "      <td>-0.146663</td>\n",
              "      <td>0.087687</td>\n",
              "      <td>-0.082982</td>\n",
              "      <td>-0.111908</td>\n",
              "      <td>-0.087379</td>\n",
              "      <td>0.047548</td>\n",
              "      <td>-0.117474</td>\n",
              "      <td>-0.113212</td>\n",
              "      <td>-0.052746</td>\n",
              "      <td>-0.091055</td>\n",
              "      <td>0.112176</td>\n",
              "      <td>-0.046458</td>\n",
              "      <td>-0.076239</td>\n",
              "      <td>-0.197699</td>\n",
              "      <td>0.382177</td>\n",
              "      <td>-0.189432</td>\n",
              "      <td>0.078791</td>\n",
              "      <td>-0.093312</td>\n",
              "      <td>0.135729</td>\n",
              "      <td>-0.188616</td>\n",
              "      <td>-0.606710</td>\n",
              "      <td>0.534425</td>\n",
              "      <td>...</td>\n",
              "      <td>-0.517397</td>\n",
              "      <td>-0.360770</td>\n",
              "      <td>-0.435752</td>\n",
              "      <td>-0.613591</td>\n",
              "      <td>-0.402083</td>\n",
              "      <td>-0.619682</td>\n",
              "      <td>-0.452265</td>\n",
              "      <td>-0.497164</td>\n",
              "      <td>-0.413836</td>\n",
              "      <td>-0.277029</td>\n",
              "      <td>-0.547845</td>\n",
              "      <td>-0.358611</td>\n",
              "      <td>-0.442906</td>\n",
              "      <td>-0.475194</td>\n",
              "      <td>-0.010404</td>\n",
              "      <td>-0.467001</td>\n",
              "      <td>-0.276963</td>\n",
              "      <td>-0.455848</td>\n",
              "      <td>-0.412918</td>\n",
              "      <td>-0.456404</td>\n",
              "      <td>-0.472514</td>\n",
              "      <td>-0.505481</td>\n",
              "      <td>-0.492735</td>\n",
              "      <td>-0.446836</td>\n",
              "      <td>-0.463029</td>\n",
              "      <td>-0.409310</td>\n",
              "      <td>-0.333124</td>\n",
              "      <td>-0.295009</td>\n",
              "      <td>-0.328342</td>\n",
              "      <td>-0.401615</td>\n",
              "      <td>-0.469244</td>\n",
              "      <td>-0.461411</td>\n",
              "      <td>-0.513256</td>\n",
              "      <td>-0.500142</td>\n",
              "      <td>-0.507093</td>\n",
              "      <td>-0.353726</td>\n",
              "      <td>-0.463485</td>\n",
              "      <td>-0.378241</td>\n",
              "      <td>-0.470252</td>\n",
              "      <td>-0.301505</td>\n",
              "    </tr>\n",
              "    <tr>\n",
              "      <th>std</th>\n",
              "      <td>19.402807</td>\n",
              "      <td>1.393399</td>\n",
              "      <td>0.812363</td>\n",
              "      <td>1.035731</td>\n",
              "      <td>0.950012</td>\n",
              "      <td>1.032091</td>\n",
              "      <td>1.179388</td>\n",
              "      <td>0.882395</td>\n",
              "      <td>1.125494</td>\n",
              "      <td>1.749885</td>\n",
              "      <td>1.087180</td>\n",
              "      <td>1.291501</td>\n",
              "      <td>1.253604</td>\n",
              "      <td>1.234590</td>\n",
              "      <td>1.273068</td>\n",
              "      <td>1.247178</td>\n",
              "      <td>0.659839</td>\n",
              "      <td>1.418997</td>\n",
              "      <td>1.179688</td>\n",
              "      <td>0.743301</td>\n",
              "      <td>0.844796</td>\n",
              "      <td>1.219529</td>\n",
              "      <td>0.824401</td>\n",
              "      <td>0.924838</td>\n",
              "      <td>0.760159</td>\n",
              "      <td>1.203186</td>\n",
              "      <td>0.866977</td>\n",
              "      <td>1.103765</td>\n",
              "      <td>1.001687</td>\n",
              "      <td>1.027758</td>\n",
              "      <td>1.279399</td>\n",
              "      <td>1.302567</td>\n",
              "      <td>1.559174</td>\n",
              "      <td>0.933514</td>\n",
              "      <td>1.172270</td>\n",
              "      <td>1.174325</td>\n",
              "      <td>1.061719</td>\n",
              "      <td>1.397677</td>\n",
              "      <td>2.200277</td>\n",
              "      <td>2.003317</td>\n",
              "      <td>...</td>\n",
              "      <td>2.122318</td>\n",
              "      <td>1.710725</td>\n",
              "      <td>1.898871</td>\n",
              "      <td>2.307820</td>\n",
              "      <td>1.785055</td>\n",
              "      <td>2.225596</td>\n",
              "      <td>1.991021</td>\n",
              "      <td>2.063896</td>\n",
              "      <td>1.887001</td>\n",
              "      <td>1.459639</td>\n",
              "      <td>2.187835</td>\n",
              "      <td>1.730634</td>\n",
              "      <td>1.924716</td>\n",
              "      <td>2.021927</td>\n",
              "      <td>1.029820</td>\n",
              "      <td>2.004317</td>\n",
              "      <td>1.429340</td>\n",
              "      <td>1.924263</td>\n",
              "      <td>1.888788</td>\n",
              "      <td>1.832863</td>\n",
              "      <td>2.011396</td>\n",
              "      <td>2.091353</td>\n",
              "      <td>2.055624</td>\n",
              "      <td>1.987476</td>\n",
              "      <td>2.014045</td>\n",
              "      <td>1.883974</td>\n",
              "      <td>1.647241</td>\n",
              "      <td>1.634073</td>\n",
              "      <td>1.663170</td>\n",
              "      <td>1.832794</td>\n",
              "      <td>2.000488</td>\n",
              "      <td>2.042475</td>\n",
              "      <td>2.001714</td>\n",
              "      <td>2.107105</td>\n",
              "      <td>2.159589</td>\n",
              "      <td>1.629291</td>\n",
              "      <td>2.059725</td>\n",
              "      <td>1.703615</td>\n",
              "      <td>1.834828</td>\n",
              "      <td>1.407918</td>\n",
              "    </tr>\n",
              "    <tr>\n",
              "      <th>min</th>\n",
              "      <td>24.000000</td>\n",
              "      <td>-5.513000</td>\n",
              "      <td>-5.737000</td>\n",
              "      <td>-9.104000</td>\n",
              "      <td>-5.998000</td>\n",
              "      <td>-6.369000</td>\n",
              "      <td>-10.000000</td>\n",
              "      <td>-10.000000</td>\n",
              "      <td>-10.000000</td>\n",
              "      <td>-10.000000</td>\n",
              "      <td>-8.337000</td>\n",
              "      <td>-10.000000</td>\n",
              "      <td>-5.870000</td>\n",
              "      <td>-8.587000</td>\n",
              "      <td>-5.018000</td>\n",
              "      <td>-10.000000</td>\n",
              "      <td>-10.000000</td>\n",
              "      <td>-10.000000</td>\n",
              "      <td>-10.000000</td>\n",
              "      <td>-4.226000</td>\n",
              "      <td>-10.000000</td>\n",
              "      <td>-10.000000</td>\n",
              "      <td>-5.700000</td>\n",
              "      <td>-10.000000</td>\n",
              "      <td>-10.000000</td>\n",
              "      <td>-10.000000</td>\n",
              "      <td>-8.272000</td>\n",
              "      <td>-8.184000</td>\n",
              "      <td>-4.835000</td>\n",
              "      <td>-7.913000</td>\n",
              "      <td>-10.000000</td>\n",
              "      <td>-10.000000</td>\n",
              "      <td>-2.956000</td>\n",
              "      <td>-8.356000</td>\n",
              "      <td>-7.182000</td>\n",
              "      <td>-10.000000</td>\n",
              "      <td>-9.261000</td>\n",
              "      <td>-10.000000</td>\n",
              "      <td>-10.000000</td>\n",
              "      <td>-10.000000</td>\n",
              "      <td>...</td>\n",
              "      <td>-10.000000</td>\n",
              "      <td>-10.000000</td>\n",
              "      <td>-10.000000</td>\n",
              "      <td>-10.000000</td>\n",
              "      <td>-10.000000</td>\n",
              "      <td>-10.000000</td>\n",
              "      <td>-10.000000</td>\n",
              "      <td>-10.000000</td>\n",
              "      <td>-10.000000</td>\n",
              "      <td>-9.839000</td>\n",
              "      <td>-10.000000</td>\n",
              "      <td>-10.000000</td>\n",
              "      <td>-10.000000</td>\n",
              "      <td>-10.000000</td>\n",
              "      <td>-6.452000</td>\n",
              "      <td>-10.000000</td>\n",
              "      <td>-9.938000</td>\n",
              "      <td>-10.000000</td>\n",
              "      <td>-10.000000</td>\n",
              "      <td>-10.000000</td>\n",
              "      <td>-10.000000</td>\n",
              "      <td>-10.000000</td>\n",
              "      <td>-10.000000</td>\n",
              "      <td>-10.000000</td>\n",
              "      <td>-10.000000</td>\n",
              "      <td>-10.000000</td>\n",
              "      <td>-10.000000</td>\n",
              "      <td>-10.000000</td>\n",
              "      <td>-10.000000</td>\n",
              "      <td>-10.000000</td>\n",
              "      <td>-10.000000</td>\n",
              "      <td>-10.000000</td>\n",
              "      <td>-10.000000</td>\n",
              "      <td>-10.000000</td>\n",
              "      <td>-10.000000</td>\n",
              "      <td>-10.000000</td>\n",
              "      <td>-10.000000</td>\n",
              "      <td>-10.000000</td>\n",
              "      <td>-10.000000</td>\n",
              "      <td>-10.000000</td>\n",
              "    </tr>\n",
              "    <tr>\n",
              "      <th>25%</th>\n",
              "      <td>24.000000</td>\n",
              "      <td>-0.473075</td>\n",
              "      <td>-0.562200</td>\n",
              "      <td>-0.437750</td>\n",
              "      <td>-0.429575</td>\n",
              "      <td>-0.470925</td>\n",
              "      <td>-0.602225</td>\n",
              "      <td>-0.493900</td>\n",
              "      <td>-0.525175</td>\n",
              "      <td>-0.511675</td>\n",
              "      <td>-0.360200</td>\n",
              "      <td>-0.511475</td>\n",
              "      <td>-0.489675</td>\n",
              "      <td>-0.447500</td>\n",
              "      <td>-0.481200</td>\n",
              "      <td>-0.607975</td>\n",
              "      <td>-0.404150</td>\n",
              "      <td>-0.391950</td>\n",
              "      <td>-0.513775</td>\n",
              "      <td>-0.272200</td>\n",
              "      <td>-0.488675</td>\n",
              "      <td>-0.524600</td>\n",
              "      <td>-0.538900</td>\n",
              "      <td>-0.440375</td>\n",
              "      <td>-0.508900</td>\n",
              "      <td>-0.533900</td>\n",
              "      <td>-0.497700</td>\n",
              "      <td>-0.512875</td>\n",
              "      <td>-0.467800</td>\n",
              "      <td>-0.378300</td>\n",
              "      <td>-0.505750</td>\n",
              "      <td>-0.457975</td>\n",
              "      <td>-0.328200</td>\n",
              "      <td>-0.600500</td>\n",
              "      <td>-0.478700</td>\n",
              "      <td>-0.570525</td>\n",
              "      <td>-0.481800</td>\n",
              "      <td>-0.541950</td>\n",
              "      <td>-0.604100</td>\n",
              "      <td>-0.470250</td>\n",
              "      <td>...</td>\n",
              "      <td>-0.588075</td>\n",
              "      <td>-0.564025</td>\n",
              "      <td>-0.561000</td>\n",
              "      <td>-0.583250</td>\n",
              "      <td>-0.566500</td>\n",
              "      <td>-0.603200</td>\n",
              "      <td>-0.541575</td>\n",
              "      <td>-0.560825</td>\n",
              "      <td>-0.555200</td>\n",
              "      <td>-0.534500</td>\n",
              "      <td>-0.569100</td>\n",
              "      <td>-0.558300</td>\n",
              "      <td>-0.573350</td>\n",
              "      <td>-0.594275</td>\n",
              "      <td>-0.389925</td>\n",
              "      <td>-0.551200</td>\n",
              "      <td>-0.544150</td>\n",
              "      <td>-0.575075</td>\n",
              "      <td>-0.568275</td>\n",
              "      <td>-0.582650</td>\n",
              "      <td>-0.558575</td>\n",
              "      <td>-0.562375</td>\n",
              "      <td>-0.572800</td>\n",
              "      <td>-0.561225</td>\n",
              "      <td>-0.560675</td>\n",
              "      <td>-0.560100</td>\n",
              "      <td>-0.533700</td>\n",
              "      <td>-0.504575</td>\n",
              "      <td>-0.544275</td>\n",
              "      <td>-0.569150</td>\n",
              "      <td>-0.566175</td>\n",
              "      <td>-0.565975</td>\n",
              "      <td>-0.589975</td>\n",
              "      <td>-0.568700</td>\n",
              "      <td>-0.563775</td>\n",
              "      <td>-0.567975</td>\n",
              "      <td>-0.552575</td>\n",
              "      <td>-0.561000</td>\n",
              "      <td>-0.592600</td>\n",
              "      <td>-0.562900</td>\n",
              "    </tr>\n",
              "    <tr>\n",
              "      <th>50%</th>\n",
              "      <td>48.000000</td>\n",
              "      <td>-0.008850</td>\n",
              "      <td>-0.046600</td>\n",
              "      <td>0.075200</td>\n",
              "      <td>0.008050</td>\n",
              "      <td>-0.026900</td>\n",
              "      <td>-0.015650</td>\n",
              "      <td>-0.000650</td>\n",
              "      <td>-0.017900</td>\n",
              "      <td>0.010000</td>\n",
              "      <td>0.160450</td>\n",
              "      <td>0.038550</td>\n",
              "      <td>0.013800</td>\n",
              "      <td>0.060250</td>\n",
              "      <td>0.009800</td>\n",
              "      <td>-0.030100</td>\n",
              "      <td>0.000000</td>\n",
              "      <td>0.149400</td>\n",
              "      <td>-0.002200</td>\n",
              "      <td>0.000000</td>\n",
              "      <td>-0.027800</td>\n",
              "      <td>-0.002800</td>\n",
              "      <td>-0.069350</td>\n",
              "      <td>-0.011800</td>\n",
              "      <td>0.000000</td>\n",
              "      <td>0.018300</td>\n",
              "      <td>-0.011650</td>\n",
              "      <td>0.016100</td>\n",
              "      <td>0.037600</td>\n",
              "      <td>0.003750</td>\n",
              "      <td>0.021750</td>\n",
              "      <td>0.027000</td>\n",
              "      <td>0.019100</td>\n",
              "      <td>-0.054000</td>\n",
              "      <td>0.023350</td>\n",
              "      <td>0.003350</td>\n",
              "      <td>-0.000600</td>\n",
              "      <td>0.015350</td>\n",
              "      <td>-0.000700</td>\n",
              "      <td>0.005800</td>\n",
              "      <td>...</td>\n",
              "      <td>-0.017650</td>\n",
              "      <td>-0.041550</td>\n",
              "      <td>-0.002950</td>\n",
              "      <td>-0.012650</td>\n",
              "      <td>-0.005600</td>\n",
              "      <td>0.007650</td>\n",
              "      <td>0.004950</td>\n",
              "      <td>0.000000</td>\n",
              "      <td>-0.023800</td>\n",
              "      <td>-0.011450</td>\n",
              "      <td>-0.007100</td>\n",
              "      <td>-0.019500</td>\n",
              "      <td>-0.019500</td>\n",
              "      <td>-0.009300</td>\n",
              "      <td>0.081550</td>\n",
              "      <td>-0.006900</td>\n",
              "      <td>0.018400</td>\n",
              "      <td>-0.014650</td>\n",
              "      <td>-0.014350</td>\n",
              "      <td>0.005300</td>\n",
              "      <td>-0.005300</td>\n",
              "      <td>-0.004050</td>\n",
              "      <td>0.003300</td>\n",
              "      <td>-0.007900</td>\n",
              "      <td>-0.004600</td>\n",
              "      <td>-0.002400</td>\n",
              "      <td>0.007850</td>\n",
              "      <td>-0.005600</td>\n",
              "      <td>-0.020600</td>\n",
              "      <td>-0.030000</td>\n",
              "      <td>-0.009900</td>\n",
              "      <td>0.003250</td>\n",
              "      <td>-0.009100</td>\n",
              "      <td>-0.013750</td>\n",
              "      <td>-0.003300</td>\n",
              "      <td>-0.010250</td>\n",
              "      <td>-0.001250</td>\n",
              "      <td>-0.006800</td>\n",
              "      <td>0.014000</td>\n",
              "      <td>-0.019500</td>\n",
              "    </tr>\n",
              "    <tr>\n",
              "      <th>75%</th>\n",
              "      <td>72.000000</td>\n",
              "      <td>0.525700</td>\n",
              "      <td>0.403075</td>\n",
              "      <td>0.663925</td>\n",
              "      <td>0.463400</td>\n",
              "      <td>0.465375</td>\n",
              "      <td>0.510425</td>\n",
              "      <td>0.528725</td>\n",
              "      <td>0.411900</td>\n",
              "      <td>0.549225</td>\n",
              "      <td>0.697775</td>\n",
              "      <td>0.525400</td>\n",
              "      <td>0.575275</td>\n",
              "      <td>0.604450</td>\n",
              "      <td>0.575825</td>\n",
              "      <td>0.457975</td>\n",
              "      <td>0.382475</td>\n",
              "      <td>0.829500</td>\n",
              "      <td>0.494775</td>\n",
              "      <td>0.327800</td>\n",
              "      <td>0.400600</td>\n",
              "      <td>0.492400</td>\n",
              "      <td>0.414875</td>\n",
              "      <td>0.433400</td>\n",
              "      <td>0.329250</td>\n",
              "      <td>0.527700</td>\n",
              "      <td>0.461650</td>\n",
              "      <td>0.508425</td>\n",
              "      <td>0.586450</td>\n",
              "      <td>0.431275</td>\n",
              "      <td>0.507600</td>\n",
              "      <td>0.458075</td>\n",
              "      <td>0.471075</td>\n",
              "      <td>0.391950</td>\n",
              "      <td>0.551300</td>\n",
              "      <td>0.503725</td>\n",
              "      <td>0.564875</td>\n",
              "      <td>0.517025</td>\n",
              "      <td>0.460500</td>\n",
              "      <td>0.642300</td>\n",
              "      <td>...</td>\n",
              "      <td>0.452675</td>\n",
              "      <td>0.427675</td>\n",
              "      <td>0.462175</td>\n",
              "      <td>0.447975</td>\n",
              "      <td>0.447150</td>\n",
              "      <td>0.441250</td>\n",
              "      <td>0.470600</td>\n",
              "      <td>0.458550</td>\n",
              "      <td>0.441000</td>\n",
              "      <td>0.460075</td>\n",
              "      <td>0.460950</td>\n",
              "      <td>0.449975</td>\n",
              "      <td>0.445200</td>\n",
              "      <td>0.473200</td>\n",
              "      <td>0.563575</td>\n",
              "      <td>0.456350</td>\n",
              "      <td>0.493400</td>\n",
              "      <td>0.448375</td>\n",
              "      <td>0.451975</td>\n",
              "      <td>0.463075</td>\n",
              "      <td>0.447675</td>\n",
              "      <td>0.462000</td>\n",
              "      <td>0.468900</td>\n",
              "      <td>0.452375</td>\n",
              "      <td>0.460475</td>\n",
              "      <td>0.461675</td>\n",
              "      <td>0.465950</td>\n",
              "      <td>0.463400</td>\n",
              "      <td>0.450075</td>\n",
              "      <td>0.430875</td>\n",
              "      <td>0.457750</td>\n",
              "      <td>0.461500</td>\n",
              "      <td>0.445675</td>\n",
              "      <td>0.452900</td>\n",
              "      <td>0.470900</td>\n",
              "      <td>0.444750</td>\n",
              "      <td>0.465225</td>\n",
              "      <td>0.446400</td>\n",
              "      <td>0.461275</td>\n",
              "      <td>0.438650</td>\n",
              "    </tr>\n",
              "    <tr>\n",
              "      <th>max</th>\n",
              "      <td>72.000000</td>\n",
              "      <td>10.000000</td>\n",
              "      <td>5.039000</td>\n",
              "      <td>8.257000</td>\n",
              "      <td>10.000000</td>\n",
              "      <td>10.000000</td>\n",
              "      <td>7.282000</td>\n",
              "      <td>7.333000</td>\n",
              "      <td>5.473000</td>\n",
              "      <td>8.887000</td>\n",
              "      <td>6.433000</td>\n",
              "      <td>10.000000</td>\n",
              "      <td>10.000000</td>\n",
              "      <td>10.000000</td>\n",
              "      <td>10.000000</td>\n",
              "      <td>10.000000</td>\n",
              "      <td>4.134000</td>\n",
              "      <td>6.418000</td>\n",
              "      <td>4.750000</td>\n",
              "      <td>8.872000</td>\n",
              "      <td>4.081000</td>\n",
              "      <td>9.842000</td>\n",
              "      <td>5.248000</td>\n",
              "      <td>5.942000</td>\n",
              "      <td>5.201000</td>\n",
              "      <td>10.000000</td>\n",
              "      <td>8.494000</td>\n",
              "      <td>10.000000</td>\n",
              "      <td>10.000000</td>\n",
              "      <td>10.000000</td>\n",
              "      <td>9.416000</td>\n",
              "      <td>10.000000</td>\n",
              "      <td>10.000000</td>\n",
              "      <td>6.796000</td>\n",
              "      <td>10.000000</td>\n",
              "      <td>10.000000</td>\n",
              "      <td>10.000000</td>\n",
              "      <td>5.834000</td>\n",
              "      <td>5.602000</td>\n",
              "      <td>10.000000</td>\n",
              "      <td>...</td>\n",
              "      <td>3.888000</td>\n",
              "      <td>3.596000</td>\n",
              "      <td>4.857000</td>\n",
              "      <td>3.549000</td>\n",
              "      <td>3.382000</td>\n",
              "      <td>3.328000</td>\n",
              "      <td>4.157000</td>\n",
              "      <td>3.736000</td>\n",
              "      <td>3.582000</td>\n",
              "      <td>3.119000</td>\n",
              "      <td>3.323000</td>\n",
              "      <td>5.014000</td>\n",
              "      <td>2.898000</td>\n",
              "      <td>4.185000</td>\n",
              "      <td>3.170000</td>\n",
              "      <td>3.276000</td>\n",
              "      <td>4.992000</td>\n",
              "      <td>3.770000</td>\n",
              "      <td>2.851000</td>\n",
              "      <td>3.211000</td>\n",
              "      <td>4.534000</td>\n",
              "      <td>3.890000</td>\n",
              "      <td>3.994000</td>\n",
              "      <td>4.321000</td>\n",
              "      <td>4.020000</td>\n",
              "      <td>3.738000</td>\n",
              "      <td>3.252000</td>\n",
              "      <td>5.406000</td>\n",
              "      <td>3.110000</td>\n",
              "      <td>3.320000</td>\n",
              "      <td>4.069000</td>\n",
              "      <td>3.960000</td>\n",
              "      <td>3.927000</td>\n",
              "      <td>3.596000</td>\n",
              "      <td>3.747000</td>\n",
              "      <td>2.814000</td>\n",
              "      <td>3.505000</td>\n",
              "      <td>2.924000</td>\n",
              "      <td>3.111000</td>\n",
              "      <td>3.805000</td>\n",
              "    </tr>\n",
              "  </tbody>\n",
              "</table>\n",
              "<p>8 rows × 873 columns</p>\n",
              "</div>"
            ],
            "text/plain": [
              "              tempo           g-0  ...          c-98          c-99\n",
              "count  23814.000000  23814.000000  ...  23814.000000  23814.000000\n",
              "mean      48.020156      0.248366  ...     -0.470252     -0.301505\n",
              "std       19.402807      1.393399  ...      1.834828      1.407918\n",
              "min       24.000000     -5.513000  ...    -10.000000    -10.000000\n",
              "25%       24.000000     -0.473075  ...     -0.592600     -0.562900\n",
              "50%       48.000000     -0.008850  ...      0.014000     -0.019500\n",
              "75%       72.000000      0.525700  ...      0.461275      0.438650\n",
              "max       72.000000     10.000000  ...      3.111000      3.805000\n",
              "\n",
              "[8 rows x 873 columns]"
            ]
          },
          "metadata": {
            "tags": []
          },
          "execution_count": 51
        }
      ]
    },
    {
      "cell_type": "markdown",
      "metadata": {
        "id": "G4mCKUkUFYhb"
      },
      "source": [
        "Neste ponto, vamos separar as variáveis que queremos analisar da base de dados (exemplo: ```g-0``` e ```g-1```) através de uma lista de arrays.\n",
        "Entretanto, apesar desta ser uma ótima estratégia para a separação, temos 771 genes e escrevê-los um a um seria muito trabalhoso e podemos fazer de uma outra forma."
      ]
    },
    {
      "cell_type": "code",
      "metadata": {
        "colab": {
          "base_uri": "https://localhost:8080/",
          "height": 402
        },
        "id": "OAkjbZdkqPlR",
        "outputId": "4ceac20c-8e19-44ca-f936-0ae635662e9e"
      },
      "source": [
        "dados[['g-0', 'g-1']]"
      ],
      "execution_count": null,
      "outputs": [
        {
          "output_type": "execute_result",
          "data": {
            "text/html": [
              "<div>\n",
              "<style scoped>\n",
              "    .dataframe tbody tr th:only-of-type {\n",
              "        vertical-align: middle;\n",
              "    }\n",
              "\n",
              "    .dataframe tbody tr th {\n",
              "        vertical-align: top;\n",
              "    }\n",
              "\n",
              "    .dataframe thead th {\n",
              "        text-align: right;\n",
              "    }\n",
              "</style>\n",
              "<table border=\"1\" class=\"dataframe\">\n",
              "  <thead>\n",
              "    <tr style=\"text-align: right;\">\n",
              "      <th></th>\n",
              "      <th>g-0</th>\n",
              "      <th>g-1</th>\n",
              "    </tr>\n",
              "  </thead>\n",
              "  <tbody>\n",
              "    <tr>\n",
              "      <th>0</th>\n",
              "      <td>1.0620</td>\n",
              "      <td>0.5577</td>\n",
              "    </tr>\n",
              "    <tr>\n",
              "      <th>1</th>\n",
              "      <td>0.0743</td>\n",
              "      <td>0.4087</td>\n",
              "    </tr>\n",
              "    <tr>\n",
              "      <th>2</th>\n",
              "      <td>0.6280</td>\n",
              "      <td>0.5817</td>\n",
              "    </tr>\n",
              "    <tr>\n",
              "      <th>3</th>\n",
              "      <td>-0.5138</td>\n",
              "      <td>-0.2491</td>\n",
              "    </tr>\n",
              "    <tr>\n",
              "      <th>4</th>\n",
              "      <td>-0.3254</td>\n",
              "      <td>-0.4009</td>\n",
              "    </tr>\n",
              "    <tr>\n",
              "      <th>...</th>\n",
              "      <td>...</td>\n",
              "      <td>...</td>\n",
              "    </tr>\n",
              "    <tr>\n",
              "      <th>23809</th>\n",
              "      <td>0.1394</td>\n",
              "      <td>-0.0636</td>\n",
              "    </tr>\n",
              "    <tr>\n",
              "      <th>23810</th>\n",
              "      <td>-1.3260</td>\n",
              "      <td>0.3478</td>\n",
              "    </tr>\n",
              "    <tr>\n",
              "      <th>23811</th>\n",
              "      <td>0.3942</td>\n",
              "      <td>0.3756</td>\n",
              "    </tr>\n",
              "    <tr>\n",
              "      <th>23812</th>\n",
              "      <td>0.6660</td>\n",
              "      <td>0.2324</td>\n",
              "    </tr>\n",
              "    <tr>\n",
              "      <th>23813</th>\n",
              "      <td>-0.8598</td>\n",
              "      <td>1.0240</td>\n",
              "    </tr>\n",
              "  </tbody>\n",
              "</table>\n",
              "<p>23814 rows × 2 columns</p>\n",
              "</div>"
            ],
            "text/plain": [
              "          g-0     g-1\n",
              "0      1.0620  0.5577\n",
              "1      0.0743  0.4087\n",
              "2      0.6280  0.5817\n",
              "3     -0.5138 -0.2491\n",
              "4     -0.3254 -0.4009\n",
              "...       ...     ...\n",
              "23809  0.1394 -0.0636\n",
              "23810 -1.3260  0.3478\n",
              "23811  0.3942  0.3756\n",
              "23812  0.6660  0.2324\n",
              "23813 -0.8598  1.0240\n",
              "\n",
              "[23814 rows x 2 columns]"
            ]
          },
          "metadata": {
            "tags": []
          },
          "execution_count": 53
        }
      ]
    },
    {
      "cell_type": "markdown",
      "metadata": {
        "id": "0LHi_9AUGFmS"
      },
      "source": [
        "Uma estratégia mais direta em que não precisaremos escrever a lista gene a gene, é o uso da função ```loc[]``` do Pandas.\n",
        "Como argumentos, passamos primeiramente o ```:```, os dois pontos faz com que o ```loc[]```retorne todos os elementos de uma determinada coluna, isso é importante quando não sabemos qual a quantidade de linhas de um dataframe. E, o segundo elemento, passamos as colunas que são de nosso interesse. No caso, queremos que a função nos retorne todos os elementos das colunas ```g-0```até ```g-771```.\n",
        "E, por fim, podemos declarar a nossa função de interesse a partir deste filtro realizado nos dados, o ```describe()```."
      ]
    },
    {
      "cell_type": "code",
      "metadata": {
        "colab": {
          "base_uri": "https://localhost:8080/",
          "height": 346
        },
        "id": "dQX0KOhUqm66",
        "outputId": "26dd96e2-3300-4867-e529-9303244b42c8"
      },
      "source": [
        "dados.loc[0:,'g-0':'g-771'].describe()"
      ],
      "execution_count": null,
      "outputs": [
        {
          "output_type": "execute_result",
          "data": {
            "text/html": [
              "<div>\n",
              "<style scoped>\n",
              "    .dataframe tbody tr th:only-of-type {\n",
              "        vertical-align: middle;\n",
              "    }\n",
              "\n",
              "    .dataframe tbody tr th {\n",
              "        vertical-align: top;\n",
              "    }\n",
              "\n",
              "    .dataframe thead th {\n",
              "        text-align: right;\n",
              "    }\n",
              "</style>\n",
              "<table border=\"1\" class=\"dataframe\">\n",
              "  <thead>\n",
              "    <tr style=\"text-align: right;\">\n",
              "      <th></th>\n",
              "      <th>g-0</th>\n",
              "      <th>g-1</th>\n",
              "      <th>g-2</th>\n",
              "      <th>g-3</th>\n",
              "      <th>g-4</th>\n",
              "      <th>g-5</th>\n",
              "      <th>g-6</th>\n",
              "      <th>g-7</th>\n",
              "      <th>g-8</th>\n",
              "      <th>g-9</th>\n",
              "      <th>g-10</th>\n",
              "      <th>g-11</th>\n",
              "      <th>g-12</th>\n",
              "      <th>g-13</th>\n",
              "      <th>g-14</th>\n",
              "      <th>g-15</th>\n",
              "      <th>g-16</th>\n",
              "      <th>g-17</th>\n",
              "      <th>g-18</th>\n",
              "      <th>g-19</th>\n",
              "      <th>g-20</th>\n",
              "      <th>g-21</th>\n",
              "      <th>g-22</th>\n",
              "      <th>g-23</th>\n",
              "      <th>g-24</th>\n",
              "      <th>g-25</th>\n",
              "      <th>g-26</th>\n",
              "      <th>g-27</th>\n",
              "      <th>g-28</th>\n",
              "      <th>g-29</th>\n",
              "      <th>g-30</th>\n",
              "      <th>g-31</th>\n",
              "      <th>g-32</th>\n",
              "      <th>g-33</th>\n",
              "      <th>g-34</th>\n",
              "      <th>g-35</th>\n",
              "      <th>g-36</th>\n",
              "      <th>g-37</th>\n",
              "      <th>g-38</th>\n",
              "      <th>g-39</th>\n",
              "      <th>...</th>\n",
              "      <th>g-732</th>\n",
              "      <th>g-733</th>\n",
              "      <th>g-734</th>\n",
              "      <th>g-735</th>\n",
              "      <th>g-736</th>\n",
              "      <th>g-737</th>\n",
              "      <th>g-738</th>\n",
              "      <th>g-739</th>\n",
              "      <th>g-740</th>\n",
              "      <th>g-741</th>\n",
              "      <th>g-742</th>\n",
              "      <th>g-743</th>\n",
              "      <th>g-744</th>\n",
              "      <th>g-745</th>\n",
              "      <th>g-746</th>\n",
              "      <th>g-747</th>\n",
              "      <th>g-748</th>\n",
              "      <th>g-749</th>\n",
              "      <th>g-750</th>\n",
              "      <th>g-751</th>\n",
              "      <th>g-752</th>\n",
              "      <th>g-753</th>\n",
              "      <th>g-754</th>\n",
              "      <th>g-755</th>\n",
              "      <th>g-756</th>\n",
              "      <th>g-757</th>\n",
              "      <th>g-758</th>\n",
              "      <th>g-759</th>\n",
              "      <th>g-760</th>\n",
              "      <th>g-761</th>\n",
              "      <th>g-762</th>\n",
              "      <th>g-763</th>\n",
              "      <th>g-764</th>\n",
              "      <th>g-765</th>\n",
              "      <th>g-766</th>\n",
              "      <th>g-767</th>\n",
              "      <th>g-768</th>\n",
              "      <th>g-769</th>\n",
              "      <th>g-770</th>\n",
              "      <th>g-771</th>\n",
              "    </tr>\n",
              "  </thead>\n",
              "  <tbody>\n",
              "    <tr>\n",
              "      <th>count</th>\n",
              "      <td>23814.000000</td>\n",
              "      <td>23814.000000</td>\n",
              "      <td>23814.000000</td>\n",
              "      <td>23814.000000</td>\n",
              "      <td>23814.000000</td>\n",
              "      <td>23814.000000</td>\n",
              "      <td>23814.000000</td>\n",
              "      <td>23814.000000</td>\n",
              "      <td>23814.000000</td>\n",
              "      <td>23814.000000</td>\n",
              "      <td>23814.000000</td>\n",
              "      <td>23814.000000</td>\n",
              "      <td>23814.000000</td>\n",
              "      <td>23814.000000</td>\n",
              "      <td>23814.000000</td>\n",
              "      <td>23814.000000</td>\n",
              "      <td>23814.000000</td>\n",
              "      <td>23814.000000</td>\n",
              "      <td>23814.000000</td>\n",
              "      <td>23814.000000</td>\n",
              "      <td>23814.000000</td>\n",
              "      <td>23814.000000</td>\n",
              "      <td>23814.000000</td>\n",
              "      <td>23814.000000</td>\n",
              "      <td>23814.000000</td>\n",
              "      <td>23814.000000</td>\n",
              "      <td>23814.000000</td>\n",
              "      <td>23814.000000</td>\n",
              "      <td>23814.000000</td>\n",
              "      <td>23814.000000</td>\n",
              "      <td>23814.000000</td>\n",
              "      <td>23814.000000</td>\n",
              "      <td>23814.000000</td>\n",
              "      <td>23814.000000</td>\n",
              "      <td>23814.000000</td>\n",
              "      <td>23814.000000</td>\n",
              "      <td>23814.000000</td>\n",
              "      <td>23814.000000</td>\n",
              "      <td>23814.000000</td>\n",
              "      <td>23814.000000</td>\n",
              "      <td>...</td>\n",
              "      <td>23814.000000</td>\n",
              "      <td>23814.000000</td>\n",
              "      <td>23814.000000</td>\n",
              "      <td>23814.000000</td>\n",
              "      <td>23814.000000</td>\n",
              "      <td>23814.000000</td>\n",
              "      <td>23814.000000</td>\n",
              "      <td>23814.000000</td>\n",
              "      <td>23814.000000</td>\n",
              "      <td>23814.000000</td>\n",
              "      <td>23814.000000</td>\n",
              "      <td>23814.000000</td>\n",
              "      <td>23814.000000</td>\n",
              "      <td>23814.000000</td>\n",
              "      <td>23814.000000</td>\n",
              "      <td>23814.000000</td>\n",
              "      <td>23814.000000</td>\n",
              "      <td>23814.000000</td>\n",
              "      <td>23814.000000</td>\n",
              "      <td>23814.000000</td>\n",
              "      <td>23814.000000</td>\n",
              "      <td>23814.000000</td>\n",
              "      <td>23814.000000</td>\n",
              "      <td>23814.000000</td>\n",
              "      <td>23814.000000</td>\n",
              "      <td>23814.000000</td>\n",
              "      <td>23814.000000</td>\n",
              "      <td>23814.000000</td>\n",
              "      <td>23814.000000</td>\n",
              "      <td>23814.000000</td>\n",
              "      <td>23814.000000</td>\n",
              "      <td>23814.000000</td>\n",
              "      <td>23814.000000</td>\n",
              "      <td>23814.000000</td>\n",
              "      <td>23814.000000</td>\n",
              "      <td>23814.000000</td>\n",
              "      <td>23814.000000</td>\n",
              "      <td>23814.000000</td>\n",
              "      <td>23814.000000</td>\n",
              "      <td>23814.000000</td>\n",
              "    </tr>\n",
              "    <tr>\n",
              "      <th>mean</th>\n",
              "      <td>0.248366</td>\n",
              "      <td>-0.095684</td>\n",
              "      <td>0.152253</td>\n",
              "      <td>0.081971</td>\n",
              "      <td>0.057347</td>\n",
              "      <td>-0.138836</td>\n",
              "      <td>0.035961</td>\n",
              "      <td>-0.202651</td>\n",
              "      <td>-0.190083</td>\n",
              "      <td>0.119905</td>\n",
              "      <td>-0.123321</td>\n",
              "      <td>0.182307</td>\n",
              "      <td>0.143203</td>\n",
              "      <td>0.209402</td>\n",
              "      <td>-0.173884</td>\n",
              "      <td>-0.024432</td>\n",
              "      <td>0.126823</td>\n",
              "      <td>-0.146663</td>\n",
              "      <td>0.087687</td>\n",
              "      <td>-0.082982</td>\n",
              "      <td>-0.111908</td>\n",
              "      <td>-0.087379</td>\n",
              "      <td>0.047548</td>\n",
              "      <td>-0.117474</td>\n",
              "      <td>-0.113212</td>\n",
              "      <td>-0.052746</td>\n",
              "      <td>-0.091055</td>\n",
              "      <td>0.112176</td>\n",
              "      <td>-0.046458</td>\n",
              "      <td>-0.076239</td>\n",
              "      <td>-0.197699</td>\n",
              "      <td>0.382177</td>\n",
              "      <td>-0.189432</td>\n",
              "      <td>0.078791</td>\n",
              "      <td>-0.093312</td>\n",
              "      <td>0.135729</td>\n",
              "      <td>-0.188616</td>\n",
              "      <td>-0.606710</td>\n",
              "      <td>0.534425</td>\n",
              "      <td>0.132026</td>\n",
              "      <td>...</td>\n",
              "      <td>0.263569</td>\n",
              "      <td>-0.242638</td>\n",
              "      <td>0.110180</td>\n",
              "      <td>-0.039868</td>\n",
              "      <td>-0.064056</td>\n",
              "      <td>0.193629</td>\n",
              "      <td>0.004470</td>\n",
              "      <td>-0.187085</td>\n",
              "      <td>0.067186</td>\n",
              "      <td>0.006159</td>\n",
              "      <td>-0.201189</td>\n",
              "      <td>-0.243317</td>\n",
              "      <td>0.548903</td>\n",
              "      <td>0.247065</td>\n",
              "      <td>0.085950</td>\n",
              "      <td>0.090544</td>\n",
              "      <td>0.215525</td>\n",
              "      <td>-0.007705</td>\n",
              "      <td>0.236954</td>\n",
              "      <td>0.022785</td>\n",
              "      <td>0.103224</td>\n",
              "      <td>0.048402</td>\n",
              "      <td>0.109367</td>\n",
              "      <td>-0.103262</td>\n",
              "      <td>0.004129</td>\n",
              "      <td>0.066211</td>\n",
              "      <td>0.072773</td>\n",
              "      <td>-0.033051</td>\n",
              "      <td>-0.400643</td>\n",
              "      <td>-0.338978</td>\n",
              "      <td>0.207299</td>\n",
              "      <td>0.009161</td>\n",
              "      <td>0.171027</td>\n",
              "      <td>0.002316</td>\n",
              "      <td>-0.209799</td>\n",
              "      <td>-0.076251</td>\n",
              "      <td>0.134162</td>\n",
              "      <td>-0.128018</td>\n",
              "      <td>-0.219210</td>\n",
              "      <td>0.101524</td>\n",
              "    </tr>\n",
              "    <tr>\n",
              "      <th>std</th>\n",
              "      <td>1.393399</td>\n",
              "      <td>0.812363</td>\n",
              "      <td>1.035731</td>\n",
              "      <td>0.950012</td>\n",
              "      <td>1.032091</td>\n",
              "      <td>1.179388</td>\n",
              "      <td>0.882395</td>\n",
              "      <td>1.125494</td>\n",
              "      <td>1.749885</td>\n",
              "      <td>1.087180</td>\n",
              "      <td>1.291501</td>\n",
              "      <td>1.253604</td>\n",
              "      <td>1.234590</td>\n",
              "      <td>1.273068</td>\n",
              "      <td>1.247178</td>\n",
              "      <td>0.659839</td>\n",
              "      <td>1.418997</td>\n",
              "      <td>1.179688</td>\n",
              "      <td>0.743301</td>\n",
              "      <td>0.844796</td>\n",
              "      <td>1.219529</td>\n",
              "      <td>0.824401</td>\n",
              "      <td>0.924838</td>\n",
              "      <td>0.760159</td>\n",
              "      <td>1.203186</td>\n",
              "      <td>0.866977</td>\n",
              "      <td>1.103765</td>\n",
              "      <td>1.001687</td>\n",
              "      <td>1.027758</td>\n",
              "      <td>1.279399</td>\n",
              "      <td>1.302567</td>\n",
              "      <td>1.559174</td>\n",
              "      <td>0.933514</td>\n",
              "      <td>1.172270</td>\n",
              "      <td>1.174325</td>\n",
              "      <td>1.061719</td>\n",
              "      <td>1.397677</td>\n",
              "      <td>2.200277</td>\n",
              "      <td>2.003317</td>\n",
              "      <td>0.990477</td>\n",
              "      <td>...</td>\n",
              "      <td>1.075809</td>\n",
              "      <td>1.309482</td>\n",
              "      <td>0.881283</td>\n",
              "      <td>0.917119</td>\n",
              "      <td>1.186966</td>\n",
              "      <td>1.212621</td>\n",
              "      <td>1.175611</td>\n",
              "      <td>1.182180</td>\n",
              "      <td>1.057292</td>\n",
              "      <td>0.996940</td>\n",
              "      <td>1.029370</td>\n",
              "      <td>1.378815</td>\n",
              "      <td>2.023791</td>\n",
              "      <td>1.639307</td>\n",
              "      <td>1.238753</td>\n",
              "      <td>0.961212</td>\n",
              "      <td>1.293783</td>\n",
              "      <td>0.966213</td>\n",
              "      <td>1.284074</td>\n",
              "      <td>1.015557</td>\n",
              "      <td>1.035968</td>\n",
              "      <td>1.048645</td>\n",
              "      <td>0.856080</td>\n",
              "      <td>1.175372</td>\n",
              "      <td>0.701031</td>\n",
              "      <td>0.996914</td>\n",
              "      <td>1.077310</td>\n",
              "      <td>1.579948</td>\n",
              "      <td>1.913468</td>\n",
              "      <td>1.701554</td>\n",
              "      <td>1.096488</td>\n",
              "      <td>1.200395</td>\n",
              "      <td>1.357701</td>\n",
              "      <td>1.052771</td>\n",
              "      <td>1.201918</td>\n",
              "      <td>1.115477</td>\n",
              "      <td>0.951264</td>\n",
              "      <td>1.230636</td>\n",
              "      <td>1.326193</td>\n",
              "      <td>1.417674</td>\n",
              "    </tr>\n",
              "    <tr>\n",
              "      <th>min</th>\n",
              "      <td>-5.513000</td>\n",
              "      <td>-5.737000</td>\n",
              "      <td>-9.104000</td>\n",
              "      <td>-5.998000</td>\n",
              "      <td>-6.369000</td>\n",
              "      <td>-10.000000</td>\n",
              "      <td>-10.000000</td>\n",
              "      <td>-10.000000</td>\n",
              "      <td>-10.000000</td>\n",
              "      <td>-8.337000</td>\n",
              "      <td>-10.000000</td>\n",
              "      <td>-5.870000</td>\n",
              "      <td>-8.587000</td>\n",
              "      <td>-5.018000</td>\n",
              "      <td>-10.000000</td>\n",
              "      <td>-10.000000</td>\n",
              "      <td>-10.000000</td>\n",
              "      <td>-10.000000</td>\n",
              "      <td>-4.226000</td>\n",
              "      <td>-10.000000</td>\n",
              "      <td>-10.000000</td>\n",
              "      <td>-5.700000</td>\n",
              "      <td>-10.000000</td>\n",
              "      <td>-10.000000</td>\n",
              "      <td>-10.000000</td>\n",
              "      <td>-8.272000</td>\n",
              "      <td>-8.184000</td>\n",
              "      <td>-4.835000</td>\n",
              "      <td>-7.913000</td>\n",
              "      <td>-10.000000</td>\n",
              "      <td>-10.000000</td>\n",
              "      <td>-2.956000</td>\n",
              "      <td>-8.356000</td>\n",
              "      <td>-7.182000</td>\n",
              "      <td>-10.000000</td>\n",
              "      <td>-9.261000</td>\n",
              "      <td>-10.000000</td>\n",
              "      <td>-10.000000</td>\n",
              "      <td>-10.000000</td>\n",
              "      <td>-4.223000</td>\n",
              "      <td>...</td>\n",
              "      <td>-5.504000</td>\n",
              "      <td>-10.000000</td>\n",
              "      <td>-3.790000</td>\n",
              "      <td>-10.000000</td>\n",
              "      <td>-10.000000</td>\n",
              "      <td>-10.000000</td>\n",
              "      <td>-7.920000</td>\n",
              "      <td>-10.000000</td>\n",
              "      <td>-9.462000</td>\n",
              "      <td>-6.634000</td>\n",
              "      <td>-10.000000</td>\n",
              "      <td>-10.000000</td>\n",
              "      <td>-2.912000</td>\n",
              "      <td>-9.833000</td>\n",
              "      <td>-7.227000</td>\n",
              "      <td>-5.561000</td>\n",
              "      <td>-8.393000</td>\n",
              "      <td>-5.790000</td>\n",
              "      <td>-4.915000</td>\n",
              "      <td>-10.000000</td>\n",
              "      <td>-10.000000</td>\n",
              "      <td>-7.918000</td>\n",
              "      <td>-5.255000</td>\n",
              "      <td>-10.000000</td>\n",
              "      <td>-6.264000</td>\n",
              "      <td>-10.000000</td>\n",
              "      <td>-5.505000</td>\n",
              "      <td>-10.000000</td>\n",
              "      <td>-10.000000</td>\n",
              "      <td>-10.000000</td>\n",
              "      <td>-8.193000</td>\n",
              "      <td>-10.000000</td>\n",
              "      <td>-9.795000</td>\n",
              "      <td>-8.180000</td>\n",
              "      <td>-10.000000</td>\n",
              "      <td>-10.000000</td>\n",
              "      <td>-4.269000</td>\n",
              "      <td>-10.000000</td>\n",
              "      <td>-10.000000</td>\n",
              "      <td>-10.000000</td>\n",
              "    </tr>\n",
              "    <tr>\n",
              "      <th>25%</th>\n",
              "      <td>-0.473075</td>\n",
              "      <td>-0.562200</td>\n",
              "      <td>-0.437750</td>\n",
              "      <td>-0.429575</td>\n",
              "      <td>-0.470925</td>\n",
              "      <td>-0.602225</td>\n",
              "      <td>-0.493900</td>\n",
              "      <td>-0.525175</td>\n",
              "      <td>-0.511675</td>\n",
              "      <td>-0.360200</td>\n",
              "      <td>-0.511475</td>\n",
              "      <td>-0.489675</td>\n",
              "      <td>-0.447500</td>\n",
              "      <td>-0.481200</td>\n",
              "      <td>-0.607975</td>\n",
              "      <td>-0.404150</td>\n",
              "      <td>-0.391950</td>\n",
              "      <td>-0.513775</td>\n",
              "      <td>-0.272200</td>\n",
              "      <td>-0.488675</td>\n",
              "      <td>-0.524600</td>\n",
              "      <td>-0.538900</td>\n",
              "      <td>-0.440375</td>\n",
              "      <td>-0.508900</td>\n",
              "      <td>-0.533900</td>\n",
              "      <td>-0.497700</td>\n",
              "      <td>-0.512875</td>\n",
              "      <td>-0.467800</td>\n",
              "      <td>-0.378300</td>\n",
              "      <td>-0.505750</td>\n",
              "      <td>-0.457975</td>\n",
              "      <td>-0.328200</td>\n",
              "      <td>-0.600500</td>\n",
              "      <td>-0.478700</td>\n",
              "      <td>-0.570525</td>\n",
              "      <td>-0.481800</td>\n",
              "      <td>-0.541950</td>\n",
              "      <td>-0.604100</td>\n",
              "      <td>-0.470250</td>\n",
              "      <td>-0.401700</td>\n",
              "      <td>...</td>\n",
              "      <td>-0.390700</td>\n",
              "      <td>-0.565075</td>\n",
              "      <td>-0.433275</td>\n",
              "      <td>-0.498650</td>\n",
              "      <td>-0.526300</td>\n",
              "      <td>-0.430750</td>\n",
              "      <td>-0.488775</td>\n",
              "      <td>-0.593125</td>\n",
              "      <td>-0.498275</td>\n",
              "      <td>-0.489800</td>\n",
              "      <td>-0.564100</td>\n",
              "      <td>-0.538000</td>\n",
              "      <td>-0.464000</td>\n",
              "      <td>-0.521975</td>\n",
              "      <td>-0.488600</td>\n",
              "      <td>-0.442925</td>\n",
              "      <td>-0.457200</td>\n",
              "      <td>-0.477900</td>\n",
              "      <td>-0.458175</td>\n",
              "      <td>-0.479075</td>\n",
              "      <td>-0.478825</td>\n",
              "      <td>-0.489300</td>\n",
              "      <td>-0.327500</td>\n",
              "      <td>-0.576775</td>\n",
              "      <td>-0.278275</td>\n",
              "      <td>-0.492700</td>\n",
              "      <td>-0.501575</td>\n",
              "      <td>-0.526450</td>\n",
              "      <td>-0.507375</td>\n",
              "      <td>-0.559175</td>\n",
              "      <td>-0.433875</td>\n",
              "      <td>-0.502250</td>\n",
              "      <td>-0.537075</td>\n",
              "      <td>-0.508775</td>\n",
              "      <td>-0.606175</td>\n",
              "      <td>-0.506200</td>\n",
              "      <td>-0.353100</td>\n",
              "      <td>-0.544600</td>\n",
              "      <td>-0.554400</td>\n",
              "      <td>-0.523800</td>\n",
              "    </tr>\n",
              "    <tr>\n",
              "      <th>50%</th>\n",
              "      <td>-0.008850</td>\n",
              "      <td>-0.046600</td>\n",
              "      <td>0.075200</td>\n",
              "      <td>0.008050</td>\n",
              "      <td>-0.026900</td>\n",
              "      <td>-0.015650</td>\n",
              "      <td>-0.000650</td>\n",
              "      <td>-0.017900</td>\n",
              "      <td>0.010000</td>\n",
              "      <td>0.160450</td>\n",
              "      <td>0.038550</td>\n",
              "      <td>0.013800</td>\n",
              "      <td>0.060250</td>\n",
              "      <td>0.009800</td>\n",
              "      <td>-0.030100</td>\n",
              "      <td>0.000000</td>\n",
              "      <td>0.149400</td>\n",
              "      <td>-0.002200</td>\n",
              "      <td>0.000000</td>\n",
              "      <td>-0.027800</td>\n",
              "      <td>-0.002800</td>\n",
              "      <td>-0.069350</td>\n",
              "      <td>-0.011800</td>\n",
              "      <td>0.000000</td>\n",
              "      <td>0.018300</td>\n",
              "      <td>-0.011650</td>\n",
              "      <td>0.016100</td>\n",
              "      <td>0.037600</td>\n",
              "      <td>0.003750</td>\n",
              "      <td>0.021750</td>\n",
              "      <td>0.027000</td>\n",
              "      <td>0.019100</td>\n",
              "      <td>-0.054000</td>\n",
              "      <td>0.023350</td>\n",
              "      <td>0.003350</td>\n",
              "      <td>-0.000600</td>\n",
              "      <td>0.015350</td>\n",
              "      <td>-0.000700</td>\n",
              "      <td>0.005800</td>\n",
              "      <td>0.007400</td>\n",
              "      <td>...</td>\n",
              "      <td>0.065650</td>\n",
              "      <td>-0.014100</td>\n",
              "      <td>0.030850</td>\n",
              "      <td>-0.001800</td>\n",
              "      <td>-0.008400</td>\n",
              "      <td>0.101400</td>\n",
              "      <td>0.033400</td>\n",
              "      <td>-0.001600</td>\n",
              "      <td>0.000850</td>\n",
              "      <td>0.014800</td>\n",
              "      <td>-0.044000</td>\n",
              "      <td>0.017400</td>\n",
              "      <td>0.000850</td>\n",
              "      <td>-0.015550</td>\n",
              "      <td>0.025350</td>\n",
              "      <td>0.017750</td>\n",
              "      <td>0.053450</td>\n",
              "      <td>0.027700</td>\n",
              "      <td>-0.002100</td>\n",
              "      <td>0.009500</td>\n",
              "      <td>-0.004450</td>\n",
              "      <td>-0.000050</td>\n",
              "      <td>0.002400</td>\n",
              "      <td>0.024250</td>\n",
              "      <td>0.000000</td>\n",
              "      <td>0.005300</td>\n",
              "      <td>0.013600</td>\n",
              "      <td>0.001350</td>\n",
              "      <td>0.007350</td>\n",
              "      <td>0.038700</td>\n",
              "      <td>0.059600</td>\n",
              "      <td>-0.005900</td>\n",
              "      <td>-0.013600</td>\n",
              "      <td>-0.027700</td>\n",
              "      <td>-0.011850</td>\n",
              "      <td>0.009900</td>\n",
              "      <td>0.005400</td>\n",
              "      <td>0.000600</td>\n",
              "      <td>0.028700</td>\n",
              "      <td>-0.006500</td>\n",
              "    </tr>\n",
              "    <tr>\n",
              "      <th>75%</th>\n",
              "      <td>0.525700</td>\n",
              "      <td>0.403075</td>\n",
              "      <td>0.663925</td>\n",
              "      <td>0.463400</td>\n",
              "      <td>0.465375</td>\n",
              "      <td>0.510425</td>\n",
              "      <td>0.528725</td>\n",
              "      <td>0.411900</td>\n",
              "      <td>0.549225</td>\n",
              "      <td>0.697775</td>\n",
              "      <td>0.525400</td>\n",
              "      <td>0.575275</td>\n",
              "      <td>0.604450</td>\n",
              "      <td>0.575825</td>\n",
              "      <td>0.457975</td>\n",
              "      <td>0.382475</td>\n",
              "      <td>0.829500</td>\n",
              "      <td>0.494775</td>\n",
              "      <td>0.327800</td>\n",
              "      <td>0.400600</td>\n",
              "      <td>0.492400</td>\n",
              "      <td>0.414875</td>\n",
              "      <td>0.433400</td>\n",
              "      <td>0.329250</td>\n",
              "      <td>0.527700</td>\n",
              "      <td>0.461650</td>\n",
              "      <td>0.508425</td>\n",
              "      <td>0.586450</td>\n",
              "      <td>0.431275</td>\n",
              "      <td>0.507600</td>\n",
              "      <td>0.458075</td>\n",
              "      <td>0.471075</td>\n",
              "      <td>0.391950</td>\n",
              "      <td>0.551300</td>\n",
              "      <td>0.503725</td>\n",
              "      <td>0.564875</td>\n",
              "      <td>0.517025</td>\n",
              "      <td>0.460500</td>\n",
              "      <td>0.642300</td>\n",
              "      <td>0.439400</td>\n",
              "      <td>...</td>\n",
              "      <td>0.646900</td>\n",
              "      <td>0.467900</td>\n",
              "      <td>0.543400</td>\n",
              "      <td>0.477200</td>\n",
              "      <td>0.497400</td>\n",
              "      <td>0.846400</td>\n",
              "      <td>0.573875</td>\n",
              "      <td>0.501675</td>\n",
              "      <td>0.519825</td>\n",
              "      <td>0.515000</td>\n",
              "      <td>0.412375</td>\n",
              "      <td>0.479400</td>\n",
              "      <td>0.646325</td>\n",
              "      <td>0.565200</td>\n",
              "      <td>0.610075</td>\n",
              "      <td>0.506975</td>\n",
              "      <td>0.671725</td>\n",
              "      <td>0.514175</td>\n",
              "      <td>0.524175</td>\n",
              "      <td>0.501325</td>\n",
              "      <td>0.516975</td>\n",
              "      <td>0.517475</td>\n",
              "      <td>0.375275</td>\n",
              "      <td>0.572250</td>\n",
              "      <td>0.251600</td>\n",
              "      <td>0.540950</td>\n",
              "      <td>0.530900</td>\n",
              "      <td>0.527900</td>\n",
              "      <td>0.475275</td>\n",
              "      <td>0.522075</td>\n",
              "      <td>0.648500</td>\n",
              "      <td>0.492150</td>\n",
              "      <td>0.522500</td>\n",
              "      <td>0.457000</td>\n",
              "      <td>0.483000</td>\n",
              "      <td>0.511175</td>\n",
              "      <td>0.409075</td>\n",
              "      <td>0.498500</td>\n",
              "      <td>0.496400</td>\n",
              "      <td>0.536950</td>\n",
              "    </tr>\n",
              "    <tr>\n",
              "      <th>max</th>\n",
              "      <td>10.000000</td>\n",
              "      <td>5.039000</td>\n",
              "      <td>8.257000</td>\n",
              "      <td>10.000000</td>\n",
              "      <td>10.000000</td>\n",
              "      <td>7.282000</td>\n",
              "      <td>7.333000</td>\n",
              "      <td>5.473000</td>\n",
              "      <td>8.887000</td>\n",
              "      <td>6.433000</td>\n",
              "      <td>10.000000</td>\n",
              "      <td>10.000000</td>\n",
              "      <td>10.000000</td>\n",
              "      <td>10.000000</td>\n",
              "      <td>10.000000</td>\n",
              "      <td>4.134000</td>\n",
              "      <td>6.418000</td>\n",
              "      <td>4.750000</td>\n",
              "      <td>8.872000</td>\n",
              "      <td>4.081000</td>\n",
              "      <td>9.842000</td>\n",
              "      <td>5.248000</td>\n",
              "      <td>5.942000</td>\n",
              "      <td>5.201000</td>\n",
              "      <td>10.000000</td>\n",
              "      <td>8.494000</td>\n",
              "      <td>10.000000</td>\n",
              "      <td>10.000000</td>\n",
              "      <td>10.000000</td>\n",
              "      <td>9.416000</td>\n",
              "      <td>10.000000</td>\n",
              "      <td>10.000000</td>\n",
              "      <td>6.796000</td>\n",
              "      <td>10.000000</td>\n",
              "      <td>10.000000</td>\n",
              "      <td>10.000000</td>\n",
              "      <td>5.834000</td>\n",
              "      <td>5.602000</td>\n",
              "      <td>10.000000</td>\n",
              "      <td>10.000000</td>\n",
              "      <td>...</td>\n",
              "      <td>10.000000</td>\n",
              "      <td>5.444000</td>\n",
              "      <td>10.000000</td>\n",
              "      <td>4.889000</td>\n",
              "      <td>10.000000</td>\n",
              "      <td>7.635000</td>\n",
              "      <td>10.000000</td>\n",
              "      <td>6.664000</td>\n",
              "      <td>9.566000</td>\n",
              "      <td>10.000000</td>\n",
              "      <td>3.497000</td>\n",
              "      <td>6.911000</td>\n",
              "      <td>10.000000</td>\n",
              "      <td>10.000000</td>\n",
              "      <td>10.000000</td>\n",
              "      <td>10.000000</td>\n",
              "      <td>10.000000</td>\n",
              "      <td>10.000000</td>\n",
              "      <td>10.000000</td>\n",
              "      <td>10.000000</td>\n",
              "      <td>10.000000</td>\n",
              "      <td>10.000000</td>\n",
              "      <td>10.000000</td>\n",
              "      <td>5.323000</td>\n",
              "      <td>10.000000</td>\n",
              "      <td>6.533000</td>\n",
              "      <td>10.000000</td>\n",
              "      <td>10.000000</td>\n",
              "      <td>4.008000</td>\n",
              "      <td>5.900000</td>\n",
              "      <td>10.000000</td>\n",
              "      <td>9.552000</td>\n",
              "      <td>10.000000</td>\n",
              "      <td>8.346000</td>\n",
              "      <td>5.444000</td>\n",
              "      <td>6.317000</td>\n",
              "      <td>10.000000</td>\n",
              "      <td>5.911000</td>\n",
              "      <td>10.000000</td>\n",
              "      <td>10.000000</td>\n",
              "    </tr>\n",
              "  </tbody>\n",
              "</table>\n",
              "<p>8 rows × 772 columns</p>\n",
              "</div>"
            ],
            "text/plain": [
              "                g-0           g-1  ...         g-770         g-771\n",
              "count  23814.000000  23814.000000  ...  23814.000000  23814.000000\n",
              "mean       0.248366     -0.095684  ...     -0.219210      0.101524\n",
              "std        1.393399      0.812363  ...      1.326193      1.417674\n",
              "min       -5.513000     -5.737000  ...    -10.000000    -10.000000\n",
              "25%       -0.473075     -0.562200  ...     -0.554400     -0.523800\n",
              "50%       -0.008850     -0.046600  ...      0.028700     -0.006500\n",
              "75%        0.525700      0.403075  ...      0.496400      0.536950\n",
              "max       10.000000      5.039000  ...     10.000000     10.000000\n",
              "\n",
              "[8 rows x 772 columns]"
            ]
          },
          "metadata": {
            "tags": []
          },
          "execution_count": 55
        }
      ]
    },
    {
      "cell_type": "markdown",
      "metadata": {
        "id": "8mp610qzHQGY"
      },
      "source": [
        "Apesar do describe reunir as nossas estatísticas de interesse, é bastante complexo analisar o dataframe resposta. Para facilitar o nosso entendimento, vamos plotar histogramas que nos ajudaram na visualização das estatísticas de todas as colunas selecionadas.\n",
        "Olhando o dataframe original, anteriormente, fizemos o histograma de apenas uma coluna. Mas agora, nosso conjunto de dados de interesse é o ```describe()``` que fizemos a partir do ```loc[]``` e, deste ponto de vista, não queremos mais fazer o histograma coluna a coluna (genes), queremos que ele seja a partir das linhas (estatísticas). Por isso, vamos transpor as linhas e colunas (transformar as linhas em colunas e vice-versa).\n",
        "Para isso, vamos usar o ```.T[]``` no código anterior que produzimos para organizar o ```describe()```.\n",
        "Ou seja, vamos manter todo o código até o ```describe()``` e, ao final, acrescentaremos o ```.T[]```. Mas, ao rodarmos essa linha, percebemos que temos como devolutiva o mesmo dataframe mas transposto. E, como aqui, nosso interesse é produzir histogramas, acrescentamos como argumento do ```.T[]``` a estatística alvo (```.T['estatística']```) e, por último, acrescentamos o ```.hist(bins = número de quebras)``` para que o histograma seja observado.\n",
        "\n"
      ]
    },
    {
      "cell_type": "code",
      "metadata": {
        "colab": {
          "base_uri": "https://localhost:8080/",
          "height": 285
        },
        "id": "ij9QVxGArZsd",
        "outputId": "f4871a9b-6fd4-4fea-b8b2-e08eeef61af7"
      },
      "source": [
        "dados.loc[:,'g-0':'g-771'].describe().T['mean'].hist(bins=30)"
      ],
      "execution_count": null,
      "outputs": [
        {
          "output_type": "execute_result",
          "data": {
            "text/plain": [
              "<matplotlib.axes._subplots.AxesSubplot at 0x7f453ac4f150>"
            ]
          },
          "metadata": {
            "tags": []
          },
          "execution_count": 56
        },
        {
          "output_type": "display_data",
          "data": {
            "image/png": "[encoded data removed]",
            "text/plain": [
              "<Figure size 432x288 with 1 Axes>"
            ]
          },
          "metadata": {
            "tags": []
          }
        }
      ]
    },
    {
      "cell_type": "markdown",
      "metadata": {
        "id": "qbINMiTKKNqK"
      },
      "source": [
        "A seguir, reproduzimos o código acima apenas alterando o parâmetro estatístico a ser analisado (mínimo e máximo, por exemplo). \n",
        "E assim, podemos perceber as nuances de cada métrica."
      ]
    },
    {
      "cell_type": "code",
      "metadata": {
        "colab": {
          "base_uri": "https://localhost:8080/",
          "height": 285
        },
        "id": "u31uRxYWr2PG",
        "outputId": "6ae7bdb7-1961-4a8b-91c3-f9d29c1e95df"
      },
      "source": [
        "dados.loc[:,'g-0':'g-771'].describe().T['min'].hist(bins=30)"
      ],
      "execution_count": null,
      "outputs": [
        {
          "output_type": "execute_result",
          "data": {
            "text/plain": [
              "<matplotlib.axes._subplots.AxesSubplot at 0x7f453ae2eb50>"
            ]
          },
          "metadata": {
            "tags": []
          },
          "execution_count": 57
        },
        {
          "output_type": "display_data",
          "data": {
            "image/png": "[encoded data removed]",
            "text/plain": [
              "<Figure size 432x288 with 1 Axes>"
            ]
          },
          "metadata": {
            "tags": []
          }
        }
      ]
    },
    {
      "cell_type": "code",
      "metadata": {
        "colab": {
          "base_uri": "https://localhost:8080/",
          "height": 285
        },
        "id": "bYnsG81Sr8mc",
        "outputId": "088cd401-6704-40be-b3bf-569606ed92eb"
      },
      "source": [
        "dados.loc[:,'g-0':'g-771'].describe().T['max'].hist(bins=30)"
      ],
      "execution_count": null,
      "outputs": [
        {
          "output_type": "execute_result",
          "data": {
            "text/plain": [
              "<matplotlib.axes._subplots.AxesSubplot at 0x7f453ab1d3d0>"
            ]
          },
          "metadata": {
            "tags": []
          },
          "execution_count": 58
        },
        {
          "output_type": "display_data",
          "data": {
            "image/png": "[encoded data removed]",
            "text/plain": [
              "<Figure size 432x288 with 1 Axes>"
            ]
          },
          "metadata": {
            "tags": []
          }
        }
      ]
    },
    {
      "cell_type": "markdown",
      "metadata": {
        "id": "g8FvuJapKhco"
      },
      "source": [
        "É muito interessante que a gente replique a análise desenvolvida para os ```genes (g)```, nos ```tipos celulares (c)```. \n",
        "Por isso, vamos copiar a linha de código que produz os histogramas mas aqui, vamos modificar o argumento ```loc[:,'g-0':'g-771'] -> loc[:,'c-0':'c-99']``` e a quantidade de bins ```hist(bins=100) -> hist(bins=50)```."
      ]
    },
    {
      "cell_type": "code",
      "metadata": {
        "colab": {
          "base_uri": "https://localhost:8080/",
          "height": 285
        },
        "id": "hu2jZ2snuJ09",
        "outputId": "12ede323-4996-423b-9eb7-533992daa2da"
      },
      "source": [
        "dados.loc[:,'c-0':'c-99'].describe().T['mean'].hist(bins=50)"
      ],
      "execution_count": null,
      "outputs": [
        {
          "output_type": "execute_result",
          "data": {
            "text/plain": [
              "<matplotlib.axes._subplots.AxesSubplot at 0x7f453acc9c50>"
            ]
          },
          "metadata": {
            "tags": []
          },
          "execution_count": 60
        },
        {
          "output_type": "display_data",
          "data": {
            "image/png": "[encoded data removed]",
            "text/plain": [
              "<Figure size 432x288 with 1 Axes>"
            ]
          },
          "metadata": {
            "tags": []
          }
        }
      ]
    },
    {
      "cell_type": "markdown",
      "metadata": {
        "id": "kUCr17j6xpu5"
      },
      "source": [
        "Um outro tipo de gráfico super interessante e útil é o boxplot. \n",
        "Para visualizá-lo, vamos usar a função ```boxplot```do Seaborn e, como argumentos dessa função vamos passar um ```x```, onde ```x = coluna que será plotada neste eixo``` e a base de dados ```data = conjunto de dados```.\n",
        "O boxplot apresenta uma caixa no meio onde podemos identificar a mediana (linha no meio da caixa que é o ponto onde metade dos dados estão na direita e a outra metade para a esquerda), os outliers (pontos acima ou abaixo do eixo principal do gráfico que representam valores discrepantes para mais ou para menos), a maior concentração dos dados (caixa principal que representa onde está a mior parte dos dados - primeiro quartil (25%) e terceiro quartil (75%)) e os máximos e mínimos desconsiderando os outliers (linhas laterais à caixa principal).\n",
        "O boxplot é uma importante ferramenta na visualização de dados porque em apenas um gráfico, podemos identificar várias métricas estatísticas."
      ]
    },
    {
      "cell_type": "code",
      "metadata": {
        "colab": {
          "base_uri": "https://localhost:8080/",
          "height": 302
        },
        "id": "R9LHaY0yv29K",
        "outputId": "fcb8de2a-16e5-4ab4-892c-2fe16851bc98"
      },
      "source": [
        "sns.boxplot(x='g-0' , data=dados)"
      ],
      "execution_count": null,
      "outputs": [
        {
          "output_type": "execute_result",
          "data": {
            "text/plain": [
              "<matplotlib.axes._subplots.AxesSubplot at 0x7f453a9697d0>"
            ]
          },
          "metadata": {
            "tags": []
          },
          "execution_count": 64
        },
        {
          "output_type": "display_data",
          "data": {
            "image/png": "[encoded data removed]",
            "text/plain": [
              "<Figure size 432x288 with 1 Axes>"
            ]
          },
          "metadata": {
            "tags": []
          }
        }
      ]
    },
    {
      "cell_type": "markdown",
      "metadata": {
        "id": "-4kvTdIE3d0W"
      },
      "source": [
        "Podemos também, além de definir apenas os dados que irão no eixo x, definimos os dados para o outro eixo, atribuindo um valor para o parâmetro ```y``` (```y = variável que vai ser plotada neste eixo```).\n",
        "Como podemos perceber, no boxplot que representa o ```tratamento = com_droga``` apresenta muitos outliers e isso gera uma discussão bastante interessante pois, do ponto de vista biológico a investigação desses pontos é importante mas, dependendo da área que estamos trabalhando, esse ponto pode apresentar outras soluções. \n",
        "Dito isso, é importante para um cientista de dados não só entender e manipular a base de dados mas também saber acerca do negócio que estamos tratando."
      ]
    },
    {
      "cell_type": "code",
      "metadata": {
        "colab": {
          "base_uri": "https://localhost:8080/",
          "height": 520
        },
        "id": "h87JI4a_yNa1",
        "outputId": "3cbb14e3-fa8d-4fdf-9931-8dd3d348ff89"
      },
      "source": [
        "plt.figure(figsize=(10,8))\n",
        "sns.boxplot(y='g-0', x='tratamento' , data=dados)"
      ],
      "execution_count": null,
      "outputs": [
        {
          "output_type": "execute_result",
          "data": {
            "text/plain": [
              "<matplotlib.axes._subplots.AxesSubplot at 0x7f453a61eb90>"
            ]
          },
          "metadata": {
            "tags": []
          },
          "execution_count": 62
        },
        {
          "output_type": "display_data",
          "data": {
            "image/png": "[encoded data removed]",
            "text/plain": [
              "<Figure size 720x576 with 1 Axes>"
            ]
          },
          "metadata": {
            "tags": []
          }
        }
      ]
    },
    {
      "cell_type": "markdown",
      "metadata": {
        "id": "KbXSuyvbqdTE"
      },
      "source": [
        "#Desafios"
      ]
    },
    {
      "cell_type": "markdown",
      "metadata": {
        "id": "X_Lg2XTu20ND"
      },
      "source": [
        "\n",
        "\n",
        "\n",
        "##Aula2\n",
        "\n",
        "###Desafio 01: Ordenar o gráfico countplot\n",
        "\n",
        "###Desafio 02: Melhorar a visualização alterando tamanho da fonte...\n",
        "\n",
        "###Desafio 03: Plotar os histogramas com seaborn\n",
        "\n",
        "###Desafio 04: Estudar sobre as estatíticas retornadas no .describe()\n",
        "\n",
        "###Desafio 05: Refletir sobre a manipulação do tamanho das visualizações. \n",
        "\n",
        "###Desafio 06: Fazer outras análises com o boxplot e até com o histograma. \n",
        "\n",
        "###Desafio 07: Resumo do que você aprendeu com os dados"
      ]
    },
    {
      "cell_type": "markdown",
      "metadata": {
        "id": "dmpd0OER_Rkh"
      },
      "source": [
        "###Desafio 01: Ordenar o gráfico countplot\n"
      ]
    },
    {
      "cell_type": "code",
      "metadata": {
        "colab": {
          "base_uri": "https://localhost:8080/",
          "height": 518
        },
        "id": "qbLlRJG4_Xzq",
        "outputId": "d6b0e69c-f0aa-4734-bf95-fa8112e8bdce"
      },
      "source": [
        "import seaborn as sns\n",
        "import matplotlib.pyplot as plt\n",
        "sns.set()\n",
        "plt.figure(figsize=(10, 8))\n",
        "ax = sns.countplot(x = 'composto', data=dados.query('composto in @cod_compostos'), order= dados['composto'].value_counts().index[0:5], palette='rocket')\n",
        "ax.set_title('Top 5 compostos')\n",
        "plt.title(\"Top 5 compostos\", fontsize = 12)\n",
        "plt.xlabel(\"Composto\", fontsize = 12)\n",
        "plt.ylabel(\"Contagem compostos\", fontsize = 12)\n",
        "plt.show()"
      ],
      "execution_count": null,
      "outputs": [
        {
          "output_type": "display_data",
          "data": {
            "image/png": "[encoded data removed]",
            "text/plain": [
              "<Figure size 720x576 with 1 Axes>"
            ]
          },
          "metadata": {
            "tags": []
          }
        }
      ]
    },
    {
      "cell_type": "markdown",
      "metadata": {
        "id": "aaJD9pvT_S3a"
      },
      "source": [
        "###Desafio 02: Melhorar a visualização alterando tamanho da fonte"
      ]
    },
    {
      "cell_type": "code",
      "metadata": {
        "colab": {
          "base_uri": "https://localhost:8080/",
          "height": 516
        },
        "id": "R1jx3aVhAxtn",
        "outputId": "b15c7df4-1e5e-40e2-b14e-14952e70ef52"
      },
      "source": [
        "import seaborn as sns\n",
        "import matplotlib.pyplot as plt\n",
        "sns.set()\n",
        "plt.figure(figsize=(10, 8))\n",
        "ax = sns.countplot(x = 'composto', data=dados.query('composto in @cod_compostos'), order= dados['composto'].value_counts().index[0:5], palette='pastel')\n",
        "ax.set_title('Top 5 compostos')\n",
        "plt.title(\"Top 5 compostos\", fontsize = 14)\n",
        "plt.xlabel(\"Composto\", fontsize = 10)\n",
        "plt.ylabel(\"Contagem compostos\", fontsize = 10)\n",
        "plt.show()"
      ],
      "execution_count": null,
      "outputs": [
        {
          "output_type": "display_data",
          "data": {
            "image/png": "[encoded data removed]",
            "text/plain": [
              "<Figure size 720x576 with 1 Axes>"
            ]
          },
          "metadata": {
            "tags": []
          }
        }
      ]
    },
    {
      "cell_type": "code",
      "metadata": {
        "id": "CNlw_ryT_osu"
      },
      "source": [
        "## escolher paletas de cores https://seaborn.pydata.org/tutorial/color_palettes.html"
      ],
      "execution_count": null,
      "outputs": []
    },
    {
      "cell_type": "markdown",
      "metadata": {
        "id": "rdlHh7v6_7lm"
      },
      "source": [
        "###Desafio 03: Plotar os histogramas com seaborn\n"
      ]
    },
    {
      "cell_type": "code",
      "metadata": {
        "colab": {
          "base_uri": "https://localhost:8080/",
          "height": 285
        },
        "id": "oJRgGb--BOr9",
        "outputId": "766542ed-a71a-49c7-e189-a0c866fde24f"
      },
      "source": [
        "dados.loc[:, 'g-0':'g-771'].describe().T['mean'].hist(bins= 30, color={'m'})"
      ],
      "execution_count": null,
      "outputs": [
        {
          "output_type": "execute_result",
          "data": {
            "text/plain": [
              "<matplotlib.axes._subplots.AxesSubplot at 0x7f453570cad0>"
            ]
          },
          "metadata": {
            "tags": []
          },
          "execution_count": 99
        },
        {
          "output_type": "display_data",
          "data": {
            "image/png": "[encoded data removed]",
            "text/plain": [
              "<Figure size 432x288 with 1 Axes>"
            ]
          },
          "metadata": {
            "tags": []
          }
        }
      ]
    },
    {
      "cell_type": "code",
      "metadata": {
        "colab": {
          "base_uri": "https://localhost:8080/",
          "height": 285
        },
        "id": "yluSB3CABiIs",
        "outputId": "b96d9f7d-e2e0-40c4-e42f-1247948ba8a7"
      },
      "source": [
        "dados.loc[:, 'g-0':'g-771'].describe().T['std'].hist(bins= 30, color={'r'})"
      ],
      "execution_count": null,
      "outputs": [
        {
          "output_type": "execute_result",
          "data": {
            "text/plain": [
              "<matplotlib.axes._subplots.AxesSubplot at 0x7f4535769bd0>"
            ]
          },
          "metadata": {
            "tags": []
          },
          "execution_count": 95
        },
        {
          "output_type": "display_data",
          "data": {
            "image/png": "[encoded data removed]",
            "text/plain": [
              "<Figure size 432x288 with 1 Axes>"
            ]
          },
          "metadata": {
            "tags": []
          }
        }
      ]
    },
    {
      "cell_type": "code",
      "metadata": {
        "id": "Cpp65EnEBUbN"
      },
      "source": [
        ""
      ],
      "execution_count": null,
      "outputs": []
    },
    {
      "cell_type": "code",
      "metadata": {
        "colab": {
          "base_uri": "https://localhost:8080/",
          "height": 285
        },
        "id": "YQ1ensGZBtNe",
        "outputId": "c3a2dce2-17a0-4f8c-a8b1-d002a0d4365b"
      },
      "source": [
        "dados.loc[:, 'g-0':'g-771'].describe().T['25%'].hist(bins= 30, color={'y'})"
      ],
      "execution_count": null,
      "outputs": [
        {
          "output_type": "execute_result",
          "data": {
            "text/plain": [
              "<matplotlib.axes._subplots.AxesSubplot at 0x7f45358bfc10>"
            ]
          },
          "metadata": {
            "tags": []
          },
          "execution_count": 98
        },
        {
          "output_type": "display_data",
          "data": {
            "image/png": "[encoded data removed]",
            "text/plain": [
              "<Figure size 432x288 with 1 Axes>"
            ]
          },
          "metadata": {
            "tags": []
          }
        }
      ]
    },
    {
      "cell_type": "code",
      "metadata": {
        "id": "0V5_YMwUBvRT"
      },
      "source": [
        ""
      ],
      "execution_count": null,
      "outputs": []
    },
    {
      "cell_type": "code",
      "metadata": {
        "colab": {
          "base_uri": "https://localhost:8080/",
          "height": 285
        },
        "id": "McA_W9a0Bw2i",
        "outputId": "ceb11760-1277-400e-8706-6a7f50ff8a47"
      },
      "source": [
        "dados.loc[:, 'g-0':'g-771'].describe().T['50%'].hist(bins= 30, color={'c'})"
      ],
      "execution_count": null,
      "outputs": [
        {
          "output_type": "execute_result",
          "data": {
            "text/plain": [
              "<matplotlib.axes._subplots.AxesSubplot at 0x7f4535928dd0>"
            ]
          },
          "metadata": {
            "tags": []
          },
          "execution_count": 97
        },
        {
          "output_type": "display_data",
          "data": {
            "image/png": "[encoded data removed]",
            "text/plain": [
              "<Figure size 432x288 with 1 Axes>"
            ]
          },
          "metadata": {
            "tags": []
          }
        }
      ]
    },
    {
      "cell_type": "code",
      "metadata": {
        "id": "j78fWMCDBzBk"
      },
      "source": [
        ""
      ],
      "execution_count": null,
      "outputs": []
    },
    {
      "cell_type": "code",
      "metadata": {
        "colab": {
          "base_uri": "https://localhost:8080/",
          "height": 285
        },
        "id": "YKkuTHptB1VV",
        "outputId": "5476a24b-1e20-4e4e-8057-80fd0bc5e293"
      },
      "source": [
        "dados.loc[:, 'g-0':'g-771'].describe().T['75%'].hist(bins= 30)"
      ],
      "execution_count": null,
      "outputs": [
        {
          "output_type": "execute_result",
          "data": {
            "text/plain": [
              "<matplotlib.axes._subplots.AxesSubplot at 0x7f453584c3d0>"
            ]
          },
          "metadata": {
            "tags": []
          },
          "execution_count": 93
        },
        {
          "output_type": "display_data",
          "data": {
            "image/png": "[encoded data removed]",
            "text/plain": [
              "<Figure size 432x288 with 1 Axes>"
            ]
          },
          "metadata": {
            "tags": []
          }
        }
      ]
    },
    {
      "cell_type": "code",
      "metadata": {
        "id": "ielhLrHSB2kT"
      },
      "source": [
        ""
      ],
      "execution_count": null,
      "outputs": []
    },
    {
      "cell_type": "code",
      "metadata": {
        "colab": {
          "base_uri": "https://localhost:8080/",
          "height": 285
        },
        "id": "7PEK_vgYB3zi",
        "outputId": "639670ac-7354-4c04-b00f-00d625f0dc43"
      },
      "source": [
        "dados.loc[:, 'g-0':'g-771'].describe().T['max'].hist(bins= 30, color={'g'})"
      ],
      "execution_count": null,
      "outputs": [
        {
          "output_type": "execute_result",
          "data": {
            "text/plain": [
              "<matplotlib.axes._subplots.AxesSubplot at 0x7f4535aad110>"
            ]
          },
          "metadata": {
            "tags": []
          },
          "execution_count": 96
        },
        {
          "output_type": "display_data",
          "data": {
            "image/png": "[encoded data removed]",
            "text/plain": [
              "<Figure size 432x288 with 1 Axes>"
            ]
          },
          "metadata": {
            "tags": []
          }
        }
      ]
    },
    {
      "cell_type": "code",
      "metadata": {
        "id": "4vaMFbtiB7Ej"
      },
      "source": [
        ""
      ],
      "execution_count": null,
      "outputs": []
    },
    {
      "cell_type": "markdown",
      "metadata": {
        "id": "lCUOEWUcCaof"
      },
      "source": [
        "## Para não esquecer as cores, **one of the characters {'b', 'g', 'r', 'c', 'm', 'y', 'k', 'w'}, which are short-hand notations for shades of blue, green, red, cyan, magenta, yellow, black, and white.**"
      ]
    },
    {
      "cell_type": "markdown",
      "metadata": {
        "id": "ymSGGYDEC_qF"
      },
      "source": [
        "###Desafio 04: Estudar sobre as estatíticas retornadas no .describe()\n",
        "- mean - média\n",
        "- std - desvio padrão\n",
        "- 25% primeiro quartil\n",
        "- 50% - mediana\n",
        "- 75% terceiro quartil\n",
        "São as chamadas **Medidas de Tendência Central e Dispersão** <http://www.lampada.uerj.br/arquivosdb/_book/medidasTendenciaDispersao.html>\n",
        "- Média\n",
        "Neste exemplo, a média dá uma boa ideia da tendência central dos dados, mas em outras situações ela pode ser enganosa\n",
        "- Desvio padrão\n",
        "O desvio padrão (s) é calculado, extraindo-se a raiz quadrada da variância s2, e é medido na mesma unidade dos valores ao qual ele se refere.\n",
        "O desvio padrão e a variância consideram todos os valores da variável para o seu cálculo, e são bastante utilizados na análise estatística.\n",
        "- Percentis\n",
        "Os percentis são quantis utilizados com bastante frequência. O percentil 10, indicado por P10, designa o valor para o qual 10% dos valores da variável estão abaixo dele, e assim por diante.\n",
        "\n",
        "O quartil inferior (Q1) é, portanto, igual ao P25; a mediana é igual ao P50, e o quartil superior (Q3) é igual ao P75. Um algoritmo semelhante ao utilizado para o cálculo do quartil pode ser utilizado para os percentis.\n"
      ]
    },
    {
      "cell_type": "markdown",
      "metadata": {
        "id": "SUml0VsmEAIF"
      },
      "source": [
        "###Desafio 05: Refletir sobre a manipulação do tamanho das visualizações.\n",
        "\n",
        "- O tamanho da visualização é importante para ter mais atenção às nuances dos resultados dos nossos dados. Gráficos pequenos podem mascarar diferenças não muito sutis nos dados."
      ]
    },
    {
      "cell_type": "markdown",
      "metadata": {
        "id": "Gjy7wwqfEdED"
      },
      "source": [
        "##\n",
        "Desafio 06: Fazer outras análises com o boxplot e até com o histograma."
      ]
    },
    {
      "cell_type": "code",
      "metadata": {
        "colab": {
          "base_uri": "https://localhost:8080/",
          "height": 419
        },
        "id": "CO02_n6xEeFy",
        "outputId": "1092fa38-19cb-49d2-88ec-efccef2aa48d"
      },
      "source": [
        "dados.loc[:, 'c-0':'c-99'].describe().T"
      ],
      "execution_count": null,
      "outputs": [
        {
          "output_type": "execute_result",
          "data": {
            "text/html": [
              "<div>\n",
              "<style scoped>\n",
              "    .dataframe tbody tr th:only-of-type {\n",
              "        vertical-align: middle;\n",
              "    }\n",
              "\n",
              "    .dataframe tbody tr th {\n",
              "        vertical-align: top;\n",
              "    }\n",
              "\n",
              "    .dataframe thead th {\n",
              "        text-align: right;\n",
              "    }\n",
              "</style>\n",
              "<table border=\"1\" class=\"dataframe\">\n",
              "  <thead>\n",
              "    <tr style=\"text-align: right;\">\n",
              "      <th></th>\n",
              "      <th>count</th>\n",
              "      <th>mean</th>\n",
              "      <th>std</th>\n",
              "      <th>min</th>\n",
              "      <th>25%</th>\n",
              "      <th>50%</th>\n",
              "      <th>75%</th>\n",
              "      <th>max</th>\n",
              "    </tr>\n",
              "  </thead>\n",
              "  <tbody>\n",
              "    <tr>\n",
              "      <th>c-0</th>\n",
              "      <td>23814.0</td>\n",
              "      <td>-0.355156</td>\n",
              "      <td>1.752565</td>\n",
              "      <td>-10.0</td>\n",
              "      <td>-0.549300</td>\n",
              "      <td>-0.00900</td>\n",
              "      <td>0.448975</td>\n",
              "      <td>3.365</td>\n",
              "    </tr>\n",
              "    <tr>\n",
              "      <th>c-1</th>\n",
              "      <td>23814.0</td>\n",
              "      <td>-0.455359</td>\n",
              "      <td>2.004962</td>\n",
              "      <td>-10.0</td>\n",
              "      <td>-0.538425</td>\n",
              "      <td>0.00980</td>\n",
              "      <td>0.476875</td>\n",
              "      <td>3.915</td>\n",
              "    </tr>\n",
              "    <tr>\n",
              "      <th>c-2</th>\n",
              "      <td>23814.0</td>\n",
              "      <td>-0.480542</td>\n",
              "      <td>2.039346</td>\n",
              "      <td>-10.0</td>\n",
              "      <td>-0.550375</td>\n",
              "      <td>-0.00400</td>\n",
              "      <td>0.460575</td>\n",
              "      <td>2.970</td>\n",
              "    </tr>\n",
              "    <tr>\n",
              "      <th>c-3</th>\n",
              "      <td>23814.0</td>\n",
              "      <td>-0.377666</td>\n",
              "      <td>1.554583</td>\n",
              "      <td>-10.0</td>\n",
              "      <td>-0.601975</td>\n",
              "      <td>-0.03905</td>\n",
              "      <td>0.413100</td>\n",
              "      <td>2.408</td>\n",
              "    </tr>\n",
              "    <tr>\n",
              "      <th>c-4</th>\n",
              "      <td>23814.0</td>\n",
              "      <td>-0.493552</td>\n",
              "      <td>2.091888</td>\n",
              "      <td>-10.0</td>\n",
              "      <td>-0.559975</td>\n",
              "      <td>0.01140</td>\n",
              "      <td>0.470300</td>\n",
              "      <td>4.555</td>\n",
              "    </tr>\n",
              "    <tr>\n",
              "      <th>...</th>\n",
              "      <td>...</td>\n",
              "      <td>...</td>\n",
              "      <td>...</td>\n",
              "      <td>...</td>\n",
              "      <td>...</td>\n",
              "      <td>...</td>\n",
              "      <td>...</td>\n",
              "      <td>...</td>\n",
              "    </tr>\n",
              "    <tr>\n",
              "      <th>c-95</th>\n",
              "      <td>23814.0</td>\n",
              "      <td>-0.353726</td>\n",
              "      <td>1.629291</td>\n",
              "      <td>-10.0</td>\n",
              "      <td>-0.567975</td>\n",
              "      <td>-0.01025</td>\n",
              "      <td>0.444750</td>\n",
              "      <td>2.814</td>\n",
              "    </tr>\n",
              "    <tr>\n",
              "      <th>c-96</th>\n",
              "      <td>23814.0</td>\n",
              "      <td>-0.463485</td>\n",
              "      <td>2.059725</td>\n",
              "      <td>-10.0</td>\n",
              "      <td>-0.552575</td>\n",
              "      <td>-0.00125</td>\n",
              "      <td>0.465225</td>\n",
              "      <td>3.505</td>\n",
              "    </tr>\n",
              "    <tr>\n",
              "      <th>c-97</th>\n",
              "      <td>23814.0</td>\n",
              "      <td>-0.378241</td>\n",
              "      <td>1.703615</td>\n",
              "      <td>-10.0</td>\n",
              "      <td>-0.561000</td>\n",
              "      <td>-0.00680</td>\n",
              "      <td>0.446400</td>\n",
              "      <td>2.924</td>\n",
              "    </tr>\n",
              "    <tr>\n",
              "      <th>c-98</th>\n",
              "      <td>23814.0</td>\n",
              "      <td>-0.470252</td>\n",
              "      <td>1.834828</td>\n",
              "      <td>-10.0</td>\n",
              "      <td>-0.592600</td>\n",
              "      <td>0.01400</td>\n",
              "      <td>0.461275</td>\n",
              "      <td>3.111</td>\n",
              "    </tr>\n",
              "    <tr>\n",
              "      <th>c-99</th>\n",
              "      <td>23814.0</td>\n",
              "      <td>-0.301505</td>\n",
              "      <td>1.407918</td>\n",
              "      <td>-10.0</td>\n",
              "      <td>-0.562900</td>\n",
              "      <td>-0.01950</td>\n",
              "      <td>0.438650</td>\n",
              "      <td>3.805</td>\n",
              "    </tr>\n",
              "  </tbody>\n",
              "</table>\n",
              "<p>100 rows × 8 columns</p>\n",
              "</div>"
            ],
            "text/plain": [
              "        count      mean       std   min       25%      50%       75%    max\n",
              "c-0   23814.0 -0.355156  1.752565 -10.0 -0.549300 -0.00900  0.448975  3.365\n",
              "c-1   23814.0 -0.455359  2.004962 -10.0 -0.538425  0.00980  0.476875  3.915\n",
              "c-2   23814.0 -0.480542  2.039346 -10.0 -0.550375 -0.00400  0.460575  2.970\n",
              "c-3   23814.0 -0.377666  1.554583 -10.0 -0.601975 -0.03905  0.413100  2.408\n",
              "c-4   23814.0 -0.493552  2.091888 -10.0 -0.559975  0.01140  0.470300  4.555\n",
              "...       ...       ...       ...   ...       ...      ...       ...    ...\n",
              "c-95  23814.0 -0.353726  1.629291 -10.0 -0.567975 -0.01025  0.444750  2.814\n",
              "c-96  23814.0 -0.463485  2.059725 -10.0 -0.552575 -0.00125  0.465225  3.505\n",
              "c-97  23814.0 -0.378241  1.703615 -10.0 -0.561000 -0.00680  0.446400  2.924\n",
              "c-98  23814.0 -0.470252  1.834828 -10.0 -0.592600  0.01400  0.461275  3.111\n",
              "c-99  23814.0 -0.301505  1.407918 -10.0 -0.562900 -0.01950  0.438650  3.805\n",
              "\n",
              "[100 rows x 8 columns]"
            ]
          },
          "metadata": {
            "tags": []
          },
          "execution_count": 100
        }
      ]
    },
    {
      "cell_type": "code",
      "metadata": {
        "colab": {
          "base_uri": "https://localhost:8080/",
          "height": 285
        },
        "id": "iTzZLywaEmi4",
        "outputId": "6ac5b722-82c8-4d01-8832-f4ffca3d8d9a"
      },
      "source": [
        "dados.loc[:, 'c-0':'c-99'].describe().T['mean'].hist(bins = 30, color={'c'})"
      ],
      "execution_count": null,
      "outputs": [
        {
          "output_type": "execute_result",
          "data": {
            "text/plain": [
              "<matplotlib.axes._subplots.AxesSubplot at 0x7f4535bf5190>"
            ]
          },
          "metadata": {
            "tags": []
          },
          "execution_count": 101
        },
        {
          "output_type": "display_data",
          "data": {
            "image/png": "[encoded data removed]",
            "text/plain": [
              "<Figure size 432x288 with 1 Axes>"
            ]
          },
          "metadata": {
            "tags": []
          }
        }
      ]
    },
    {
      "cell_type": "code",
      "metadata": {
        "colab": {
          "base_uri": "https://localhost:8080/",
          "height": 285
        },
        "id": "mh4VImyyEtq8",
        "outputId": "0a1e835b-6060-4d14-ceb3-e927f8dce8f4"
      },
      "source": [
        "dados.loc[:, 'c-0':'c-99'].describe().T['std'].hist(bins = 30, color={'k'})"
      ],
      "execution_count": null,
      "outputs": [
        {
          "output_type": "execute_result",
          "data": {
            "text/plain": [
              "<matplotlib.axes._subplots.AxesSubplot at 0x7f4534f81c90>"
            ]
          },
          "metadata": {
            "tags": []
          },
          "execution_count": 102
        },
        {
          "output_type": "display_data",
          "data": {
            "image/png": "[encoded data removed]",
            "text/plain": [
              "<Figure size 432x288 with 1 Axes>"
            ]
          },
          "metadata": {
            "tags": []
          }
        }
      ]
    },
    {
      "cell_type": "code",
      "metadata": {
        "colab": {
          "base_uri": "https://localhost:8080/",
          "height": 285
        },
        "id": "R0TTSECMExma",
        "outputId": "575ef647-aa19-4844-d016-046ad9638d47"
      },
      "source": [
        "dados.loc[:, 'c-0':'c-99'].describe().T['min'].hist(bins = 30, color={'r'})"
      ],
      "execution_count": null,
      "outputs": [
        {
          "output_type": "execute_result",
          "data": {
            "text/plain": [
              "<matplotlib.axes._subplots.AxesSubplot at 0x7f453516cf90>"
            ]
          },
          "metadata": {
            "tags": []
          },
          "execution_count": 103
        },
        {
          "output_type": "display_data",
          "data": {
            "image/png": "[encoded data removed]",
            "text/plain": [
              "<Figure size 432x288 with 1 Axes>"
            ]
          },
          "metadata": {
            "tags": []
          }
        }
      ]
    },
    {
      "cell_type": "code",
      "metadata": {
        "colab": {
          "base_uri": "https://localhost:8080/",
          "height": 285
        },
        "id": "KnfR2Q_NE2DD",
        "outputId": "d9ce8ec6-ed5b-424d-b297-85b3e698cfc0"
      },
      "source": [
        "dados.loc[:, 'c-0':'c-99'].describe().T['max'].hist(bins = 30, color={'y'})"
      ],
      "execution_count": null,
      "outputs": [
        {
          "output_type": "execute_result",
          "data": {
            "text/plain": [
              "<matplotlib.axes._subplots.AxesSubplot at 0x7f45351b1c10>"
            ]
          },
          "metadata": {
            "tags": []
          },
          "execution_count": 104
        },
        {
          "output_type": "display_data",
          "data": {
            "image/png": "[encoded data removed]",
            "text/plain": [
              "<Figure size 432x288 with 1 Axes>"
            ]
          },
          "metadata": {
            "tags": []
          }
        }
      ]
    },
    {
      "cell_type": "code",
      "metadata": {
        "colab": {
          "base_uri": "https://localhost:8080/",
          "height": 285
        },
        "id": "kWqPtw3ME5Aa",
        "outputId": "04e80ab5-3a1a-4f1e-8d47-2f80bee16745"
      },
      "source": [
        "dados.loc[:, 'c-0':'c-99'].describe().T['25%'].hist(bins = 30, color={'m'})"
      ],
      "execution_count": null,
      "outputs": [
        {
          "output_type": "execute_result",
          "data": {
            "text/plain": [
              "<matplotlib.axes._subplots.AxesSubplot at 0x7f4534ff6b50>"
            ]
          },
          "metadata": {
            "tags": []
          },
          "execution_count": 105
        },
        {
          "output_type": "display_data",
          "data": {
            "image/png": "[encoded data removed]",
            "text/plain": [
              "<Figure size 432x288 with 1 Axes>"
            ]
          },
          "metadata": {
            "tags": []
          }
        }
      ]
    },
    {
      "cell_type": "markdown",
      "metadata": {
        "id": "VTvq3bl0UUIH"
      },
      "source": [
        "## Agora vou tentar fazer essas análises com a minha base de dados do cmap"
      ]
    },
    {
      "cell_type": "code",
      "metadata": {
        "id": "nlLsZ3RkFByC",
        "colab": {
          "resources": {
            "http://localhost:8080/nbextensions/google.colab/files.js": {
              "data": "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",
              "ok": true,
              "headers": [
                [
                  "content-type",
                  "application/javascript"
                ]
              ],
              "status": 200,
              "status_text": ""
            }
          },
          "base_uri": "https://localhost:8080/",
          "height": 72
        },
        "outputId": "8a2ba21d-ce8d-4bcd-c30d-196aa2306d68"
      },
      "source": [
        "import pandas as pd\n",
        "from google.colab import files\n",
        "uploaded = files.upload()"
      ],
      "execution_count": 21,
      "outputs": [
        {
          "output_type": "display_data",
          "data": {
            "text/html": [
              "\n",
              "     <input type=\"file\" id=\"files-df6886bf-84ce-440f-a2ee-18dd1162f1f3\" name=\"files[]\" multiple disabled\n",
              "        style=\"border:none\" />\n",
              "     <output id=\"result-df6886bf-84ce-440f-a2ee-18dd1162f1f3\">\n",
              "      Upload widget is only available when the cell has been executed in the\n",
              "      current browser session. Please rerun this cell to enable.\n",
              "      </output>\n",
              "      <script src=\"/nbextensions/google.colab/files.js\"></script> "
            ],
            "text/plain": [
              "<IPython.core.display.HTML object>"
            ]
          },
          "metadata": {
            "tags": []
          }
        },
        {
          "output_type": "stream",
          "text": [
            "Saving cmap-results-filtered.csv to cmap-results-filtered.csv\n"
          ],
          "name": "stdout"
        }
      ]
    },
    {
      "cell_type": "code",
      "metadata": {
        "colab": {
          "base_uri": "https://localhost:8080/"
        },
        "id": "1xXb6jjCUqQA",
        "outputId": "104d5f80-ab93-4c6f-d422-6aeac47bf4cd"
      },
      "source": [
        "datacmap = pd.read_csv('cmap-results-filtered.csv') \n",
        "print(data)"
      ],
      "execution_count": 29,
      "outputs": [
        {
          "output_type": "stream",
          "text": [
            "             Name  ...     Phase\n",
            "0       alacepril  ...  Launched\n",
            "1      benazepril  ...  Launched\n",
            "2       captopril  ...  Launched\n",
            "3      cilazapril  ...  Launched\n",
            "4        delapril  ...  Launched\n",
            "..            ...  ...       ...\n",
            "106     tipiracil  ...  Launched\n",
            "107   thalidomide  ...  Launched\n",
            "108    metirosine  ...  Launched\n",
            "109  fruquintinib  ...  Launched\n",
            "110     tivozanib  ...  Launched\n",
            "\n",
            "[111 rows x 4 columns]\n"
          ],
          "name": "stdout"
        }
      ]
    },
    {
      "cell_type": "code",
      "metadata": {
        "colab": {
          "base_uri": "https://localhost:8080/",
          "height": 419
        },
        "id": "p8TV5V2AU1zD",
        "outputId": "4a55999c-45dd-471f-ca7d-34339c14ce7e"
      },
      "source": [
        "pd.read_table('cmap-results-filtered.csv')"
      ],
      "execution_count": 23,
      "outputs": [
        {
          "output_type": "execute_result",
          "data": {
            "text/html": [
              "<div>\n",
              "<style scoped>\n",
              "    .dataframe tbody tr th:only-of-type {\n",
              "        vertical-align: middle;\n",
              "    }\n",
              "\n",
              "    .dataframe tbody tr th {\n",
              "        vertical-align: top;\n",
              "    }\n",
              "\n",
              "    .dataframe thead th {\n",
              "        text-align: right;\n",
              "    }\n",
              "</style>\n",
              "<table border=\"1\" class=\"dataframe\">\n",
              "  <thead>\n",
              "    <tr style=\"text-align: right;\">\n",
              "      <th></th>\n",
              "      <th>Name,MOA,Genes,Phase</th>\n",
              "    </tr>\n",
              "  </thead>\n",
              "  <tbody>\n",
              "    <tr>\n",
              "      <th>0</th>\n",
              "      <td>alacepril,angiotensin converting enzyme inhibi...</td>\n",
              "    </tr>\n",
              "    <tr>\n",
              "      <th>1</th>\n",
              "      <td>benazepril,angiotensin converting enzyme inhib...</td>\n",
              "    </tr>\n",
              "    <tr>\n",
              "      <th>2</th>\n",
              "      <td>captopril,angiotensin converting enzyme inhibi...</td>\n",
              "    </tr>\n",
              "    <tr>\n",
              "      <th>3</th>\n",
              "      <td>cilazapril,angiotensin converting enzyme inhib...</td>\n",
              "    </tr>\n",
              "    <tr>\n",
              "      <th>4</th>\n",
              "      <td>delapril,angiotensin converting enzyme inhibit...</td>\n",
              "    </tr>\n",
              "    <tr>\n",
              "      <th>...</th>\n",
              "      <td>...</td>\n",
              "    </tr>\n",
              "    <tr>\n",
              "      <th>106</th>\n",
              "      <td>tipiracil,thymidine phosphorylase inhibitor,,L...</td>\n",
              "    </tr>\n",
              "    <tr>\n",
              "      <th>107</th>\n",
              "      <td>thalidomide,tumor necrosis factor production i...</td>\n",
              "    </tr>\n",
              "    <tr>\n",
              "      <th>108</th>\n",
              "      <td>metirosine,tyrosine hydroxylase inhibitor,TH,L...</td>\n",
              "    </tr>\n",
              "    <tr>\n",
              "      <th>109</th>\n",
              "      <td>fruquintinib,VEGFR inhibitor,KDR,Launched</td>\n",
              "    </tr>\n",
              "    <tr>\n",
              "      <th>110</th>\n",
              "      <td>tivozanib,VEGFR inhibitor,\"FLT1, FLT4, KDR, KI...</td>\n",
              "    </tr>\n",
              "  </tbody>\n",
              "</table>\n",
              "<p>111 rows × 1 columns</p>\n",
              "</div>"
            ],
            "text/plain": [
              "                                  Name,MOA,Genes,Phase\n",
              "0    alacepril,angiotensin converting enzyme inhibi...\n",
              "1    benazepril,angiotensin converting enzyme inhib...\n",
              "2    captopril,angiotensin converting enzyme inhibi...\n",
              "3    cilazapril,angiotensin converting enzyme inhib...\n",
              "4    delapril,angiotensin converting enzyme inhibit...\n",
              "..                                                 ...\n",
              "106  tipiracil,thymidine phosphorylase inhibitor,,L...\n",
              "107  thalidomide,tumor necrosis factor production i...\n",
              "108  metirosine,tyrosine hydroxylase inhibitor,TH,L...\n",
              "109          fruquintinib,VEGFR inhibitor,KDR,Launched\n",
              "110  tivozanib,VEGFR inhibitor,\"FLT1, FLT4, KDR, KI...\n",
              "\n",
              "[111 rows x 1 columns]"
            ]
          },
          "metadata": {
            "tags": []
          },
          "execution_count": 23
        }
      ]
    },
    {
      "cell_type": "code",
      "metadata": {
        "colab": {
          "base_uri": "https://localhost:8080/",
          "height": 419
        },
        "id": "ZoQVKF3SXR72",
        "outputId": "6e5249bd-5d5b-46fe-ac54-291a9b4d15e8"
      },
      "source": [
        "import pandas as pd\n",
        "datacmap"
      ],
      "execution_count": 30,
      "outputs": [
        {
          "output_type": "execute_result",
          "data": {
            "text/html": [
              "<div>\n",
              "<style scoped>\n",
              "    .dataframe tbody tr th:only-of-type {\n",
              "        vertical-align: middle;\n",
              "    }\n",
              "\n",
              "    .dataframe tbody tr th {\n",
              "        vertical-align: top;\n",
              "    }\n",
              "\n",
              "    .dataframe thead th {\n",
              "        text-align: right;\n",
              "    }\n",
              "</style>\n",
              "<table border=\"1\" class=\"dataframe\">\n",
              "  <thead>\n",
              "    <tr style=\"text-align: right;\">\n",
              "      <th></th>\n",
              "      <th>Name</th>\n",
              "      <th>MOA</th>\n",
              "      <th>Genes</th>\n",
              "      <th>Phase</th>\n",
              "    </tr>\n",
              "  </thead>\n",
              "  <tbody>\n",
              "    <tr>\n",
              "      <th>0</th>\n",
              "      <td>alacepril</td>\n",
              "      <td>angiotensin converting enzyme inhibitor</td>\n",
              "      <td>ACE</td>\n",
              "      <td>Launched</td>\n",
              "    </tr>\n",
              "    <tr>\n",
              "      <th>1</th>\n",
              "      <td>benazepril</td>\n",
              "      <td>angiotensin converting enzyme inhibitor</td>\n",
              "      <td>ACE</td>\n",
              "      <td>Launched</td>\n",
              "    </tr>\n",
              "    <tr>\n",
              "      <th>2</th>\n",
              "      <td>captopril</td>\n",
              "      <td>angiotensin converting enzyme inhibitor</td>\n",
              "      <td>ACE, LTA4H, MMP2, MMP9</td>\n",
              "      <td>Launched</td>\n",
              "    </tr>\n",
              "    <tr>\n",
              "      <th>3</th>\n",
              "      <td>cilazapril</td>\n",
              "      <td>angiotensin converting enzyme inhibitor</td>\n",
              "      <td>ACE</td>\n",
              "      <td>Launched</td>\n",
              "    </tr>\n",
              "    <tr>\n",
              "      <th>4</th>\n",
              "      <td>delapril</td>\n",
              "      <td>angiotensin converting enzyme inhibitor</td>\n",
              "      <td>ACE</td>\n",
              "      <td>Launched</td>\n",
              "    </tr>\n",
              "    <tr>\n",
              "      <th>...</th>\n",
              "      <td>...</td>\n",
              "      <td>...</td>\n",
              "      <td>...</td>\n",
              "      <td>...</td>\n",
              "    </tr>\n",
              "    <tr>\n",
              "      <th>106</th>\n",
              "      <td>tipiracil</td>\n",
              "      <td>thymidine phosphorylase inhibitor</td>\n",
              "      <td>NaN</td>\n",
              "      <td>Launched</td>\n",
              "    </tr>\n",
              "    <tr>\n",
              "      <th>107</th>\n",
              "      <td>thalidomide</td>\n",
              "      <td>tumor necrosis factor production inhibitor</td>\n",
              "      <td>TNF</td>\n",
              "      <td>Launched</td>\n",
              "    </tr>\n",
              "    <tr>\n",
              "      <th>108</th>\n",
              "      <td>metirosine</td>\n",
              "      <td>tyrosine hydroxylase inhibitor</td>\n",
              "      <td>TH</td>\n",
              "      <td>Launched</td>\n",
              "    </tr>\n",
              "    <tr>\n",
              "      <th>109</th>\n",
              "      <td>fruquintinib</td>\n",
              "      <td>VEGFR inhibitor</td>\n",
              "      <td>KDR</td>\n",
              "      <td>Launched</td>\n",
              "    </tr>\n",
              "    <tr>\n",
              "      <th>110</th>\n",
              "      <td>tivozanib</td>\n",
              "      <td>VEGFR inhibitor</td>\n",
              "      <td>FLT1, FLT4, KDR, KIT, PDGFRA, PDGFRB</td>\n",
              "      <td>Launched</td>\n",
              "    </tr>\n",
              "  </tbody>\n",
              "</table>\n",
              "<p>111 rows × 4 columns</p>\n",
              "</div>"
            ],
            "text/plain": [
              "             Name  ...     Phase\n",
              "0       alacepril  ...  Launched\n",
              "1      benazepril  ...  Launched\n",
              "2       captopril  ...  Launched\n",
              "3      cilazapril  ...  Launched\n",
              "4        delapril  ...  Launched\n",
              "..            ...  ...       ...\n",
              "106     tipiracil  ...  Launched\n",
              "107   thalidomide  ...  Launched\n",
              "108    metirosine  ...  Launched\n",
              "109  fruquintinib  ...  Launched\n",
              "110     tivozanib  ...  Launched\n",
              "\n",
              "[111 rows x 4 columns]"
            ]
          },
          "metadata": {
            "tags": []
          },
          "execution_count": 30
        }
      ]
    },
    {
      "cell_type": "code",
      "metadata": {
        "colab": {
          "base_uri": "https://localhost:8080/",
          "height": 204
        },
        "id": "JEE7RFHGX2Iw",
        "outputId": "360ec843-1e18-4da2-ccbc-3b2507b7e0a8"
      },
      "source": [
        "data.head()"
      ],
      "execution_count": 34,
      "outputs": [
        {
          "output_type": "execute_result",
          "data": {
            "text/html": [
              "<div>\n",
              "<style scoped>\n",
              "    .dataframe tbody tr th:only-of-type {\n",
              "        vertical-align: middle;\n",
              "    }\n",
              "\n",
              "    .dataframe tbody tr th {\n",
              "        vertical-align: top;\n",
              "    }\n",
              "\n",
              "    .dataframe thead th {\n",
              "        text-align: right;\n",
              "    }\n",
              "</style>\n",
              "<table border=\"1\" class=\"dataframe\">\n",
              "  <thead>\n",
              "    <tr style=\"text-align: right;\">\n",
              "      <th></th>\n",
              "      <th>Name</th>\n",
              "      <th>MOA</th>\n",
              "      <th>Genes</th>\n",
              "      <th>Phase</th>\n",
              "    </tr>\n",
              "  </thead>\n",
              "  <tbody>\n",
              "    <tr>\n",
              "      <th>0</th>\n",
              "      <td>alacepril</td>\n",
              "      <td>angiotensin converting enzyme inhibitor</td>\n",
              "      <td>ACE</td>\n",
              "      <td>Launched</td>\n",
              "    </tr>\n",
              "    <tr>\n",
              "      <th>1</th>\n",
              "      <td>benazepril</td>\n",
              "      <td>angiotensin converting enzyme inhibitor</td>\n",
              "      <td>ACE</td>\n",
              "      <td>Launched</td>\n",
              "    </tr>\n",
              "    <tr>\n",
              "      <th>2</th>\n",
              "      <td>captopril</td>\n",
              "      <td>angiotensin converting enzyme inhibitor</td>\n",
              "      <td>ACE, LTA4H, MMP2, MMP9</td>\n",
              "      <td>Launched</td>\n",
              "    </tr>\n",
              "    <tr>\n",
              "      <th>3</th>\n",
              "      <td>cilazapril</td>\n",
              "      <td>angiotensin converting enzyme inhibitor</td>\n",
              "      <td>ACE</td>\n",
              "      <td>Launched</td>\n",
              "    </tr>\n",
              "    <tr>\n",
              "      <th>4</th>\n",
              "      <td>delapril</td>\n",
              "      <td>angiotensin converting enzyme inhibitor</td>\n",
              "      <td>ACE</td>\n",
              "      <td>Launched</td>\n",
              "    </tr>\n",
              "  </tbody>\n",
              "</table>\n",
              "</div>"
            ],
            "text/plain": [
              "         Name  ...     Phase\n",
              "0   alacepril  ...  Launched\n",
              "1  benazepril  ...  Launched\n",
              "2   captopril  ...  Launched\n",
              "3  cilazapril  ...  Launched\n",
              "4    delapril  ...  Launched\n",
              "\n",
              "[5 rows x 4 columns]"
            ]
          },
          "metadata": {
            "tags": []
          },
          "execution_count": 34
        }
      ]
    },
    {
      "cell_type": "code",
      "metadata": {
        "colab": {
          "base_uri": "https://localhost:8080/"
        },
        "id": "FDqN01mdYEUp",
        "outputId": "73137c8f-46a6-4278-d616-18ecd9dc736a"
      },
      "source": [
        "data.shape"
      ],
      "execution_count": 36,
      "outputs": [
        {
          "output_type": "execute_result",
          "data": {
            "text/plain": [
              "(111, 4)"
            ]
          },
          "metadata": {
            "tags": []
          },
          "execution_count": 36
        }
      ]
    },
    {
      "cell_type": "code",
      "metadata": {
        "colab": {
          "base_uri": "https://localhost:8080/"
        },
        "id": "k_fnN_GfYOJv",
        "outputId": "b5ff4439-a20c-4ef7-c653-6b4b583204cc"
      },
      "source": [
        "data['Name']"
      ],
      "execution_count": 38,
      "outputs": [
        {
          "output_type": "execute_result",
          "data": {
            "text/plain": [
              "0         alacepril\n",
              "1        benazepril\n",
              "2         captopril\n",
              "3        cilazapril\n",
              "4          delapril\n",
              "           ...     \n",
              "106       tipiracil\n",
              "107     thalidomide\n",
              "108      metirosine\n",
              "109    fruquintinib\n",
              "110       tivozanib\n",
              "Name: Name, Length: 111, dtype: object"
            ]
          },
          "metadata": {
            "tags": []
          },
          "execution_count": 38
        }
      ]
    },
    {
      "cell_type": "markdown",
      "metadata": {
        "id": "Qoh4MColYa8F"
      },
      "source": [
        "## Retorna a lista de drogas"
      ]
    },
    {
      "cell_type": "code",
      "metadata": {
        "colab": {
          "base_uri": "https://localhost:8080/"
        },
        "id": "fjW64L9XYePI",
        "outputId": "cf1132b1-adae-47b8-f13b-32ab02839c1d"
      },
      "source": [
        "data['Name'].unique()"
      ],
      "execution_count": 39,
      "outputs": [
        {
          "output_type": "execute_result",
          "data": {
            "text/plain": [
              "array(['alacepril', 'benazepril', 'captopril', 'cilazapril', 'delapril',\n",
              "       'deserpidine', 'enalapril', 'enalaprilat', 'fosinopril',\n",
              "       'fosinoprilat', 'imidapril', 'lisinopril', 'moexipril',\n",
              "       'perindopril', 'quinapril', 'quinaprilat', 'ramipril',\n",
              "       'temocapril', 'trandolapril', 'zofenopril-calcium', 'azilsartan',\n",
              "       'azilsartan-medoxomil', 'candesartan', 'candesartan-cilexetil',\n",
              "       'eprosartan', 'fimasartan', 'irbesartan', 'LCZ696', 'losartan',\n",
              "       'olmesartan', 'olmesartan-medoxomil', 'telmisartan', 'valsartan',\n",
              "       'morniflumate', 'tinoridine', 'vedaprofen',\n",
              "       'methylprednisolone-aceponate', 'imatinib', 'baicalin',\n",
              "       'olmutinib', 'cinacalcet', 'amlodipine', 'azelnidipine',\n",
              "       'barnidipine', 'benidipine', 'bepridil', 'cilnidipine',\n",
              "       'cinnarazine', 'cleviprex', 'cyclandelate', 'dantrolene',\n",
              "       'diltiazem', 'efonidipine', 'ethaverine', 'felodipine',\n",
              "       'flunarizine', 'gabapentin', 'isradipine', 'lacidipine',\n",
              "       'lercanidipine', 'levamlodipine', 'levetiracetam', 'lidoflazine',\n",
              "       'lomerizine', 'manidipine', 'nicardipine', 'nifedipine',\n",
              "       'nilvadipine', 'nisoldipine', 'nitrendipine', 'verapamil',\n",
              "       'idebenone', 'levosimendan', 'pimobendan', 'afatinib', 'erlotinib',\n",
              "       'gefitinib', 'icotinib', 'lapatinib', 'neratinib', 'osimertinib',\n",
              "       'vandetanib', 'estradiol-valerate', 'fulvestrant', 'danazol',\n",
              "       'raloxifene', 'tamoxifen', 'toremifene', 'regorafenib',\n",
              "       'lenvatinib', 'sorafenib', 'sunitinib', 'serotonin', 'tilorone',\n",
              "       'imiquimod', 'pazopanib', 'agomelatine', 'everolimus',\n",
              "       'temsirolimus', 'zotarolimus', 'trapidil', 'axitinib', 'alpelisib',\n",
              "       'cabozantinib', 'fasudil', 'octreotide', 'tipiracil',\n",
              "       'thalidomide', 'metirosine', 'fruquintinib', 'tivozanib'],\n",
              "      dtype=object)"
            ]
          },
          "metadata": {
            "tags": []
          },
          "execution_count": 39
        }
      ]
    },
    {
      "cell_type": "markdown",
      "metadata": {
        "id": "LpiOo3jOYlVy"
      },
      "source": [
        "## Retorna a lista de vias"
      ]
    },
    {
      "cell_type": "code",
      "metadata": {
        "colab": {
          "base_uri": "https://localhost:8080/"
        },
        "id": "JZM6FL6aYnYN",
        "outputId": "6a7dc7f3-c695-4e2e-d6e3-b6846cd0c28d"
      },
      "source": [
        "data['MOA'].unique()"
      ],
      "execution_count": 40,
      "outputs": [
        {
          "output_type": "execute_result",
          "data": {
            "text/plain": [
              "array(['angiotensin converting enzyme inhibitor',\n",
              "       'angiotensin receptor antagonist', 'anti-inflammatory agent',\n",
              "       'anti-inflammatory agent, glucocorticoid receptor agonist',\n",
              "       'Bcr-Abl kinase inhibitor, KIT inhibitor, PDGFR tyrosine kinase receptor inhibitor',\n",
              "       'beta glucuronidase inhibitor',\n",
              "       \"Bruton's tyrosine kinase (BTK) inhibitor, EGFR inhibitor\",\n",
              "       'calcium channel activator', 'calcium channel blocker',\n",
              "       'calcium channel modulator', 'calcium sensitizer',\n",
              "       'calcium sensitizer, phosphodiesterase inhibitor',\n",
              "       'EGFR inhibitor',\n",
              "       'EGFR inhibitor, RET tyrosine kinase inhibitor, VEGFR inhibitor',\n",
              "       'estrogen receptor agonist', 'estrogen receptor antagonist',\n",
              "       'estrogen receptor antagonist, progesterone receptor agonist',\n",
              "       'estrogen receptor antagonist, selective estrogen receptor modulator (SERM)',\n",
              "       'FGFR inhibitor, KIT inhibitor, PDGFR tyrosine kinase receptor inhibitor, RAF inhibitor, RET tyrosine kinase inhibitor, VEGFR inhibitor',\n",
              "       'FGFR inhibitor, KIT inhibitor, PDGFR tyrosine kinase receptor inhibitor, VEGFR inhibitor',\n",
              "       'FLT3 inhibitor, KIT inhibitor, PDGFR tyrosine kinase receptor inhibitor, RAF inhibitor, RET tyrosine kinase inhibitor, VEGFR inhibitor',\n",
              "       'FLT3 inhibitor, KIT inhibitor, PDGFR tyrosine kinase receptor inhibitor, RET tyrosine kinase inhibitor, VEGFR inhibitor',\n",
              "       'growth factor receptor activator', 'interferon inducer',\n",
              "       'interferon inducer, toll-like receptor agonist',\n",
              "       'KIT inhibitor, PDGFR tyrosine kinase receptor inhibitor, VEGFR inhibitor',\n",
              "       'melatonin receptor agonist, serotonin receptor antagonist',\n",
              "       'mTOR inhibitor', 'PDGFR tyrosine kinase receptor inhibitor',\n",
              "       'PDGFR tyrosine kinase receptor inhibitor, VEGFR inhibitor',\n",
              "       'PI3K inhibitor', 'RET tyrosine kinase inhibitor, VEGFR inhibitor',\n",
              "       'rho associated kinase inhibitor', 'somatostatin receptor agonist',\n",
              "       'thymidine phosphorylase inhibitor',\n",
              "       'tumor necrosis factor production inhibitor',\n",
              "       'tyrosine hydroxylase inhibitor', 'VEGFR inhibitor'], dtype=object)"
            ]
          },
          "metadata": {
            "tags": []
          },
          "execution_count": 40
        }
      ]
    },
    {
      "cell_type": "code",
      "metadata": {
        "colab": {
          "base_uri": "https://localhost:8080/",
          "height": 922
        },
        "id": "5U1uXMU0ZumS",
        "outputId": "1764187e-2351-4f30-ebc3-148755b8867e"
      },
      "source": [
        "data['MOA'].value_counts().plot.bar(color={'c'})"
      ],
      "execution_count": 53,
      "outputs": [
        {
          "output_type": "execute_result",
          "data": {
            "text/plain": [
              "<matplotlib.axes._subplots.AxesSubplot at 0x7fe588e06850>"
            ]
          },
          "metadata": {
            "tags": []
          },
          "execution_count": 53
        },
        {
          "output_type": "display_data",
          "data": {
            "image/png": "[encoded data removed]",
            "text/plain": [
              "<Figure size 432x288 with 1 Axes>"
            ]
          },
          "metadata": {
            "tags": [],
            "needs_background": "light"
          }
        }
      ]
    },
    {
      "cell_type": "markdown",
      "metadata": {
        "id": "XZr8GzjDagAT"
      },
      "source": [
        "## Tentando filtrar pela via"
      ]
    },
    {
      "cell_type": "code",
      "metadata": {
        "colab": {
          "base_uri": "https://localhost:8080/",
          "height": 979
        },
        "id": "8WxgyO0neWVJ",
        "outputId": "feb0d14f-06fd-4464-ccf4-f92ffc18cc6f"
      },
      "source": [
        "data.loc[data['MOA'] == 'calcium channel blocker']"
      ],
      "execution_count": 68,
      "outputs": [
        {
          "output_type": "execute_result",
          "data": {
            "text/html": [
              "<div>\n",
              "<style scoped>\n",
              "    .dataframe tbody tr th:only-of-type {\n",
              "        vertical-align: middle;\n",
              "    }\n",
              "\n",
              "    .dataframe tbody tr th {\n",
              "        vertical-align: top;\n",
              "    }\n",
              "\n",
              "    .dataframe thead th {\n",
              "        text-align: right;\n",
              "    }\n",
              "</style>\n",
              "<table border=\"1\" class=\"dataframe\">\n",
              "  <thead>\n",
              "    <tr style=\"text-align: right;\">\n",
              "      <th></th>\n",
              "      <th>Name</th>\n",
              "      <th>MOA</th>\n",
              "      <th>Genes</th>\n",
              "      <th>Phase</th>\n",
              "    </tr>\n",
              "  </thead>\n",
              "  <tbody>\n",
              "    <tr>\n",
              "      <th>41</th>\n",
              "      <td>amlodipine</td>\n",
              "      <td>calcium channel blocker</td>\n",
              "      <td>CACNA1C, CACNA1D, CACNA1F, CACNA1S, CACNA2D1</td>\n",
              "      <td>Launched</td>\n",
              "    </tr>\n",
              "    <tr>\n",
              "      <th>42</th>\n",
              "      <td>azelnidipine</td>\n",
              "      <td>calcium channel blocker</td>\n",
              "      <td>CACNA1C</td>\n",
              "      <td>Launched</td>\n",
              "    </tr>\n",
              "    <tr>\n",
              "      <th>43</th>\n",
              "      <td>barnidipine</td>\n",
              "      <td>calcium channel blocker</td>\n",
              "      <td>NaN</td>\n",
              "      <td>Launched</td>\n",
              "    </tr>\n",
              "    <tr>\n",
              "      <th>44</th>\n",
              "      <td>benidipine</td>\n",
              "      <td>calcium channel blocker</td>\n",
              "      <td>CACNA1C, CACNA1G</td>\n",
              "      <td>Launched</td>\n",
              "    </tr>\n",
              "    <tr>\n",
              "      <th>45</th>\n",
              "      <td>bepridil</td>\n",
              "      <td>calcium channel blocker</td>\n",
              "      <td>KCNQ4</td>\n",
              "      <td>Launched</td>\n",
              "    </tr>\n",
              "    <tr>\n",
              "      <th>46</th>\n",
              "      <td>cilnidipine</td>\n",
              "      <td>calcium channel blocker</td>\n",
              "      <td>CACNA1B</td>\n",
              "      <td>Launched</td>\n",
              "    </tr>\n",
              "    <tr>\n",
              "      <th>47</th>\n",
              "      <td>cinnarazine</td>\n",
              "      <td>calcium channel blocker</td>\n",
              "      <td>NaN</td>\n",
              "      <td>Launched</td>\n",
              "    </tr>\n",
              "    <tr>\n",
              "      <th>48</th>\n",
              "      <td>cleviprex</td>\n",
              "      <td>calcium channel blocker</td>\n",
              "      <td>CACNA1C, CACNA1D, CACNA1F, CACNA1S</td>\n",
              "      <td>Launched</td>\n",
              "    </tr>\n",
              "    <tr>\n",
              "      <th>49</th>\n",
              "      <td>cyclandelate</td>\n",
              "      <td>calcium channel blocker</td>\n",
              "      <td>NaN</td>\n",
              "      <td>Launched</td>\n",
              "    </tr>\n",
              "    <tr>\n",
              "      <th>50</th>\n",
              "      <td>dantrolene</td>\n",
              "      <td>calcium channel blocker</td>\n",
              "      <td>RYR1, RYR3</td>\n",
              "      <td>Launched</td>\n",
              "    </tr>\n",
              "    <tr>\n",
              "      <th>51</th>\n",
              "      <td>diltiazem</td>\n",
              "      <td>calcium channel blocker</td>\n",
              "      <td>CACNA1C, CACNA1S, CACNA2D1, CACNG1, HTR3A, KCNA5</td>\n",
              "      <td>Launched</td>\n",
              "    </tr>\n",
              "    <tr>\n",
              "      <th>52</th>\n",
              "      <td>efonidipine</td>\n",
              "      <td>calcium channel blocker</td>\n",
              "      <td>NaN</td>\n",
              "      <td>Launched</td>\n",
              "    </tr>\n",
              "    <tr>\n",
              "      <th>53</th>\n",
              "      <td>ethaverine</td>\n",
              "      <td>calcium channel blocker</td>\n",
              "      <td>NaN</td>\n",
              "      <td>Launched</td>\n",
              "    </tr>\n",
              "    <tr>\n",
              "      <th>54</th>\n",
              "      <td>felodipine</td>\n",
              "      <td>calcium channel blocker</td>\n",
              "      <td>CFTR</td>\n",
              "      <td>Launched</td>\n",
              "    </tr>\n",
              "    <tr>\n",
              "      <th>55</th>\n",
              "      <td>flunarizine</td>\n",
              "      <td>calcium channel blocker</td>\n",
              "      <td>CACNA1G, CACNA1H, CACNA1I, CALM1, HRH1</td>\n",
              "      <td>Launched</td>\n",
              "    </tr>\n",
              "    <tr>\n",
              "      <th>56</th>\n",
              "      <td>gabapentin</td>\n",
              "      <td>calcium channel blocker</td>\n",
              "      <td>ADORA1, CACNA1A, CACNA1B, CACNA1C, CACNA1D, CA...</td>\n",
              "      <td>Launched</td>\n",
              "    </tr>\n",
              "    <tr>\n",
              "      <th>57</th>\n",
              "      <td>isradipine</td>\n",
              "      <td>calcium channel blocker</td>\n",
              "      <td>CACNA1D, CACNA1F, CACNA2D1</td>\n",
              "      <td>Launched</td>\n",
              "    </tr>\n",
              "    <tr>\n",
              "      <th>58</th>\n",
              "      <td>lacidipine</td>\n",
              "      <td>calcium channel blocker</td>\n",
              "      <td>CACNA1C</td>\n",
              "      <td>Launched</td>\n",
              "    </tr>\n",
              "    <tr>\n",
              "      <th>59</th>\n",
              "      <td>lercanidipine</td>\n",
              "      <td>calcium channel blocker</td>\n",
              "      <td>CACNA2D1</td>\n",
              "      <td>Launched</td>\n",
              "    </tr>\n",
              "    <tr>\n",
              "      <th>60</th>\n",
              "      <td>levamlodipine</td>\n",
              "      <td>calcium channel blocker</td>\n",
              "      <td>NaN</td>\n",
              "      <td>Launched</td>\n",
              "    </tr>\n",
              "    <tr>\n",
              "      <th>61</th>\n",
              "      <td>levetiracetam</td>\n",
              "      <td>calcium channel blocker</td>\n",
              "      <td>CACNA1B, SCN1A, SV2A</td>\n",
              "      <td>Launched</td>\n",
              "    </tr>\n",
              "    <tr>\n",
              "      <th>62</th>\n",
              "      <td>lidoflazine</td>\n",
              "      <td>calcium channel blocker</td>\n",
              "      <td>SCN1A, SCN3A, SLC29A1</td>\n",
              "      <td>Launched</td>\n",
              "    </tr>\n",
              "    <tr>\n",
              "      <th>63</th>\n",
              "      <td>lomerizine</td>\n",
              "      <td>calcium channel blocker</td>\n",
              "      <td>CACNA1B, SCN5A</td>\n",
              "      <td>Launched</td>\n",
              "    </tr>\n",
              "    <tr>\n",
              "      <th>64</th>\n",
              "      <td>manidipine</td>\n",
              "      <td>calcium channel blocker</td>\n",
              "      <td>CACNA1C, CACNA1D</td>\n",
              "      <td>Launched</td>\n",
              "    </tr>\n",
              "    <tr>\n",
              "      <th>65</th>\n",
              "      <td>nicardipine</td>\n",
              "      <td>calcium channel blocker</td>\n",
              "      <td>ADORA3</td>\n",
              "      <td>Launched</td>\n",
              "    </tr>\n",
              "    <tr>\n",
              "      <th>66</th>\n",
              "      <td>nifedipine</td>\n",
              "      <td>calcium channel blocker</td>\n",
              "      <td>CACNA1C, CACNA1D, CACNA1F, CACNA1H, CACNA1S, C...</td>\n",
              "      <td>Launched</td>\n",
              "    </tr>\n",
              "    <tr>\n",
              "      <th>67</th>\n",
              "      <td>nilvadipine</td>\n",
              "      <td>calcium channel blocker</td>\n",
              "      <td>CACNA1C, CACNA1D</td>\n",
              "      <td>Launched</td>\n",
              "    </tr>\n",
              "    <tr>\n",
              "      <th>68</th>\n",
              "      <td>nisoldipine</td>\n",
              "      <td>calcium channel blocker</td>\n",
              "      <td>CACNA1C, CACNA1D, CACNA1F, CACNA1S</td>\n",
              "      <td>Launched</td>\n",
              "    </tr>\n",
              "    <tr>\n",
              "      <th>69</th>\n",
              "      <td>nitrendipine</td>\n",
              "      <td>calcium channel blocker</td>\n",
              "      <td>CACNA1D, CACNA2D1, KCNN4</td>\n",
              "      <td>Launched</td>\n",
              "    </tr>\n",
              "    <tr>\n",
              "      <th>70</th>\n",
              "      <td>verapamil</td>\n",
              "      <td>calcium channel blocker</td>\n",
              "      <td>CACNA1A, CACNA1B, CACNA1C, CACNA1D, CACNA1F, C...</td>\n",
              "      <td>Launched</td>\n",
              "    </tr>\n",
              "  </tbody>\n",
              "</table>\n",
              "</div>"
            ],
            "text/plain": [
              "             Name  ...     Phase\n",
              "41     amlodipine  ...  Launched\n",
              "42   azelnidipine  ...  Launched\n",
              "43    barnidipine  ...  Launched\n",
              "44     benidipine  ...  Launched\n",
              "45       bepridil  ...  Launched\n",
              "46    cilnidipine  ...  Launched\n",
              "47    cinnarazine  ...  Launched\n",
              "48      cleviprex  ...  Launched\n",
              "49   cyclandelate  ...  Launched\n",
              "50     dantrolene  ...  Launched\n",
              "51      diltiazem  ...  Launched\n",
              "52    efonidipine  ...  Launched\n",
              "53     ethaverine  ...  Launched\n",
              "54     felodipine  ...  Launched\n",
              "55    flunarizine  ...  Launched\n",
              "56     gabapentin  ...  Launched\n",
              "57     isradipine  ...  Launched\n",
              "58     lacidipine  ...  Launched\n",
              "59  lercanidipine  ...  Launched\n",
              "60  levamlodipine  ...  Launched\n",
              "61  levetiracetam  ...  Launched\n",
              "62    lidoflazine  ...  Launched\n",
              "63     lomerizine  ...  Launched\n",
              "64     manidipine  ...  Launched\n",
              "65    nicardipine  ...  Launched\n",
              "66     nifedipine  ...  Launched\n",
              "67    nilvadipine  ...  Launched\n",
              "68    nisoldipine  ...  Launched\n",
              "69   nitrendipine  ...  Launched\n",
              "70      verapamil  ...  Launched\n",
              "\n",
              "[30 rows x 4 columns]"
            ]
          },
          "metadata": {
            "tags": []
          },
          "execution_count": 68
        }
      ]
    },
    {
      "cell_type": "markdown",
      "metadata": {
        "id": "dtF6eiFIiSDH"
      },
      "source": [
        "# Top 5 vias que mais aparecem relacionadas aos compostos/drogas"
      ]
    },
    {
      "cell_type": "code",
      "metadata": {
        "colab": {
          "base_uri": "https://localhost:8080/"
        },
        "id": "Hl3ongCzg4-_",
        "outputId": "44718805-4124-439a-af13-381449b31a6b"
      },
      "source": [
        "cod_vias = data['MOA'].value_counts().index[0:5]\n",
        "cod_vias"
      ],
      "execution_count": 75,
      "outputs": [
        {
          "output_type": "execute_result",
          "data": {
            "text/plain": [
              "Index(['calcium channel blocker', 'angiotensin converting enzyme inhibitor',\n",
              "       'angiotensin receptor antagonist', 'EGFR inhibitor', 'mTOR inhibitor'],\n",
              "      dtype='object')"
            ]
          },
          "metadata": {
            "tags": []
          },
          "execution_count": 75
        }
      ]
    },
    {
      "cell_type": "markdown",
      "metadata": {
        "id": "V7sdC_MlicAx"
      },
      "source": [
        "Top compostos "
      ]
    },
    {
      "cell_type": "code",
      "metadata": {
        "colab": {
          "base_uri": "https://localhost:8080/"
        },
        "id": "LLVSLp8BiMFC",
        "outputId": "42eba07a-2d36-4641-be11-ad0e82938414"
      },
      "source": [
        "cod_compostos = data['Name'].value_counts().index[0:10]\n",
        "cod_compostos"
      ],
      "execution_count": 97,
      "outputs": [
        {
          "output_type": "execute_result",
          "data": {
            "text/plain": [
              "Index(['axitinib', 'temsirolimus', 'amlodipine', 'nilvadipine', 'lidoflazine',\n",
              "       'nicardipine', 'olmesartan-medoxomil', 'moexipril', 'osimertinib',\n",
              "       'neratinib'],\n",
              "      dtype='object')"
            ]
          },
          "metadata": {
            "tags": []
          },
          "execution_count": 97
        }
      ]
    },
    {
      "cell_type": "code",
      "metadata": {
        "colab": {
          "base_uri": "https://localhost:8080/",
          "height": 410
        },
        "id": "H9nP6mwbixJh",
        "outputId": "3025788e-ef9a-4059-95b0-5240c2899969"
      },
      "source": [
        "data.query('Name in @cod_compostos')"
      ],
      "execution_count": 98,
      "outputs": [
        {
          "output_type": "execute_result",
          "data": {
            "text/html": [
              "<div>\n",
              "<style scoped>\n",
              "    .dataframe tbody tr th:only-of-type {\n",
              "        vertical-align: middle;\n",
              "    }\n",
              "\n",
              "    .dataframe tbody tr th {\n",
              "        vertical-align: top;\n",
              "    }\n",
              "\n",
              "    .dataframe thead th {\n",
              "        text-align: right;\n",
              "    }\n",
              "</style>\n",
              "<table border=\"1\" class=\"dataframe\">\n",
              "  <thead>\n",
              "    <tr style=\"text-align: right;\">\n",
              "      <th></th>\n",
              "      <th>Name</th>\n",
              "      <th>MOA</th>\n",
              "      <th>Genes</th>\n",
              "      <th>Phase</th>\n",
              "    </tr>\n",
              "  </thead>\n",
              "  <tbody>\n",
              "    <tr>\n",
              "      <th>12</th>\n",
              "      <td>moexipril</td>\n",
              "      <td>angiotensin converting enzyme inhibitor</td>\n",
              "      <td>ACE, ACE2</td>\n",
              "      <td>Launched</td>\n",
              "    </tr>\n",
              "    <tr>\n",
              "      <th>30</th>\n",
              "      <td>olmesartan-medoxomil</td>\n",
              "      <td>angiotensin receptor antagonist</td>\n",
              "      <td>AGTR1</td>\n",
              "      <td>Launched</td>\n",
              "    </tr>\n",
              "    <tr>\n",
              "      <th>41</th>\n",
              "      <td>amlodipine</td>\n",
              "      <td>calcium channel blocker</td>\n",
              "      <td>CACNA1C, CACNA1D, CACNA1F, CACNA1S, CACNA2D1</td>\n",
              "      <td>Launched</td>\n",
              "    </tr>\n",
              "    <tr>\n",
              "      <th>62</th>\n",
              "      <td>lidoflazine</td>\n",
              "      <td>calcium channel blocker</td>\n",
              "      <td>SCN1A, SCN3A, SLC29A1</td>\n",
              "      <td>Launched</td>\n",
              "    </tr>\n",
              "    <tr>\n",
              "      <th>65</th>\n",
              "      <td>nicardipine</td>\n",
              "      <td>calcium channel blocker</td>\n",
              "      <td>ADORA3</td>\n",
              "      <td>Launched</td>\n",
              "    </tr>\n",
              "    <tr>\n",
              "      <th>67</th>\n",
              "      <td>nilvadipine</td>\n",
              "      <td>calcium channel blocker</td>\n",
              "      <td>CACNA1C, CACNA1D</td>\n",
              "      <td>Launched</td>\n",
              "    </tr>\n",
              "    <tr>\n",
              "      <th>79</th>\n",
              "      <td>neratinib</td>\n",
              "      <td>EGFR inhibitor</td>\n",
              "      <td>EGFR, ERBB2, KDR</td>\n",
              "      <td>Launched</td>\n",
              "    </tr>\n",
              "    <tr>\n",
              "      <th>80</th>\n",
              "      <td>osimertinib</td>\n",
              "      <td>EGFR inhibitor</td>\n",
              "      <td>EGFR</td>\n",
              "      <td>Launched</td>\n",
              "    </tr>\n",
              "    <tr>\n",
              "      <th>98</th>\n",
              "      <td>temsirolimus</td>\n",
              "      <td>mTOR inhibitor</td>\n",
              "      <td>MTOR</td>\n",
              "      <td>Launched</td>\n",
              "    </tr>\n",
              "    <tr>\n",
              "      <th>101</th>\n",
              "      <td>axitinib</td>\n",
              "      <td>PDGFR tyrosine kinase receptor inhibitor, VEGF...</td>\n",
              "      <td>CSF1, FLT1, FLT4, KDR, PLK4</td>\n",
              "      <td>Launched</td>\n",
              "    </tr>\n",
              "  </tbody>\n",
              "</table>\n",
              "</div>"
            ],
            "text/plain": [
              "                     Name  ...     Phase\n",
              "12              moexipril  ...  Launched\n",
              "30   olmesartan-medoxomil  ...  Launched\n",
              "41             amlodipine  ...  Launched\n",
              "62            lidoflazine  ...  Launched\n",
              "65            nicardipine  ...  Launched\n",
              "67            nilvadipine  ...  Launched\n",
              "79              neratinib  ...  Launched\n",
              "80            osimertinib  ...  Launched\n",
              "98           temsirolimus  ...  Launched\n",
              "101              axitinib  ...  Launched\n",
              "\n",
              "[10 rows x 4 columns]"
            ]
          },
          "metadata": {
            "tags": []
          },
          "execution_count": 98
        }
      ]
    },
    {
      "cell_type": "code",
      "metadata": {
        "colab": {
          "base_uri": "https://localhost:8080/",
          "height": 257
        },
        "id": "sThVpZxGjF-d",
        "outputId": "4e6ca15b-3af9-40da-fe10-9af227c9f689"
      },
      "source": [
        "import seaborn as sns\n",
        "import matplotlib.pyplot as plt\n",
        "sns.set()\n",
        "plt.figure(figsize=(30, 8))\n",
        "ax = sns.countplot(x = 'MOA', data=data.query('Name in @cod_compostos'), palette='husl', hue='Name')\n",
        "ax.set_title('Top 10 compostos')\n",
        "plt.title(\"Top 10 drugs\", fontsize = 14)\n",
        "plt.xlabel(\"Pathways\", fontsize = 12)\n",
        "plt.ylabel(\"Number of drugs\", fontsize = 12)\n",
        "plt.show()\n",
        "\n",
        "# cores e paletas em https://seaborn.pydata.org/generated/seaborn.color_palette.html#seaborn.color_palette"
      ],
      "execution_count": 114,
      "outputs": [
        {
          "output_type": "display_data",
          "data": {
            "image/png": "[encoded data removed]",
            "text/plain": [
              "<Figure size 2160x576 with 1 Axes>"
            ]
          },
          "metadata": {
            "tags": []
          }
        }
      ]
    },
    {
      "cell_type": "code",
      "metadata": {
        "id": "Goa1798dsYP2"
      },
      "source": [
        ""
      ],
      "execution_count": null,
      "outputs": []
    }
  ]
}